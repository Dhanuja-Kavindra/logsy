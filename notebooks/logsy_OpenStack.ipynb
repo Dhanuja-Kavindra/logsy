{
  "cells": [
    {
      "cell_type": "markdown",
      "metadata": {
        "id": "NxcscygxQKNS"
      },
      "source": [
        "# **Anomaly Detection for BGL dataset**\n"
      ]
    },
    {
      "cell_type": "markdown",
      "metadata": {
        "id": "WkkgktabSyKZ"
      },
      "source": [
        "# Import libraries\n"
      ]
    },
    {
      "cell_type": "code",
      "execution_count": 2,
      "metadata": {
        "colab": {
          "base_uri": "https://localhost:8080/"
        },
        "id": "p-_F7uwWUcCf",
        "outputId": "381f6c61-adc7-4f03-fcb5-7a7fecb0a6a7"
      },
      "outputs": [
        {
          "output_type": "stream",
          "name": "stderr",
          "text": [
            "[nltk_data] Downloading package stopwords to /root/nltk_data...\n",
            "[nltk_data]   Unzipping corpora/stopwords.zip.\n",
            "[nltk_data] Downloading package punkt to /root/nltk_data...\n",
            "[nltk_data]   Unzipping tokenizers/punkt.zip.\n"
          ]
        }
      ],
      "source": [
        "import numpy as np\n",
        "import pandas as pd\n",
        "import math, copy, time\n",
        "import pickle\n",
        "import os\n",
        "import re\n",
        "\n",
        "import signal\n",
        "import nltk\n",
        "from nltk import word_tokenize\n",
        "from nltk.corpus import stopwords\n",
        "\n",
        "nltk.download('stopwords')\n",
        "nltk.download('punkt')\n",
        "\n",
        "from tqdm import trange\n",
        "\n",
        "import random\n",
        "import re\n",
        "\n",
        "import tensorflow.keras.backend as K\n",
        "from tensorflow.keras.layers import Layer\n",
        "from tensorflow.keras import layers\n",
        "from tensorflow.keras.callbacks import Callback\n",
        "import keras\n",
        "np.random.seed(0)\n"
      ]
    },
    {
      "cell_type": "markdown",
      "metadata": {
        "id": "IDM8RiW1Sc-N"
      },
      "source": [
        "# First enable GPU parallel execution"
      ]
    },
    {
      "cell_type": "code",
      "execution_count": 3,
      "metadata": {
        "id": "BCeoG8M467sp"
      },
      "outputs": [],
      "source": [
        "import tensorflow as tf\n",
        "mirrored_strategy = tf.distribute.MirroredStrategy()"
      ]
    },
    {
      "cell_type": "markdown",
      "metadata": {
        "id": "oYtNm7lES3Ng"
      },
      "source": [
        "# Mount dataset"
      ]
    },
    {
      "cell_type": "code",
      "execution_count": 4,
      "metadata": {
        "colab": {
          "base_uri": "https://localhost:8080/"
        },
        "id": "ME281tJIUOXa",
        "outputId": "aded0e5a-af3d-4d6f-d808-8b0b5be7094c"
      },
      "outputs": [
        {
          "output_type": "stream",
          "name": "stdout",
          "text": [
            "Mounted at /content/drive\n"
          ]
        }
      ],
      "source": [
        "from google.colab import drive\n",
        "drive.mount('/content/drive')\n",
        "\n",
        "# special to google colab | put your 4 Datasets into this path\n",
        "folder_path = '/content/drive/My Drive/LogSy'"
      ]
    },
    {
      "cell_type": "markdown",
      "metadata": {
        "id": "TpcmiFCpS6xQ"
      },
      "source": [
        "# Read in the datasets using preprocessor"
      ]
    },
    {
      "cell_type": "code",
      "execution_count": 5,
      "metadata": {
        "id": "5b8wEE-yrWCB"
      },
      "outputs": [],
      "source": [
        "\"\"\"\n",
        "Standard tokenizer + do what the paper says\n",
        "\"\"\"\n",
        "\"\"\"\n",
        "Do not run this script in Windows, it will not work due to use of signal\n",
        "\n",
        "We also use authors preprocessor to evaluate our model just in case we made something wrong here\n",
        "\"\"\"\n",
        "\n",
        "class TimeoutException(Exception):  # Custom exception class\n",
        "    pass\n",
        "\n",
        "\n",
        "def timeout_handler(signum, frame):  # Custom signal handler\n",
        "    raise TimeoutException\n",
        "\n",
        "\n",
        "# Change the behavior of SIGALRM\n",
        "signal.signal(signal.SIGALRM, timeout_handler)\n",
        "\n",
        "\n",
        "class DataTokenizer:\n",
        "    def __init__(self):\n",
        "        self.word2index = {'[PAD]': 0, '[CLS]': 1, '[MASK]': 2}\n",
        "        self.num_words = 3\n",
        "        self.stop_words = set(stopwords.words('english'))\n",
        "\n",
        "    def tokenize(self, message):\n",
        "        # paper section IV: Tokenization processing\n",
        "        message = message.lower()\n",
        "        message = re.sub(r'/.*:', '', message, flags=re.MULTILINE)  # filter for endpoints\n",
        "        message = re.sub(r'/.*', '', message, flags=re.MULTILINE)\n",
        "        message = word_tokenize(message)  # remove non words\n",
        "        message = (word for word in message if word.isalpha())  # generator  # remove numerical\n",
        "        message = [word for word in message if word not in self.stop_words]  # remove nltk common stopwords\n",
        "        message = ['[CLS]'] + message  # add embedding token\n",
        "        for word_idx, word in enumerate(message):  # convert to value\n",
        "            if word not in self.word2index:\n",
        "                self.word2index[word] = self.num_words\n",
        "                self.num_words += 1\n",
        "            message[word_idx] = self.word2index[word]\n",
        "        return message\n",
        "tokenizer = DataTokenizer()\n",
        "\n",
        "from tqdm.auto import tqdm\n",
        "class DataImporter:\n",
        "    \"\"\"\n",
        "    loads data set from the raw dataset\n",
        "    \"\"\"\n",
        "\n",
        "    def __init__(self, log_template, dataset_folder_path, dataset_name, dataset_step=1,\n",
        "                 dataset_limit=100000, dataset_type='main', normal_indicator: str = '-', aux_count=50000,\n",
        "                 chunk: bool = True):\n",
        "        self.log_template = log_template  # a template containing <Token{n}> and <Message>\n",
        "        self.log_dataframe = None\n",
        "        self.dataset_folder_path: str = dataset_folder_path  # path to the dataset folder\n",
        "        self.dataset_name: str = dataset_name  # full name of raw dataset\n",
        "        self.step: int = dataset_step  # step taken to sample auxiliary dataset\n",
        "        self.log_template_regex: re = re.compile(r'')\n",
        "        self.log_template_headers: list[str] = []\n",
        "        self.limit: int = dataset_limit  # used for faster experiment only\n",
        "        self.dataset_type: str = dataset_type\n",
        "        self.normal_indicator: str = normal_indicator  # a sign indicating the log line is anomaly\n",
        "        self.aux_count: int = aux_count\n",
        "        self.chunk: bool = chunk\n",
        "\n",
        "    def log_loader(self):\n",
        "        \"\"\"\n",
        "        read from IO stream and only take the actual log message based on template\n",
        "        :return:\n",
        "        \"\"\"\n",
        "        log_messages = []\n",
        "        true_labels = []\n",
        "        with open(os.path.join(self.dataset_folder_path, self.dataset_name), 'r', encoding=\"latin-1\") as ds:\n",
        "            for line_no, line in enumerate(tqdm(ds, miniters=1)):\n",
        "                if line_no != 1 and line_no % 20000000 == 1:  # 15 file chunks\n",
        "                    with open(f'dataset/tbird/{self.dataset_name}_chunked_msg_line{line_no}', 'wb') as message_file:\n",
        "                        # print(log_messages)\n",
        "                        # log_messages_array = np.asanyarray(log_messages).reshape(-1, 1)\n",
        "                        print(len(log_messages))\n",
        "                        l = len(log_messages)\n",
        "                        tokenized = [tokenizer.tokenize(log_message) for log_message in\n",
        "                                     tqdm(log_messages, position=0, leave=True, total=l)]\n",
        "                        tokenized_np = np.asanyarray(tokenized)\n",
        "                        del tokenized\n",
        "                        pickle.dump(tokenized_np, message_file)\n",
        "                        log_messages = []  # reset\n",
        "                # Start the timer. Once 10 seconds are over, a SIGALRM signal is sent.\n",
        "                try:\n",
        "                    try:\n",
        "                        signal.alarm(30)\n",
        "\n",
        "                        match = self.log_template_regex.search(line.strip())\n",
        "\n",
        "                        if not match:\n",
        "                            continue\n",
        "                        label_decider = lambda x: 0 if x == self.normal_indicator else 1\n",
        "                        true_labels.append(label_decider(match.group('Token0')))\n",
        "                        # message = tokenizer.tokenize(match.group('Message'))\n",
        "                        # log_messages.append(message)\n",
        "                        log_messages.append(match.group('Message'))\n",
        "                        # print('message after tokenize ', message, log_messages)\n",
        "                        # print(self.log_template_headers)\n",
        "                    except Exception as e:  # noqa\n",
        "                        print(e)\n",
        "                        # print(e) # will skip those without normal indications('-' OR 'warn')\n",
        "                        pass\n",
        "                except TimeoutException:\n",
        "                    print(\"Regex hang detected, skipping\")\n",
        "                    continue  # catastrophic backtracking\n",
        "                else:\n",
        "                    signal.alarm(0)\n",
        "                if line_no == self.limit:\n",
        "                    break\n",
        "        return log_messages, np.array(true_labels)  # remaining log_messages and all of labels\n",
        "\n",
        "    def load(self):\n",
        "        self.log_template_matcher()\n",
        "\n",
        "        self.log_dataframe = self.log_loader()\n",
        "\n",
        "\n",
        "    def log_template_matcher(self):\n",
        "        headers = []\n",
        "        splitters = re.split(r'(<[^<>]+>)', self.log_template)\n",
        "        regex = ''\n",
        "        for k in range(len(splitters)):\n",
        "            if k % 2 == 0:\n",
        "                splitter = re.sub(' +', '\\\\\\s+', splitters[k])\n",
        "                regex += splitter\n",
        "            else:\n",
        "                header = splitters[k].strip('<').strip('>')\n",
        "                regex += '(?P<%s>.+?)' % header\n",
        "                headers.append(header)\n",
        "        print(regex)\n",
        "        regex = re.compile('^' + regex + '$')\n",
        "\n",
        "        self.log_template_headers, self.log_template_regex = headers, regex"
      ]
    },
    {
      "cell_type": "code",
      "execution_count": 6,
      "metadata": {
        "id": "QmysvQ57IyFV"
      },
      "outputs": [],
      "source": [
        "# original authors' data processor\n",
        "class LogReader:\n",
        "    def __init__(self, log_format, log_name, indir='./', outdir='./result/', rex=[], every_n=10, max_lines=2000000):\n",
        "        self.path = indir\n",
        "        self.logName = log_name\n",
        "        self.savePath = outdir\n",
        "        self.df_log = None\n",
        "        self.log_format = log_format\n",
        "        self.rex = rex\n",
        "        self.every_n = every_n\n",
        "        self.max_lines = max_lines\n",
        "\n",
        "    def log_to_dataframe(self, log_file, regex, headers, logformat):\n",
        "        \"\"\" Function to transform log file to dataframe \"\"\"\n",
        "        log_messages = []\n",
        "        linecount = 0\n",
        "\n",
        "        if self.max_lines:\n",
        "            with open(log_file, 'r', encoding=\"latin-1\") as fin:\n",
        "                for i, line in enumerate(fin):\n",
        "                    if i % self.every_n == 0:\n",
        "                        try:\n",
        "                            match = regex.search(line.strip())\n",
        "                            message = [match.group(header) for header in headers]\n",
        "                            log_messages.append(message)\n",
        "                            linecount += 1\n",
        "                        except Exception as e:\n",
        "                            pass\n",
        "                    if i == self.max_lines:\n",
        "                        break\n",
        "        else:\n",
        "            with open(log_file, 'r', encoding=\"latin-1\") as fin:\n",
        "                for i, line in enumerate(fin):\n",
        "                    if i % self.every_n == 0:\n",
        "                        try:\n",
        "                            match = regex.search(line.strip())\n",
        "                            message = [match.group(header) for header in headers]\n",
        "                            log_messages.append(message)\n",
        "                            linecount += 1\n",
        "                        except Exception as e:\n",
        "                            pass\n",
        "\n",
        "        logdf = pd.DataFrame(log_messages, columns=headers)\n",
        "        if 'LineId' not in logdf.columns:\n",
        "          logdf.insert(0, 'LineId', None)\n",
        "          logdf['LineId'] = [i + 1 for i in range(linecount)]\n",
        "\n",
        "        return logdf\n",
        "\n",
        "    def generate_logformat_regex(self, logformat):\n",
        "        \"\"\" Function to generate regular expression to split log messages \"\"\"\n",
        "        headers = []\n",
        "        splitters = re.split(r'(<[^<>]+>)', logformat)\n",
        "        regex = ''\n",
        "        for k in range(len(splitters)):\n",
        "            if k % 2 == 0:\n",
        "                splitter = re.sub(' +', '\\\\\\s+', splitters[k])\n",
        "                regex += splitter\n",
        "            else:\n",
        "                header = splitters[k].strip('<').strip('>')\n",
        "                regex += '(?P<%s>.*?)' % header\n",
        "                headers.append(header)\n",
        "        regex = re.compile('^' + regex + '$')\n",
        "        return headers, regex\n",
        "\n",
        "    def load_data(self):\n",
        "        headers, regex = self.generate_logformat_regex(self.log_format)\n",
        "        self.df_log = self.log_to_dataframe(os.path.join(self.path, self.logName), regex, headers, self.log_format)\n",
        "\n",
        "# LogTokenizer class for tokenizing log content\n",
        "class LogTokenizer:\n",
        "    def __init__(self):\n",
        "        self.word2index = {'[PAD]': 0, '[CLS]': 1, '[MASK]': 2}\n",
        "        self.index2word = {0: '[PAD]', 1: '[CLS]', 2: '[MASK]'}\n",
        "        self.n_words = 3  # Count special tokens\n",
        "        self.stop_words = set(stopwords.words('english'))\n",
        "        self.regextokenizer = nltk.RegexpTokenizer('\\w+|.|')\n",
        "\n",
        "    def addWord(self, word):\n",
        "        if word not in self.word2index:\n",
        "            self.word2index[word] = self.n_words\n",
        "            self.index2word[self.n_words] = word\n",
        "            self.n_words += 1\n",
        "\n",
        "    def tokenize(self, sent):\n",
        "        sent = re.sub(r'\\/.*:', '', sent, flags=re.MULTILINE)\n",
        "        sent = re.sub(r'\\/.*', '', sent, flags=re.MULTILINE)\n",
        "        sent = self.regextokenizer.tokenize(sent)\n",
        "        sent = [w.lower() for w in sent]\n",
        "        sent = [word for word in sent if word.isalpha()]\n",
        "        sent = [w for w in sent if not w in self.stop_words]\n",
        "        sent = ['[CLS]'] + sent\n",
        "        for w in range(len(sent)):\n",
        "            self.addWord(sent[w])\n",
        "            sent[w] = self.word2index[sent[w]]\n",
        "        return sent\n",
        "\n",
        "# Function to load general datasets\n",
        "def get_data(log_file, input_dir, output_dir, log_format, regex=[], every_n=10, aux=0, max_lines=5000000):\n",
        "    reader = LogReader(log_format, log_file, indir=input_dir, outdir=output_dir, rex=regex, every_n=every_n, max_lines=max_lines)\n",
        "    reader.load_data()\n",
        "    log_payload, true_labels = reader.df_log.Content, np.where(reader.df_log.t.values == '-', 0, 1)\n",
        "    del reader\n",
        "    if aux != 0:\n",
        "        df_anomalies = log_payload.iloc[true_labels.flatten() == 1].sample(n=aux).values\n",
        "        df_normal = log_payload.iloc[true_labels.flatten() == 0].sample(n=aux).values\n",
        "        return df_normal, df_anomalies\n",
        "    else:\n",
        "        return log_payload, true_labels\n",
        "\n",
        "# Function to load special datasets\n",
        "def get_data_special(log_file, input_dir, output_dir, log_format, regex=[], every_n=10, aux=0, max_lines=2000000):\n",
        "    reader = LogReader(log_format, log_file, indir=input_dir, outdir=output_dir, rex=regex, every_n=every_n, max_lines=max_lines)\n",
        "    reader.load_data()\n",
        "    log_payload, true_labels = reader.df_log.Content, np.where(reader.df_log.t.values != 'FATAL', 0, 1)\n",
        "    del reader\n",
        "\n",
        "    return log_payload, true_labels\n",
        "\n",
        "# New function to load HDFS dataset\n",
        "def get_data_openstack(log_file, input_dir, output_dir, log_format, regex=[], every_n=1, max_lines=5000000):\n",
        "    reader = LogReader(log_format, log_file, indir=input_dir, outdir=output_dir, rex=regex, every_n=every_n, max_lines=max_lines)\n",
        "    reader.load_data()\n",
        "\n",
        "    # Clean the Label column\n",
        "    reader.df_log['Label'] = reader.df_log['Label'].apply(lambda x: x.split(';')[-1])\n",
        "    print(reader.df_log['Label'].value_counts())  # Debugging: Verify cleaned labels\n",
        "\n",
        "    # Retain rows with valid labels only\n",
        "    valid_labels = ['Normal', 'Anomaly']\n",
        "    reader.df_log = reader.df_log[reader.df_log['Label'].isin(valid_labels)]\n",
        "\n",
        "    # Map labels to binary values\n",
        "    log_payload, true_labels = reader.df_log.Content, np.where(reader.df_log.Label == 'Normal', 0, 1)\n",
        "\n",
        "    del reader\n",
        "    return log_payload, true_labels\n"
      ]
    },
    {
      "cell_type": "markdown",
      "metadata": {
        "id": "941425gnirAp"
      },
      "source": [
        "\n",
        "\n",
        "# First 3 aux datasets"
      ]
    },
    {
      "cell_type": "code",
      "execution_count": 7,
      "metadata": {
        "collapsed": true,
        "id": "dZr6kGpZUcCj"
      },
      "outputs": [],
      "source": [
        "log_file = 'spirit_small'\n",
        "input_dir  = folder_path\n",
        "output_dir = '.'\n",
        "log_format = '<t> <Timestamp> <Date> <User> <Month> <Day> <Time> <Location> <Content>'  #spirit2\n",
        "\n",
        "aux_normal, aux_anomalies = get_data(log_file, input_dir, output_dir, log_format, every_n=1, aux=200000, max_lines=False) # use 200000 when its tbird2 small (5m)"
      ]
    },
    {
      "cell_type": "code",
      "execution_count": 8,
      "metadata": {
        "id": "LfyuPftFUcCj",
        "scrolled": true
      },
      "outputs": [],
      "source": [
        "log_file = 'tbird2_small' # small meaning the dataset using only first 5m, note model doesn't converge well when sampling 5m instead of first 5m even if using original authors code\n",
        "input_dir  = folder_path\n",
        "log_format = '<t> <Timestamp> <Date> <User> <Month> <Day> <Time> <Location> <Component>(\\[<PID>\\])?: <Content>'  #thunderbird\n",
        "output_dir = '.'\n",
        "every_n = 1\n",
        "aux_size = 200000\n",
        "aux_normal1, aux_anomalies1= get_data(log_file, input_dir, output_dir, log_format, every_n=1, aux=200000, max_lines=False)\n"
      ]
    },
    {
      "cell_type": "code",
      "execution_count": 9,
      "metadata": {
        "id": "LdSU3380UcCk"
      },
      "outputs": [],
      "source": [
        "log_file = 'Intrepid_RAS_0901_0908_scrubbed' # this one cannot be used as target, its too obvious\n",
        "input_dir  = folder_path\n",
        "output_dir = '.'\n",
        "log_format = '<f> <a>          <c>       <d>                  <e>    <t> <Content>'  #BGP\n",
        "aux_anomalies_t, tl = get_data_special(log_file, input_dir, output_dir, log_format, every_n=1, aux=False, max_lines=False)\n",
        "aux_normal2, aux_anomalies2  = aux_anomalies_t[tl==1], aux_anomalies_t[tl==0] # reverse this [TODO]\n"
      ]
    },
    {
      "cell_type": "markdown",
      "metadata": {
        "id": "oudsVRz7TL32"
      },
      "source": [
        "## Concat the auxiliary datasets to one single piece, then sample if it was more than a threshold\n"
      ]
    },
    {
      "cell_type": "code",
      "execution_count": 10,
      "metadata": {
        "id": "taWdIBBLUcCl"
      },
      "outputs": [],
      "source": [
        "# concatenate\n",
        "aux_anomalies = np.append(aux_anomalies, aux_anomalies1)\n",
        "aux_anomalies_full = np.append(aux_anomalies, aux_anomalies2)"
      ]
    },
    {
      "cell_type": "code",
      "execution_count": 11,
      "metadata": {
        "id": "a04tdsT-UcCl"
      },
      "outputs": [],
      "source": [
        "# sample\n",
        "if aux_anomalies.shape[0] > 500000:\n",
        "  aux_anomalies = np.random.choice(aux_anomalies_full, size=500000, replace=False)  # changing size doesn't seem to change results\n",
        "  print(f\"Selected {aux_anomalies.shape} samples out of {len(aux_anomalies_full)} aux samples\")"
      ]
    },
    {
      "cell_type": "markdown",
      "metadata": {
        "id": "beUJ6Ow_PQhD"
      },
      "source": [
        "# Then target dataset - switch with aux if you need to evaluate different target"
      ]
    },
    {
      "cell_type": "code",
      "source": [
        "# Specify the BGL log file details\n",
        "#read the datasets\n",
        "log_file = 'merged_openstack_logs.csv' # first 5 million, note bgl only has 5m when full dataset\n",
        "input_dir  = folder_path  # The input directory of log file\n",
        "output_dir = '.'  # The output directory of parsing results\n",
        "log_format = '<LogRecord>;<Date>;<Time>;<Pid>;<Level>;<Component>;<Address>;<Content>;<Label>'  #OpenStack\n",
        "\n",
        "# Load the HDFS dataset using the custom function\n",
        "log_payload, true_labels = get_data_openstack(log_file, input_dir, output_dir, log_format, every_n=1, max_lines=5000000)\n",
        "\n",
        "# Print some basic details about the dataset\n",
        "print(f\"Total logs: {len(log_payload)}\")\n",
        "print(f\"Anomalous logs: {np.sum(true_labels)}\")\n",
        "print(f\"Normal logs: {len(true_labels) - np.sum(true_labels)}\")\n"
      ],
      "metadata": {
        "colab": {
          "base_uri": "https://localhost:8080/"
        },
        "id": "9eUBMCLn6TEG",
        "outputId": "248aaea3-de8c-45eb-b40a-3ff2543286dd"
      },
      "execution_count": 12,
      "outputs": [
        {
          "output_type": "stream",
          "name": "stdout",
          "text": [
            "Label\n",
            "Normal     189202\n",
            "Anomaly     18434\n",
            "Label           1\n",
            "Name: count, dtype: int64\n",
            "Total logs: 207636\n",
            "Anomalous logs: 18434\n",
            "Normal logs: 189202\n"
          ]
        }
      ]
    },
    {
      "cell_type": "code",
      "execution_count": null,
      "metadata": {
        "id": "eIkTZFuQWuvq"
      },
      "outputs": [],
      "source": [
        "### Never shuffle the data here, or there will be info leak"
      ]
    },
    {
      "cell_type": "code",
      "execution_count": 13,
      "metadata": {
        "colab": {
          "base_uri": "https://localhost:8080/"
        },
        "id": "H4c-K9T7UcCm",
        "outputId": "6e2d85d2-0f59-43e0-83bd-151640d28684"
      },
      "outputs": [
        {
          "output_type": "execute_result",
          "data": {
            "text/plain": [
              "207636"
            ]
          },
          "metadata": {},
          "execution_count": 13
        }
      ],
      "source": [
        "df_size = len(log_payload)\n",
        "df_size"
      ]
    },
    {
      "cell_type": "code",
      "source": [
        "true_labels = true_labels.reshape(-1,1)"
      ],
      "metadata": {
        "id": "xRQXkG4JV1gX"
      },
      "execution_count": 14,
      "outputs": []
    },
    {
      "cell_type": "code",
      "execution_count": 15,
      "metadata": {
        "id": "ufdIgBLJUcCn",
        "colab": {
          "base_uri": "https://localhost:8080/"
        },
        "outputId": "f2f03a4a-1dd4-4e04-fb52-4880bf442904"
      },
      "outputs": [
        {
          "output_type": "stream",
          "name": "stdout",
          "text": [
            "log shape (607636, 1), log labels shape (607636,)\n"
          ]
        }
      ],
      "source": [
        "#append the anomalies to the full data\n",
        "log_payload = np.append(log_payload.values.reshape(-1,1), aux_anomalies.reshape(-1,1), axis=0)\n",
        "true_labels = np.append(true_labels, np.ones(len(aux_anomalies)).reshape(-1,1), axis=0).flatten()\n",
        "print(f'log shape {log_payload.shape}, log labels shape {true_labels.shape}')"
      ]
    },
    {
      "cell_type": "markdown",
      "metadata": {
        "id": "MrQp5QZxXy-Z"
      },
      "source": [
        "# Tokenize!"
      ]
    },
    {
      "cell_type": "code",
      "execution_count": 16,
      "metadata": {
        "colab": {
          "base_uri": "https://localhost:8080/"
        },
        "id": "3O2uU67VUcCo",
        "outputId": "a6ff07b0-e117-43b3-ee7d-70742223e049",
        "scrolled": true
      },
      "outputs": [
        {
          "output_type": "stream",
          "name": "stderr",
          "text": [
            "100%|██████████| 607636/607636 [00:08<00:00, 71166.60it/s]\n"
          ]
        }
      ],
      "source": [
        "\n",
        "tokenizer = LogTokenizer()\n",
        "df_len = int(log_payload.shape[0]) # the num of logs\n",
        "data_tokenized = []\n",
        "for i in trange(df_len):\n",
        "    tokenized = tokenizer.tokenize(log_payload[i][0])\n",
        "    data_tokenized.append(tokenized)"
      ]
    },
    {
      "cell_type": "code",
      "execution_count": 17,
      "metadata": {
        "id": "RtWHQxFmRbTK"
      },
      "outputs": [],
      "source": [
        "# pickle to file\n",
        "with open('tokenized','wb') as tokenized_file:\n",
        "  pickle.dump(data_tokenized, tokenized_file)"
      ]
    },
    {
      "cell_type": "code",
      "execution_count": 18,
      "metadata": {
        "id": "dTfbilkfUl2q"
      },
      "outputs": [],
      "source": [
        "# save it for multiple executions with different split rate\n",
        "with open('tokenized','rb') as token:\n",
        "  data_tokenized = pickle.load(token)"
      ]
    },
    {
      "cell_type": "code",
      "execution_count": 19,
      "metadata": {
        "id": "3cWcsFTUUcCo"
      },
      "outputs": [],
      "source": [
        "data_token_indexed = np.asanyarray(data_tokenized, dtype=object)"
      ]
    },
    {
      "cell_type": "markdown",
      "metadata": {
        "id": "PTrvJUVgaxWl"
      },
      "source": [
        "#Standard transformer encoder with multi-head *attention*"
      ]
    },
    {
      "cell_type": "code",
      "execution_count": 20,
      "metadata": {
        "id": "iMyZcAlm9rKW"
      },
      "outputs": [],
      "source": [
        "class TransformerEncoder(layers.Layer): # standard tensformer encoder\n",
        "    def __init__(self, embed_dim, num_heads, dense_dim, **kwargs):\n",
        "        super(TransformerEncoder, self).__init__(**kwargs)\n",
        "        self.embed_dim = embed_dim\n",
        "        self.dense_dim = dense_dim\n",
        "        self.num_heads = num_heads\n",
        "        self.attention = layers.MultiHeadAttention(\n",
        "            num_heads=num_heads, key_dim=embed_dim,dropout=0.1\n",
        "        )\n",
        "        self.dense_proj = keras.Sequential(\n",
        "            [layers.Dense(dense_dim, activation=\"relu\"), layers.Dense(embed_dim),]\n",
        "        )\n",
        "        self.layernorm_1 = layers.LayerNormalization()\n",
        "        self.layernorm_2 = layers.LayerNormalization()\n",
        "        self.supports_masking = True\n",
        "        self.dropout1 = layers.Dropout(0.05)\n",
        "        self.dropout2 = layers.Dropout(0.05)\n",
        "\n",
        "    def call(self, inputs, training, mask=None):\n",
        "        padding_mask = None # Initialize padding_mask to None\n",
        "        if mask is not None:\n",
        "            padding_mask = tf.cast(mask[:, tf.newaxis, tf.newaxis, :], dtype=\"int32\")\n",
        "        attention_output = self.attention(\n",
        "            query=inputs, value=inputs, key=inputs, attention_mask=padding_mask\n",
        "        )\n",
        "        attention_output = self.dropout1(attention_output, training=training)\n",
        "        proj_input = self.layernorm_1(inputs + attention_output)\n",
        "        proj_output = self.dense_proj(proj_input)\n",
        "        proj_output = self.dropout2(proj_output, training=training)\n",
        "        return self.layernorm_2(proj_input + proj_output)\n",
        "\n",
        "\n",
        "class PositionalEmbedding(layers.Layer):\n",
        "    def __init__(self, sequence_length, vocab_size, embed_dim, **kwargs):\n",
        "        super(PositionalEmbedding, self).__init__(**kwargs)\n",
        "        self.token_embeddings = layers.Embedding(\n",
        "            input_dim=vocab_size, output_dim=embed_dim\n",
        "        )\n",
        "        self.position_embeddings = layers.Embedding(\n",
        "            input_dim=sequence_length, output_dim=embed_dim\n",
        "        )\n",
        "        self.sequence_length = sequence_length\n",
        "        self.vocab_size = vocab_size\n",
        "        self.embed_dim = embed_dim\n",
        "\n",
        "    def call(self, inputs):\n",
        "        length = tf.shape(inputs)[-1]\n",
        "        positions = tf.range(start=0, limit=length, delta=1)\n",
        "        embedded_tokens = self.token_embeddings(inputs)\n",
        "        embedded_positions = self.position_embeddings(positions)\n",
        "        return embedded_tokens + embedded_positions\n",
        "\n",
        "    def compute_mask(self, inputs, mask=None):\n",
        "        return tf.math.not_equal(inputs, 0)\n",
        "\n"
      ]
    },
    {
      "cell_type": "markdown",
      "metadata": {
        "id": "reKk7is8YJzk"
      },
      "source": [
        "# IMPORTANT: CHANGE TRAIN TEST SPLIT RATIO HERE"
      ]
    },
    {
      "cell_type": "code",
      "execution_count": 50,
      "metadata": {
        "id": "u6AsfBzEPscK"
      },
      "outputs": [],
      "source": [
        "ratio = 0.2 # change from 0.1 0.2 0.4 0.6 0.8 its not always 0.8 performas better than 0.1"
      ]
    },
    {
      "cell_type": "code",
      "execution_count": 51,
      "metadata": {
        "colab": {
          "base_uri": "https://localhost:8080/"
        },
        "id": "xhHKoqiAUcCo",
        "outputId": "3a4668b5-dd34-4cb5-fe82-8ae36e95865e"
      },
      "outputs": [
        {
          "output_type": "stream",
          "name": "stdout",
          "text": [
            "607636 121527\n",
            "Train size proportional to total logs - 0.19999967085557802\n"
          ]
        }
      ],
      "source": [
        "# Determine total dataset size and train size\n",
        "df_size = len(data_token_indexed)  # Assuming data_token_indexed is already defined\n",
        "train_size = round(df_size * ratio)\n",
        "print(df_size, train_size)\n",
        "print(f\"Train size proportional to total logs - {train_size/df_size}\")"
      ]
    },
    {
      "cell_type": "code",
      "execution_count": 52,
      "metadata": {
        "colab": {
          "base_uri": "https://localhost:8080/"
        },
        "id": "j2t94hDsUcCo",
        "outputId": "bd4dc9cb-432a-4e1e-8f1d-40b215cef652"
      },
      "outputs": [
        {
          "output_type": "stream",
          "name": "stdout",
          "text": [
            "Train ground labels 0 1 counter Counter({0.0: 121527, 1.0: 91145})\n",
            "Test ground labels 0 1 counter Counter({1.0: 327289, 0.0: 67675})\n",
            "(394964,) (212672,) (212672,) (394964,)\n",
            "Total Unique Logs in Train: 1687\n",
            "Total Unique Logs in Test: 899\n",
            "Shared Logs Between Train & Test: 85\n",
            "Exclusive Test Logs (Unseen in Train): 814\n"
          ]
        }
      ],
      "source": [
        "from collections import Counter\n",
        "\n",
        "\n",
        "# Step 1: Extract Normal and Anomaly Logs\n",
        "normal_logs = data_token_indexed[true_labels == 0]\n",
        "anomaly_logs = data_token_indexed[true_labels == 1]\n",
        "\n",
        "# Step 2: Ensure a Balanced Split with Unique Test Logs\n",
        "num_samples_train = min(len(normal_logs[:train_size]), len(anomaly_logs[:train_size]))  # Use min count to balance\n",
        "\n",
        "# Keep **75% of anomalies** for training, leave **25% for testing**\n",
        "train_anomaly_count = int(num_samples_train * 0.75)\n",
        "test_anomaly_count = len(anomaly_logs) - train_anomaly_count  # Keep remaining for testing\n",
        "\n",
        "# Ensure test set gets **some unique logs**\n",
        "train_normal_logs = normal_logs[:num_samples_train]  # Take a portion of normal logs for training\n",
        "test_normal_logs = normal_logs[num_samples_train:]  # Leave remaining normal logs for testing\n",
        "\n",
        "train_anomaly_logs = anomaly_logs[:train_anomaly_count]  # 75% anomalies for training\n",
        "test_anomaly_logs = anomaly_logs[train_anomaly_count:]  # 25% anomalies for testing\n",
        "\n",
        "# Merge into train and test datasets\n",
        "data_token_indexed_train = np.append(train_normal_logs, train_anomaly_logs, axis=0)\n",
        "train_ground_labels = np.append(np.zeros(len(train_normal_logs)), np.ones(len(train_anomaly_logs)), axis=0)\n",
        "\n",
        "data_token_indexed_test = np.append(test_normal_logs, test_anomaly_logs, axis=0)\n",
        "test_ground_labels = np.append(np.zeros(len(test_normal_logs)), np.ones(len(test_anomaly_logs)), axis=0)\n",
        "\n",
        "# Step 3: Verify Unique Logs Between Train & Test\n",
        "train_unique_logs = np.unique(data_token_indexed_train)\n",
        "test_unique_logs = np.unique(data_token_indexed_test)\n",
        "\n",
        "shared_logs = np.intersect1d(train_unique_logs, test_unique_logs, assume_unique=True)\n",
        "exclusive_test_logs = len(test_unique_logs) - len(shared_logs)\n",
        "\n",
        "print(f\"Train ground labels 0 1 counter {Counter(train_ground_labels)}\")\n",
        "print(f\"Test ground labels 0 1 counter {Counter(test_ground_labels)}\")\n",
        "print(data_token_indexed_test.shape, data_token_indexed_train.shape, train_ground_labels.shape, test_ground_labels.shape)\n",
        "\n",
        "print(f\"Total Unique Logs in Train: {len(train_unique_logs)}\")\n",
        "print(f\"Total Unique Logs in Test: {len(test_unique_logs)}\")\n",
        "print(f\"Shared Logs Between Train & Test: {len(shared_logs)}\")\n",
        "print(f\"Exclusive Test Logs (Unseen in Train): {exclusive_test_logs}\")\n",
        "\n",
        "\n"
      ]
    },
    {
      "cell_type": "code",
      "source": [
        "print(\"Test set class distribution BEFORE filtering:\", Counter(true_labels[train_size:df_size]))\n"
      ],
      "metadata": {
        "colab": {
          "base_uri": "https://localhost:8080/"
        },
        "id": "Eyo3j8mLPIiX",
        "outputId": "6dfec803-f5f9-4179-ec2e-9e368473639f"
      },
      "execution_count": 53,
      "outputs": [
        {
          "output_type": "stream",
          "name": "stdout",
          "text": [
            "Test set class distribution BEFORE filtering: Counter({1.0: 400000, 0.0: 86109})\n"
          ]
        }
      ]
    },
    {
      "cell_type": "code",
      "execution_count": 25,
      "metadata": {
        "colab": {
          "base_uri": "https://localhost:8080/"
        },
        "id": "JxfyBl3qeM5P",
        "outputId": "93921784-2056-4296-a92f-d9bcad11eaeb"
      },
      "outputs": [
        {
          "output_type": "stream",
          "name": "stdout",
          "text": [
            "Collecting Keras-Preprocessing\n",
            "  Downloading Keras_Preprocessing-1.1.2-py2.py3-none-any.whl.metadata (1.9 kB)\n",
            "Requirement already satisfied: numpy>=1.9.1 in /usr/local/lib/python3.11/dist-packages (from Keras-Preprocessing) (1.26.4)\n",
            "Requirement already satisfied: six>=1.9.0 in /usr/local/lib/python3.11/dist-packages (from Keras-Preprocessing) (1.17.0)\n",
            "Downloading Keras_Preprocessing-1.1.2-py2.py3-none-any.whl (42 kB)\n",
            "\u001b[?25l   \u001b[90m━━━━━━━━━━━━━━━━━━━━━━━━━━━━━━━━━━━━━━━━\u001b[0m \u001b[32m0.0/42.6 kB\u001b[0m \u001b[31m?\u001b[0m eta \u001b[36m-:--:--\u001b[0m\r\u001b[2K   \u001b[90m━━━━━━━━━━━━━━━━━━━━━━━━━━━━━━━━━━━━━━━━\u001b[0m \u001b[32m42.6/42.6 kB\u001b[0m \u001b[31m3.2 MB/s\u001b[0m eta \u001b[36m0:00:00\u001b[0m\n",
            "\u001b[?25hInstalling collected packages: Keras-Preprocessing\n",
            "Successfully installed Keras-Preprocessing-1.1.2\n"
          ]
        }
      ],
      "source": [
        "!pip install Keras-Preprocessing\n"
      ]
    },
    {
      "cell_type": "code",
      "execution_count": 54,
      "metadata": {
        "colab": {
          "base_uri": "https://localhost:8080/"
        },
        "id": "_5sxljzWUcCp",
        "outputId": "cc1a4955-ea87-4570-e653-c1ddf8b1f7af"
      },
      "outputs": [
        {
          "output_type": "stream",
          "name": "stdout",
          "text": [
            "(212672, 50) (394964, 50)\n",
            "[1 3 0 0 0 0 0 0 0 0 0 0 0 0 0 0 0 0 0 0 0 0 0 0 0 0 0 0 0 0 0 0 0 0 0 0 0\n",
            " 0 0 0 0 0 0 0 0 0 0 0 0 0]\n",
            "(212672, 50) (212672,) (394964, 50) (394964,)\n",
            "tf.Tensor(\n",
            "[[False False  True ...  True  True  True]\n",
            " [False False  True ...  True  True  True]\n",
            " [False False  True ...  True  True  True]\n",
            " ...\n",
            " [False False False ...  True  True  True]\n",
            " [False False False ...  True  True  True]\n",
            " [False False False ...  True  True  True]], shape=(212672, 50), dtype=bool) tf.Tensor(\n",
            "[[False False False ...  True  True  True]\n",
            " [False False  True ...  True  True  True]\n",
            " [False False  True ...  True  True  True]\n",
            " ...\n",
            " [False False False ...  True  True  True]\n",
            " [False False False ...  True  True  True]\n",
            " [False False False ...  True  True  True]], shape=(394964, 50), dtype=bool)\n"
          ]
        }
      ],
      "source": [
        "\n",
        "# assign set names\n",
        "x_train = data_token_indexed_train\n",
        "y_train =  train_ground_labels\n",
        "x_test = data_token_indexed_test\n",
        "y_test = test_ground_labels\n",
        "\n",
        "# Add padding to sequences to maxlen 50 according to paper\n",
        "from keras_preprocessing.sequence import pad_sequences\n",
        "\n",
        "x_train = pad_sequences(x_train, maxlen=50, truncating=\"post\", padding=\"post\")\n",
        "x_test = pad_sequences(x_test, maxlen=50, truncating=\"post\", padding=\"post\")\n",
        "print(x_train.shape, x_test.shape)\n",
        "print(x_train[0])\n",
        "print(x_train.shape, y_train.shape, x_test.shape, y_test.shape)\n",
        "\n",
        "## padding masks\n",
        "x_train_masks = tf.equal(x_train, 0)\n",
        "x_test_masks = tf.equal(x_test, 0)\n",
        "print(x_train_masks,x_test_masks)"
      ]
    },
    {
      "cell_type": "markdown",
      "metadata": {
        "id": "F8JtlyvubIxs"
      },
      "source": [
        "# Metrics and model building"
      ]
    },
    {
      "cell_type": "code",
      "execution_count": 55,
      "metadata": {
        "colab": {
          "base_uri": "https://localhost:8080/",
          "height": 402
        },
        "id": "sy2gprEc9yeo",
        "outputId": "0c32a296-17f5-40e1-d8b2-6e8650eff359"
      },
      "outputs": [
        {
          "output_type": "display_data",
          "data": {
            "text/plain": [
              "\u001b[1mModel: \"functional_5\"\u001b[0m\n"
            ],
            "text/html": [
              "<pre style=\"white-space:pre;overflow-x:auto;line-height:normal;font-family:Menlo,'DejaVu Sans Mono',consolas,'Courier New',monospace\"><span style=\"font-weight: bold\">Model: \"functional_5\"</span>\n",
              "</pre>\n"
            ]
          },
          "metadata": {}
        },
        {
          "output_type": "display_data",
          "data": {
            "text/plain": [
              "┏━━━━━━━━━━━━━━━━━━━━━━━━━━━━━━━━━━━━━━┳━━━━━━━━━━━━━━━━━━━━━━━━━━━━━┳━━━━━━━━━━━━━━━━━┓\n",
              "┃\u001b[1m \u001b[0m\u001b[1mLayer (type)                        \u001b[0m\u001b[1m \u001b[0m┃\u001b[1m \u001b[0m\u001b[1mOutput Shape               \u001b[0m\u001b[1m \u001b[0m┃\u001b[1m \u001b[0m\u001b[1m        Param #\u001b[0m\u001b[1m \u001b[0m┃\n",
              "┡━━━━━━━━━━━━━━━━━━━━━━━━━━━━━━━━━━━━━━╇━━━━━━━━━━━━━━━━━━━━━━━━━━━━━╇━━━━━━━━━━━━━━━━━┩\n",
              "│ input_layer_3 (\u001b[38;5;33mInputLayer\u001b[0m)           │ (\u001b[38;5;45mNone\u001b[0m, \u001b[38;5;34m50\u001b[0m)                  │               \u001b[38;5;34m0\u001b[0m │\n",
              "├──────────────────────────────────────┼─────────────────────────────┼─────────────────┤\n",
              "│ positional_embedding_1               │ (\u001b[38;5;45mNone\u001b[0m, \u001b[38;5;34m50\u001b[0m, \u001b[38;5;34m16\u001b[0m)              │           \u001b[38;5;34m8,288\u001b[0m │\n",
              "│ (\u001b[38;5;33mPositionalEmbedding\u001b[0m)                │                             │                 │\n",
              "├──────────────────────────────────────┼─────────────────────────────┼─────────────────┤\n",
              "│ transformer_encoder_2                │ (\u001b[38;5;45mNone\u001b[0m, \u001b[38;5;34m50\u001b[0m, \u001b[38;5;34m16\u001b[0m)              │           \u001b[38;5;34m2,768\u001b[0m │\n",
              "│ (\u001b[38;5;33mTransformerEncoder\u001b[0m)                 │                             │                 │\n",
              "├──────────────────────────────────────┼─────────────────────────────┼─────────────────┤\n",
              "│ transformer_encoder_3                │ (\u001b[38;5;45mNone\u001b[0m, \u001b[38;5;34m50\u001b[0m, \u001b[38;5;34m16\u001b[0m)              │           \u001b[38;5;34m2,768\u001b[0m │\n",
              "│ (\u001b[38;5;33mTransformerEncoder\u001b[0m)                 │                             │                 │\n",
              "├──────────────────────────────────────┼─────────────────────────────┼─────────────────┤\n",
              "│ lambda_2 (\u001b[38;5;33mLambda\u001b[0m)                    │ (\u001b[38;5;45mNone\u001b[0m, \u001b[38;5;34m16\u001b[0m)                  │               \u001b[38;5;34m0\u001b[0m │\n",
              "├──────────────────────────────────────┼─────────────────────────────┼─────────────────┤\n",
              "│ lambda_3 (\u001b[38;5;33mLambda\u001b[0m)                    │ (\u001b[38;5;45mNone\u001b[0m)                      │               \u001b[38;5;34m0\u001b[0m │\n",
              "└──────────────────────────────────────┴─────────────────────────────┴─────────────────┘\n"
            ],
            "text/html": [
              "<pre style=\"white-space:pre;overflow-x:auto;line-height:normal;font-family:Menlo,'DejaVu Sans Mono',consolas,'Courier New',monospace\">┏━━━━━━━━━━━━━━━━━━━━━━━━━━━━━━━━━━━━━━┳━━━━━━━━━━━━━━━━━━━━━━━━━━━━━┳━━━━━━━━━━━━━━━━━┓\n",
              "┃<span style=\"font-weight: bold\"> Layer (type)                         </span>┃<span style=\"font-weight: bold\"> Output Shape                </span>┃<span style=\"font-weight: bold\">         Param # </span>┃\n",
              "┡━━━━━━━━━━━━━━━━━━━━━━━━━━━━━━━━━━━━━━╇━━━━━━━━━━━━━━━━━━━━━━━━━━━━━╇━━━━━━━━━━━━━━━━━┩\n",
              "│ input_layer_3 (<span style=\"color: #0087ff; text-decoration-color: #0087ff\">InputLayer</span>)           │ (<span style=\"color: #00d7ff; text-decoration-color: #00d7ff\">None</span>, <span style=\"color: #00af00; text-decoration-color: #00af00\">50</span>)                  │               <span style=\"color: #00af00; text-decoration-color: #00af00\">0</span> │\n",
              "├──────────────────────────────────────┼─────────────────────────────┼─────────────────┤\n",
              "│ positional_embedding_1               │ (<span style=\"color: #00d7ff; text-decoration-color: #00d7ff\">None</span>, <span style=\"color: #00af00; text-decoration-color: #00af00\">50</span>, <span style=\"color: #00af00; text-decoration-color: #00af00\">16</span>)              │           <span style=\"color: #00af00; text-decoration-color: #00af00\">8,288</span> │\n",
              "│ (<span style=\"color: #0087ff; text-decoration-color: #0087ff\">PositionalEmbedding</span>)                │                             │                 │\n",
              "├──────────────────────────────────────┼─────────────────────────────┼─────────────────┤\n",
              "│ transformer_encoder_2                │ (<span style=\"color: #00d7ff; text-decoration-color: #00d7ff\">None</span>, <span style=\"color: #00af00; text-decoration-color: #00af00\">50</span>, <span style=\"color: #00af00; text-decoration-color: #00af00\">16</span>)              │           <span style=\"color: #00af00; text-decoration-color: #00af00\">2,768</span> │\n",
              "│ (<span style=\"color: #0087ff; text-decoration-color: #0087ff\">TransformerEncoder</span>)                 │                             │                 │\n",
              "├──────────────────────────────────────┼─────────────────────────────┼─────────────────┤\n",
              "│ transformer_encoder_3                │ (<span style=\"color: #00d7ff; text-decoration-color: #00d7ff\">None</span>, <span style=\"color: #00af00; text-decoration-color: #00af00\">50</span>, <span style=\"color: #00af00; text-decoration-color: #00af00\">16</span>)              │           <span style=\"color: #00af00; text-decoration-color: #00af00\">2,768</span> │\n",
              "│ (<span style=\"color: #0087ff; text-decoration-color: #0087ff\">TransformerEncoder</span>)                 │                             │                 │\n",
              "├──────────────────────────────────────┼─────────────────────────────┼─────────────────┤\n",
              "│ lambda_2 (<span style=\"color: #0087ff; text-decoration-color: #0087ff\">Lambda</span>)                    │ (<span style=\"color: #00d7ff; text-decoration-color: #00d7ff\">None</span>, <span style=\"color: #00af00; text-decoration-color: #00af00\">16</span>)                  │               <span style=\"color: #00af00; text-decoration-color: #00af00\">0</span> │\n",
              "├──────────────────────────────────────┼─────────────────────────────┼─────────────────┤\n",
              "│ lambda_3 (<span style=\"color: #0087ff; text-decoration-color: #0087ff\">Lambda</span>)                    │ (<span style=\"color: #00d7ff; text-decoration-color: #00d7ff\">None</span>)                      │               <span style=\"color: #00af00; text-decoration-color: #00af00\">0</span> │\n",
              "└──────────────────────────────────────┴─────────────────────────────┴─────────────────┘\n",
              "</pre>\n"
            ]
          },
          "metadata": {}
        },
        {
          "output_type": "display_data",
          "data": {
            "text/plain": [
              "\u001b[1m Total params: \u001b[0m\u001b[38;5;34m13,824\u001b[0m (54.00 KB)\n"
            ],
            "text/html": [
              "<pre style=\"white-space:pre;overflow-x:auto;line-height:normal;font-family:Menlo,'DejaVu Sans Mono',consolas,'Courier New',monospace\"><span style=\"font-weight: bold\"> Total params: </span><span style=\"color: #00af00; text-decoration-color: #00af00\">13,824</span> (54.00 KB)\n",
              "</pre>\n"
            ]
          },
          "metadata": {}
        },
        {
          "output_type": "display_data",
          "data": {
            "text/plain": [
              "\u001b[1m Trainable params: \u001b[0m\u001b[38;5;34m13,824\u001b[0m (54.00 KB)\n"
            ],
            "text/html": [
              "<pre style=\"white-space:pre;overflow-x:auto;line-height:normal;font-family:Menlo,'DejaVu Sans Mono',consolas,'Courier New',monospace\"><span style=\"font-weight: bold\"> Trainable params: </span><span style=\"color: #00af00; text-decoration-color: #00af00\">13,824</span> (54.00 KB)\n",
              "</pre>\n"
            ]
          },
          "metadata": {}
        },
        {
          "output_type": "display_data",
          "data": {
            "text/plain": [
              "\u001b[1m Non-trainable params: \u001b[0m\u001b[38;5;34m0\u001b[0m (0.00 B)\n"
            ],
            "text/html": [
              "<pre style=\"white-space:pre;overflow-x:auto;line-height:normal;font-family:Menlo,'DejaVu Sans Mono',consolas,'Courier New',monospace\"><span style=\"font-weight: bold\"> Non-trainable params: </span><span style=\"color: #00af00; text-decoration-color: #00af00\">0</span> (0.00 B)\n",
              "</pre>\n"
            ]
          },
          "metadata": {}
        },
        {
          "output_type": "stream",
          "name": "stdout",
          "text": [
            "None\n"
          ]
        }
      ],
      "source": [
        "a = tf.metrics.BinaryAccuracy()\n",
        "def recall_m(y_true, y_pred):\n",
        "    true_positives = K.sum(K.round(K.clip(y_true * y_pred, 0, 1)))\n",
        "    possible_positives = K.sum(K.round(K.clip(y_true, 0, 1)))\n",
        "    return true_positives / (possible_positives + K.epsilon())\n",
        "\n",
        "def precision_m(y_true, y_pred):\n",
        "    true_positives = K.sum(K.round(K.clip(y_true * y_pred, 0, 1)))\n",
        "    predicted_positives = K.sum(K.round(K.clip(y_pred, 0, 1)))\n",
        "    return true_positives / (predicted_positives + K.epsilon())\n",
        "\n",
        "def f1_m(y_true, y_pred):\n",
        "    precision = precision_m(y_true, y_pred)\n",
        "    recall = recall_m(y_true, y_pred)\n",
        "    return 2*((precision*recall)/(precision+recall+K.epsilon()))\n",
        "\n",
        "def accuracy_m(y_true, y_pred):\n",
        "    a.update_state(y_true,y_pred)\n",
        "    return a.result()\n",
        "\n",
        "def custom_loss_function(y_true, y_pred):\n",
        "    print(f\"y_true shape: {y_true.shape}, y_pred shape: {y_pred.shape}\")\n",
        "    loss = K.mean((1 - y_true) * K.sqrt(y_pred) - y_true * K.log(1 - K.exp(-K.sqrt(y_pred))))\n",
        "    return loss\n",
        "\n",
        "def create_model():\n",
        "    embed_dim = 16  # Embedding size for each token\n",
        "    num_heads = 2  # Number of attention heads\n",
        "    ff_dim = 16  # Hidden layer size in feed forward network inside transformer\n",
        "\n",
        "    vocab_size = tokenizer.n_words  # Only consider the top 20k words\n",
        "    maxlen = 50\n",
        "    #\"\"\"---------Modified code blcok-------------------\n",
        "    class PositionalEmbedding(layers.Layer):\n",
        "        def __init__(self, sequence_length, vocab_size, embed_dim, **kwargs):\n",
        "            super(PositionalEmbedding, self).__init__(**kwargs)\n",
        "            self.token_embeddings = layers.Embedding(input_dim=vocab_size, output_dim=embed_dim)\n",
        "            self.position_embeddings = layers.Embedding(input_dim=sequence_length, output_dim=embed_dim)\n",
        "\n",
        "        def call(self, inputs):\n",
        "            positions = tf.range(start=0, limit=tf.shape(inputs)[-1], delta=1)\n",
        "            positions = self.position_embeddings(positions)\n",
        "            x = self.token_embeddings(inputs)\n",
        "            return x + positions\n",
        "\n",
        "    class SquaredSumLayer(tf.keras.layers.Layer):\n",
        "        def call(self, x):\n",
        "            return tf.reduce_sum(tf.square(x), axis=1)\n",
        "#-----------------------------------------------\"\"\"\n",
        "\n",
        "    inputs = layers.Input(shape=(maxlen,))\n",
        "    embedding_layer = PositionalEmbedding(maxlen, vocab_size, embed_dim)\n",
        "    x = embedding_layer(inputs)\n",
        "    transformer_block = TransformerEncoder(embed_dim, num_heads, ff_dim)\n",
        "    transformer_block2 = TransformerEncoder(embed_dim, num_heads, ff_dim)\n",
        "\n",
        "    x = transformer_block(x, training=True)\n",
        "    x = transformer_block2(x, training=True)\n",
        "\n",
        "    #outputs = tf.gather(x, 0, axis=1)  # Take the CLS token as embedding\n",
        "    outputs = tf.keras.layers.Lambda(lambda x: tf.gather(x, 0, axis=1))(x)\n",
        "    outputs = tf.keras.layers.Lambda(lambda x: K.sum(K.square(x), axis=1))(outputs)\n",
        "\n",
        "    model = tf.keras.Model(inputs=inputs, outputs=outputs)\n",
        "    return model\n",
        "\n",
        "lr_schedule = tf.keras.optimizers.schedules.ExponentialDecay(\n",
        "    initial_learning_rate=0.0001, # 0.0001,\n",
        "    decay_steps=10000,\n",
        "    decay_rate=1-0.001)\n",
        "# Compile the model within the distributed strategy scope\n",
        "with mirrored_strategy.scope():\n",
        "    model = create_model()\n",
        "\n",
        "    model_opt = tf.keras.optimizers.Adam(learning_rate=lr_schedule, beta_1=0.9, beta_2=0.999)\n",
        "\n",
        "    model.compile(\n",
        "        optimizer=model_opt,\n",
        "        loss=custom_loss_function,\n",
        "        metrics=['binary_accuracy', recall_m, precision_m],\n",
        "        loss_weights=[1.0]\n",
        "    )\n",
        "\n",
        "    print(model.summary())\n",
        "\n"
      ]
    },
    {
      "cell_type": "markdown",
      "metadata": {
        "id": "MQmLA2orbjYq"
      },
      "source": [
        "# Evaluation steps"
      ]
    },
    {
      "cell_type": "code",
      "execution_count": 56,
      "metadata": {
        "colab": {
          "base_uri": "https://localhost:8080/"
        },
        "id": "DHXNHOPhOhN6",
        "outputId": "10195272-39a1-4e24-ecde-39f84507b258"
      },
      "outputs": [
        {
          "output_type": "stream",
          "name": "stdout",
          "text": [
            "Currently Running Epoch - 1\n",
            "y_true shape: (2048,), y_pred shape: (2048,)\n",
            "y_true shape: (None,), y_pred shape: (None,)\n",
            "\u001b[1m104/104\u001b[0m \u001b[32m━━━━━━━━━━━━━━━━━━━━\u001b[0m\u001b[37m\u001b[0m \u001b[1m7s\u001b[0m 42ms/step - binary_accuracy: 0.4277 - loss: 2.2824 - precision_m: 0.4277 - recall_m: 1.0000\n",
            "\u001b[1m193/193\u001b[0m \u001b[32m━━━━━━━━━━━━━━━━━━━━\u001b[0m\u001b[37m\u001b[0m \u001b[1m3s\u001b[0m 17ms/step\n",
            "\u001b[1m104/104\u001b[0m \u001b[32m━━━━━━━━━━━━━━━━━━━━\u001b[0m\u001b[37m\u001b[0m \u001b[1m2s\u001b[0m 16ms/step\n",
            "Train AUC: 0.8931952629525081, Test AUC: 0.9570794682256324\n",
            "Using trainset to find threshold:\n",
            "threshold value:  13.835087\n",
            "f1:  0.9100376667996847\n",
            "recall:  0.9998808392582702\n",
            "precision:  0.8350088795443875\n",
            "Accuracy:  0.8361850700316991\n",
            "##################################\n",
            "Using testset to find threshold:\n",
            "threshold value:  13.858073\n",
            "f1:  0.9184037749892916\n",
            "recall:  0.9990467140661617\n",
            "precision:  0.849807415416123\n",
            "Accuracy:  0.8528954537628746\n",
            "##################################\n",
            "Currently Running Epoch - 2\n",
            "\u001b[1m104/104\u001b[0m \u001b[32m━━━━━━━━━━━━━━━━━━━━\u001b[0m\u001b[37m\u001b[0m \u001b[1m4s\u001b[0m 42ms/step - binary_accuracy: 0.4262 - loss: 2.1406 - precision_m: 0.4262 - recall_m: 1.0000\n",
            "\u001b[1m193/193\u001b[0m \u001b[32m━━━━━━━━━━━━━━━━━━━━\u001b[0m\u001b[37m\u001b[0m \u001b[1m3s\u001b[0m 16ms/step\n",
            "\u001b[1m104/104\u001b[0m \u001b[32m━━━━━━━━━━━━━━━━━━━━\u001b[0m\u001b[37m\u001b[0m \u001b[1m2s\u001b[0m 16ms/step\n",
            "Train AUC: 0.8959877691165157, Test AUC: 0.8808306654864495\n",
            "Using trainset to find threshold:\n",
            "threshold value:  12.008027\n",
            "f1:  0.9077946596391693\n",
            "recall:  0.998301195579442\n",
            "precision:  0.8323347344287352\n",
            "Accuracy:  0.8319517728198013\n",
            "##################################\n",
            "Using testset to find threshold:\n",
            "threshold value:  11.944462\n",
            "f1:  0.9072792915795987\n",
            "recall:  0.998930608728066\n",
            "precision:  0.8310325281574326\n",
            "Accuracy:  0.830809896598171\n",
            "##################################\n",
            "Currently Running Epoch - 3\n",
            "\u001b[1m104/104\u001b[0m \u001b[32m━━━━━━━━━━━━━━━━━━━━\u001b[0m\u001b[37m\u001b[0m \u001b[1m4s\u001b[0m 42ms/step - binary_accuracy: 0.4268 - loss: 2.0421 - precision_m: 0.4268 - recall_m: 1.0000\n",
            "\u001b[1m193/193\u001b[0m \u001b[32m━━━━━━━━━━━━━━━━━━━━\u001b[0m\u001b[37m\u001b[0m \u001b[1m3s\u001b[0m 16ms/step\n",
            "\u001b[1m104/104\u001b[0m \u001b[32m━━━━━━━━━━━━━━━━━━━━\u001b[0m\u001b[37m\u001b[0m \u001b[1m2s\u001b[0m 16ms/step\n",
            "Train AUC: 0.8962022245115843, Test AUC: 0.8814889116676298\n",
            "Using trainset to find threshold:\n",
            "threshold value:  11.692472\n",
            "f1:  0.9074892191275648\n",
            "recall:  0.99886644525175\n",
            "precision:  0.8314292980671414\n",
            "Accuracy:  0.8312428474493878\n",
            "##################################\n",
            "Using testset to find threshold:\n",
            "threshold value:  11.638516\n",
            "f1:  0.9060070886805577\n",
            "recall:  0.998930608728066\n",
            "precision:  0.8289002979020093\n",
            "Accuracy:  0.8282476377593907\n",
            "##################################\n",
            "Currently Running Epoch - 4\n",
            "\u001b[1m104/104\u001b[0m \u001b[32m━━━━━━━━━━━━━━━━━━━━\u001b[0m\u001b[37m\u001b[0m \u001b[1m4s\u001b[0m 42ms/step - binary_accuracy: 0.4263 - loss: 1.9804 - precision_m: 0.4263 - recall_m: 1.0000\n",
            "\u001b[1m193/193\u001b[0m \u001b[32m━━━━━━━━━━━━━━━━━━━━\u001b[0m\u001b[37m\u001b[0m \u001b[1m3s\u001b[0m 16ms/step\n",
            "\u001b[1m104/104\u001b[0m \u001b[32m━━━━━━━━━━━━━━━━━━━━\u001b[0m\u001b[37m\u001b[0m \u001b[1m2s\u001b[0m 16ms/step\n",
            "Train AUC: 0.8961701284087374, Test AUC: 0.8858675378593489\n",
            "Using trainset to find threshold:\n",
            "threshold value:  11.779078\n",
            "f1:  0.9064842420114066\n",
            "recall:  0.9982034226631509\n",
            "precision:  0.8302017686521651\n",
            "Accuracy:  0.8293338127019171\n",
            "##################################\n",
            "Using testset to find threshold:\n",
            "threshold value:  11.734447\n",
            "f1:  0.9056635676706527\n",
            "recall:  0.9982889739649057\n",
            "precision:  0.8287671059139853\n",
            "Accuracy:  0.8276653062051225\n",
            "##################################\n",
            "Currently Running Epoch - 5\n",
            "\u001b[1m104/104\u001b[0m \u001b[32m━━━━━━━━━━━━━━━━━━━━\u001b[0m\u001b[37m\u001b[0m \u001b[1m4s\u001b[0m 42ms/step - binary_accuracy: 0.4286 - loss: 1.8988 - precision_m: 0.4285 - recall_m: 1.0000\n",
            "\u001b[1m193/193\u001b[0m \u001b[32m━━━━━━━━━━━━━━━━━━━━\u001b[0m\u001b[37m\u001b[0m \u001b[1m3s\u001b[0m 16ms/step\n",
            "\u001b[1m104/104\u001b[0m \u001b[32m━━━━━━━━━━━━━━━━━━━━\u001b[0m\u001b[37m\u001b[0m \u001b[1m2s\u001b[0m 16ms/step\n",
            "Train AUC: 0.896920911113326, Test AUC: 0.8839311291794486\n",
            "Using trainset to find threshold:\n",
            "threshold value:  11.233892\n",
            "f1:  0.9065813906080773\n",
            "recall:  0.9987258966845816\n",
            "precision:  0.8300035549235691\n",
            "Accuracy:  0.8294401515074792\n",
            "##################################\n",
            "Using testset to find threshold:\n",
            "threshold value:  11.209248\n",
            "f1:  0.9060112302732478\n",
            "recall:  0.99905282487343\n",
            "precision:  0.828823097006413\n",
            "Accuracy:  0.8282349783777762\n",
            "##################################\n",
            "Currently Running Epoch - 6\n",
            "\u001b[1m104/104\u001b[0m \u001b[32m━━━━━━━━━━━━━━━━━━━━\u001b[0m\u001b[37m\u001b[0m \u001b[1m4s\u001b[0m 42ms/step - binary_accuracy: 0.4277 - loss: 1.8542 - precision_m: 0.4276 - recall_m: 0.9999\n",
            "\u001b[1m193/193\u001b[0m \u001b[32m━━━━━━━━━━━━━━━━━━━━\u001b[0m\u001b[37m\u001b[0m \u001b[1m3s\u001b[0m 16ms/step\n",
            "\u001b[1m104/104\u001b[0m \u001b[32m━━━━━━━━━━━━━━━━━━━━\u001b[0m\u001b[37m\u001b[0m \u001b[1m2s\u001b[0m 16ms/step\n",
            "Train AUC: 0.8968691502284644, Test AUC: 0.876895019275923\n",
            "Using trainset to find threshold:\n",
            "threshold value:  11.087415\n",
            "f1:  0.9057938683153802\n",
            "recall:  0.9986678440155337\n",
            "precision:  0.8287242808787921\n",
            "Accuracy:  0.8278627925583091\n",
            "##################################\n",
            "Using testset to find threshold:\n",
            "threshold value:  11.055373\n",
            "f1:  0.9057798430795534\n",
            "recall:  0.9987533953172884\n",
            "precision:  0.8286419014495104\n",
            "Accuracy:  0.8278197506608197\n",
            "##################################\n",
            "Currently Running Epoch - 7\n",
            "\u001b[1m104/104\u001b[0m \u001b[32m━━━━━━━━━━━━━━━━━━━━\u001b[0m\u001b[37m\u001b[0m \u001b[1m5s\u001b[0m 43ms/step - binary_accuracy: 0.4296 - loss: 1.7898 - precision_m: 0.4294 - recall_m: 0.9999\n",
            "\u001b[1m193/193\u001b[0m \u001b[32m━━━━━━━━━━━━━━━━━━━━\u001b[0m\u001b[37m\u001b[0m \u001b[1m3s\u001b[0m 16ms/step\n",
            "\u001b[1m104/104\u001b[0m \u001b[32m━━━━━━━━━━━━━━━━━━━━\u001b[0m\u001b[37m\u001b[0m \u001b[1m2s\u001b[0m 16ms/step\n",
            "Train AUC: 0.8968625115357884, Test AUC: 0.877998643348866\n",
            "Using trainset to find threshold:\n",
            "threshold value:  10.947823\n",
            "f1:  0.9058372272200698\n",
            "recall:  0.998646456190095\n",
            "precision:  0.8288116037580353\n",
            "Accuracy:  0.8279539401059337\n",
            "##################################\n",
            "Using testset to find threshold:\n",
            "threshold value:  10.923824\n",
            "f1:  0.9058119508906984\n",
            "recall:  0.9987472845100202\n",
            "precision:  0.8286998539731473\n",
            "Accuracy:  0.8278855794452152\n",
            "##################################\n",
            "Currently Running Epoch - 8\n",
            "\u001b[1m104/104\u001b[0m \u001b[32m━━━━━━━━━━━━━━━━━━━━\u001b[0m\u001b[37m\u001b[0m \u001b[1m5s\u001b[0m 43ms/step - binary_accuracy: 0.4278 - loss: 1.7423 - precision_m: 0.4272 - recall_m: 0.9995\n",
            "\u001b[1m193/193\u001b[0m \u001b[32m━━━━━━━━━━━━━━━━━━━━\u001b[0m\u001b[37m\u001b[0m \u001b[1m3s\u001b[0m 16ms/step\n",
            "\u001b[1m104/104\u001b[0m \u001b[32m━━━━━━━━━━━━━━━━━━━━\u001b[0m\u001b[37m\u001b[0m \u001b[1m2s\u001b[0m 16ms/step\n",
            "Train AUC: 0.8967605389357954, Test AUC: 0.9311206036857244\n",
            "Using trainset to find threshold:\n",
            "threshold value:  10.738998\n",
            "f1:  0.9055774960160743\n",
            "recall:  0.9983684144593922\n",
            "precision:  0.8285682407743159\n",
            "Accuracy:  0.8274779473572275\n",
            "##################################\n",
            "Using testset to find threshold:\n",
            "threshold value:  10.7458105\n",
            "f1:  0.9055845019677401\n",
            "recall:  0.998362303652124\n",
            "precision:  0.8285841800832253\n",
            "Accuracy:  0.8274931386151649\n",
            "##################################\n",
            "Currently Running Epoch - 9\n",
            "\u001b[1m104/104\u001b[0m \u001b[32m━━━━━━━━━━━━━━━━━━━━\u001b[0m\u001b[37m\u001b[0m \u001b[1m5s\u001b[0m 43ms/step - binary_accuracy: 0.4319 - loss: 1.6935 - precision_m: 0.4309 - recall_m: 0.9992\n",
            "\u001b[1m193/193\u001b[0m \u001b[32m━━━━━━━━━━━━━━━━━━━━\u001b[0m\u001b[37m\u001b[0m \u001b[1m3s\u001b[0m 16ms/step\n",
            "\u001b[1m104/104\u001b[0m \u001b[32m━━━━━━━━━━━━━━━━━━━━\u001b[0m\u001b[37m\u001b[0m \u001b[1m2s\u001b[0m 16ms/step\n",
            "Train AUC: 0.8968343325270453, Test AUC: 0.9338039985296455\n",
            "Using trainset to find threshold:\n",
            "threshold value:  10.308284\n",
            "f1:  0.9056074623908306\n",
            "recall:  0.9984692427793174\n",
            "precision:  0.8285489718820517\n",
            "Accuracy:  0.8275209892547168\n",
            "##################################\n",
            "Using testset to find threshold:\n",
            "threshold value:  10.330746\n",
            "f1:  0.9056082925680077\n",
            "recall:  0.9983470266339535\n",
            "precision:  0.8286345388655435\n",
            "Accuracy:  0.827543776141623\n",
            "##################################\n",
            "Currently Running Epoch - 10\n",
            "\u001b[1m104/104\u001b[0m \u001b[32m━━━━━━━━━━━━━━━━━━━━\u001b[0m\u001b[37m\u001b[0m \u001b[1m5s\u001b[0m 43ms/step - binary_accuracy: 0.4320 - loss: 1.6562 - precision_m: 0.4298 - recall_m: 0.9984\n",
            "\u001b[1m193/193\u001b[0m \u001b[32m━━━━━━━━━━━━━━━━━━━━\u001b[0m\u001b[37m\u001b[0m \u001b[1m3s\u001b[0m 16ms/step\n",
            "\u001b[1m104/104\u001b[0m \u001b[32m━━━━━━━━━━━━━━━━━━━━\u001b[0m\u001b[37m\u001b[0m \u001b[1m2s\u001b[0m 16ms/step\n",
            "Train AUC: 0.8967333618610058, Test AUC: 0.9604784742677276\n",
            "Using trainset to find threshold:\n",
            "threshold value:  10.034952\n",
            "f1:  0.9056203252866142\n",
            "recall:  0.998487575201122\n",
            "precision:  0.8285578822199066\n",
            "Accuracy:  0.827543776141623\n",
            "##################################\n",
            "Using testset to find threshold:\n",
            "threshold value:  10.059264\n",
            "f1:  0.9056139913247134\n",
            "recall:  0.9983256388085148\n",
            "precision:  0.8286588164879115\n",
            "Accuracy:  0.8275589673995605\n",
            "##################################\n",
            "Currently Running Epoch - 11\n",
            "\u001b[1m104/104\u001b[0m \u001b[32m━━━━━━━━━━━━━━━━━━━━\u001b[0m\u001b[37m\u001b[0m \u001b[1m5s\u001b[0m 43ms/step - binary_accuracy: 0.4336 - loss: 1.6051 - precision_m: 0.4301 - recall_m: 0.9976\n",
            "\u001b[1m193/193\u001b[0m \u001b[32m━━━━━━━━━━━━━━━━━━━━\u001b[0m\u001b[37m\u001b[0m \u001b[1m3s\u001b[0m 16ms/step\n",
            "\u001b[1m104/104\u001b[0m \u001b[32m━━━━━━━━━━━━━━━━━━━━\u001b[0m\u001b[37m\u001b[0m \u001b[1m2s\u001b[0m 16ms/step\n",
            "Train AUC: 0.8968016342526839, Test AUC: 0.9898587894588096\n",
            "Using trainset to find threshold:\n",
            "threshold value:  9.598996\n",
            "f1:  0.9058068806894545\n",
            "recall:  0.9987320074918498\n",
            "precision:  0.8287018844389908\n",
            "Accuracy:  0.8278779838162466\n",
            "##################################\n",
            "Using testset to find threshold:\n",
            "threshold value:  9.627774\n",
            "f1:  0.9057751855250282\n",
            "recall:  0.998331749615783\n",
            "precision:  0.8289245694193218\n",
            "Accuracy:  0.8278830475688923\n",
            "##################################\n",
            "Currently Running Epoch - 12\n",
            "\u001b[1m104/104\u001b[0m \u001b[32m━━━━━━━━━━━━━━━━━━━━\u001b[0m\u001b[37m\u001b[0m \u001b[1m5s\u001b[0m 43ms/step - binary_accuracy: 0.4386 - loss: 1.5680 - precision_m: 0.4326 - recall_m: 0.9961\n",
            "\u001b[1m193/193\u001b[0m \u001b[32m━━━━━━━━━━━━━━━━━━━━\u001b[0m\u001b[37m\u001b[0m \u001b[1m3s\u001b[0m 16ms/step\n",
            "\u001b[1m104/104\u001b[0m \u001b[32m━━━━━━━━━━━━━━━━━━━━\u001b[0m\u001b[37m\u001b[0m \u001b[1m2s\u001b[0m 16ms/step\n",
            "Train AUC: 0.8968463939683128, Test AUC: 0.9884809901911464\n",
            "Using trainset to find threshold:\n",
            "threshold value:  9.332734\n",
            "f1:  0.905712412811526\n",
            "recall:  0.9984050793030014\n",
            "precision:  0.8287688952013798\n",
            "Accuracy:  0.8277437943711325\n",
            "##################################\n",
            "Using testset to find threshold:\n",
            "threshold value:  9.338597\n",
            "f1:  0.9057331779243476\n",
            "recall:  0.9983836914775627\n",
            "precision:  0.8288184087173556\n",
            "Accuracy:  0.8277893681449449\n",
            "##################################\n",
            "Currently Running Epoch - 13\n",
            "\u001b[1m104/104\u001b[0m \u001b[32m━━━━━━━━━━━━━━━━━━━━\u001b[0m\u001b[37m\u001b[0m \u001b[1m5s\u001b[0m 43ms/step - binary_accuracy: 0.4470 - loss: 1.5328 - precision_m: 0.4361 - recall_m: 0.9924\n",
            "\u001b[1m193/193\u001b[0m \u001b[32m━━━━━━━━━━━━━━━━━━━━\u001b[0m\u001b[37m\u001b[0m \u001b[1m3s\u001b[0m 16ms/step\n",
            "\u001b[1m104/104\u001b[0m \u001b[32m━━━━━━━━━━━━━━━━━━━━\u001b[0m\u001b[37m\u001b[0m \u001b[1m2s\u001b[0m 16ms/step\n",
            "Train AUC: 0.8968082002694873, Test AUC: 0.9812092224569664\n",
            "Using trainset to find threshold:\n",
            "threshold value:  8.953767\n",
            "f1:  0.9057746547195831\n",
            "recall:  0.9983989684957332\n",
            "precision:  0.8288773444673867\n",
            "Accuracy:  0.8278703881872779\n",
            "##################################\n",
            "Using testset to find threshold:\n",
            "threshold value:  8.94275\n",
            "f1:  0.905712412811526\n",
            "recall:  0.9984050793030014\n",
            "precision:  0.8287688952013798\n",
            "Accuracy:  0.8277437943711325\n",
            "##################################\n",
            "Currently Running Epoch - 14\n",
            "\u001b[1m104/104\u001b[0m \u001b[32m━━━━━━━━━━━━━━━━━━━━\u001b[0m\u001b[37m\u001b[0m \u001b[1m5s\u001b[0m 43ms/step - binary_accuracy: 0.4526 - loss: 1.5000 - precision_m: 0.4382 - recall_m: 0.9907\n",
            "\u001b[1m193/193\u001b[0m \u001b[32m━━━━━━━━━━━━━━━━━━━━\u001b[0m\u001b[37m\u001b[0m \u001b[1m3s\u001b[0m 16ms/step\n",
            "\u001b[1m104/104\u001b[0m \u001b[32m━━━━━━━━━━━━━━━━━━━━\u001b[0m\u001b[37m\u001b[0m \u001b[1m2s\u001b[0m 16ms/step\n",
            "Train AUC: 0.8968647725679465, Test AUC: 0.9945851062721136\n",
            "Using trainset to find threshold:\n",
            "threshold value:  8.590347\n",
            "f1:  0.9058185452181591\n",
            "recall:  0.9983836914775627\n",
            "precision:  0.828961388198285\n",
            "Accuracy:  0.8279615357349024\n",
            "##################################\n",
            "Using testset to find threshold:\n",
            "threshold value:  8.593156\n",
            "f1:  0.905839889556062\n",
            "recall:  0.9983836914775627\n",
            "precision:  0.8289971407767852\n",
            "Accuracy:  0.8280045776323918\n",
            "##################################\n",
            "Currently Running Epoch - 15\n",
            "\u001b[1m104/104\u001b[0m \u001b[32m━━━━━━━━━━━━━━━━━━━━\u001b[0m\u001b[37m\u001b[0m \u001b[1m5s\u001b[0m 43ms/step - binary_accuracy: 0.4653 - loss: 1.4652 - precision_m: 0.4436 - recall_m: 0.9841\n",
            "\u001b[1m193/193\u001b[0m \u001b[32m━━━━━━━━━━━━━━━━━━━━\u001b[0m\u001b[37m\u001b[0m \u001b[1m3s\u001b[0m 16ms/step\n",
            "\u001b[1m104/104\u001b[0m \u001b[32m━━━━━━━━━━━━━━━━━━━━\u001b[0m\u001b[37m\u001b[0m \u001b[1m2s\u001b[0m 16ms/step\n",
            "Train AUC: 0.8965992204371536, Test AUC: 0.9930026159097253\n",
            "Using trainset to find threshold:\n",
            "threshold value:  8.368159\n",
            "f1:  0.9058655729388299\n",
            "recall:  0.9984050793030014\n",
            "precision:  0.8290254162036543\n",
            "Accuracy:  0.828052683282527\n",
            "##################################\n",
            "Using testset to find threshold:\n",
            "threshold value:  8.364855\n",
            "f1:  0.9058454834135639\n",
            "recall:  0.9984050793030014\n",
            "precision:  0.8289917650580708\n",
            "Accuracy:  0.8280121732613606\n",
            "##################################\n",
            "Currently Running Epoch - 16\n",
            "\u001b[1m104/104\u001b[0m \u001b[32m━━━━━━━━━━━━━━━━━━━━\u001b[0m\u001b[37m\u001b[0m \u001b[1m5s\u001b[0m 43ms/step - binary_accuracy: 0.4810 - loss: 1.4316 - precision_m: 0.4530 - recall_m: 0.9788\n",
            "\u001b[1m193/193\u001b[0m \u001b[32m━━━━━━━━━━━━━━━━━━━━\u001b[0m\u001b[37m\u001b[0m \u001b[1m3s\u001b[0m 16ms/step\n",
            "\u001b[1m104/104\u001b[0m \u001b[32m━━━━━━━━━━━━━━━━━━━━\u001b[0m\u001b[37m\u001b[0m \u001b[1m2s\u001b[0m 16ms/step\n",
            "Train AUC: 0.8968565349157961, Test AUC: 0.9918803418200479\n",
            "Using trainset to find threshold:\n",
            "threshold value:  7.9723673\n",
            "f1:  0.9058668285637456\n",
            "recall:  0.9984050793030014\n",
            "precision:  0.8290275194909643\n",
            "Accuracy:  0.8280552151588499\n",
            "##################################\n",
            "Using testset to find threshold:\n",
            "threshold value:  7.97195\n",
            "f1:  0.9058668285637456\n",
            "recall:  0.9984050793030014\n",
            "precision:  0.8290275194909643\n",
            "Accuracy:  0.8280552151588499\n",
            "##################################\n",
            "Currently Running Epoch - 17\n",
            "\u001b[1m104/104\u001b[0m \u001b[32m━━━━━━━━━━━━━━━━━━━━\u001b[0m\u001b[37m\u001b[0m \u001b[1m5s\u001b[0m 43ms/step - binary_accuracy: 0.4910 - loss: 1.4093 - precision_m: 0.4561 - recall_m: 0.9750\n",
            "\u001b[1m193/193\u001b[0m \u001b[32m━━━━━━━━━━━━━━━━━━━━\u001b[0m\u001b[37m\u001b[0m \u001b[1m3s\u001b[0m 16ms/step\n",
            "\u001b[1m104/104\u001b[0m \u001b[32m━━━━━━━━━━━━━━━━━━━━\u001b[0m\u001b[37m\u001b[0m \u001b[1m2s\u001b[0m 16ms/step\n",
            "Train AUC: 0.8967723216808915, Test AUC: 0.9944103477037711\n",
            "Using trainset to find threshold:\n",
            "threshold value:  7.7147856\n",
            "f1:  0.9058926757053094\n",
            "recall:  0.9983989684957332\n",
            "precision:  0.8290750307003745\n",
            "Accuracy:  0.8281083845616309\n",
            "##################################\n",
            "Using testset to find threshold:\n",
            "threshold value:  7.7065635\n",
            "f1:  0.9058555280648135\n",
            "recall:  0.9984050793030014\n",
            "precision:  0.8290085902893705\n",
            "Accuracy:  0.8280324282719438\n",
            "##################################\n",
            "Currently Running Epoch - 18\n",
            "\u001b[1m104/104\u001b[0m \u001b[32m━━━━━━━━━━━━━━━━━━━━\u001b[0m\u001b[37m\u001b[0m \u001b[1m5s\u001b[0m 43ms/step - binary_accuracy: 0.4982 - loss: 1.3859 - precision_m: 0.4592 - recall_m: 0.9718\n",
            "\u001b[1m193/193\u001b[0m \u001b[32m━━━━━━━━━━━━━━━━━━━━\u001b[0m\u001b[37m\u001b[0m \u001b[1m3s\u001b[0m 16ms/step\n",
            "\u001b[1m104/104\u001b[0m \u001b[32m━━━━━━━━━━━━━━━━━━━━\u001b[0m\u001b[37m\u001b[0m \u001b[1m2s\u001b[0m 16ms/step\n",
            "Train AUC: 0.8966158655592382, Test AUC: 0.9926773175253213\n",
            "Using trainset to find threshold:\n",
            "threshold value:  7.3959193\n",
            "f1:  0.9058304168543608\n",
            "recall:  0.9984050793030014\n",
            "precision:  0.8289665284916258\n",
            "Accuracy:  0.8279817907454856\n",
            "##################################\n",
            "Using testset to find threshold:\n",
            "threshold value:  7.3983684\n",
            "f1:  0.9058555280648135\n",
            "recall:  0.9984050793030014\n",
            "precision:  0.8290085902893705\n",
            "Accuracy:  0.8280324282719438\n",
            "##################################\n",
            "Currently Running Epoch - 19\n",
            "\u001b[1m104/104\u001b[0m \u001b[32m━━━━━━━━━━━━━━━━━━━━\u001b[0m\u001b[37m\u001b[0m \u001b[1m5s\u001b[0m 43ms/step - binary_accuracy: 0.5158 - loss: 1.3559 - precision_m: 0.4684 - recall_m: 0.9627\n",
            "\u001b[1m193/193\u001b[0m \u001b[32m━━━━━━━━━━━━━━━━━━━━\u001b[0m\u001b[37m\u001b[0m \u001b[1m3s\u001b[0m 16ms/step\n",
            "\u001b[1m104/104\u001b[0m \u001b[32m━━━━━━━━━━━━━━━━━━━━\u001b[0m\u001b[37m\u001b[0m \u001b[1m2s\u001b[0m 16ms/step\n",
            "Train AUC: 0.896771104518019, Test AUC: 0.997700294775794\n",
            "Using trainset to find threshold:\n",
            "threshold value:  7.071249\n",
            "f1:  0.905880118819402\n",
            "recall:  0.9983989684957332\n",
            "precision:  0.8290539957680227\n",
            "Accuracy:  0.8280830657984019\n",
            "##################################\n",
            "Using testset to find threshold:\n",
            "threshold value:  7.0725183\n",
            "f1:  0.9058863972188416\n",
            "recall:  0.9983989684957332\n",
            "precision:  0.8290645131007746\n",
            "Accuracy:  0.8280957251800164\n",
            "##################################\n",
            "Currently Running Epoch - 20\n",
            "\u001b[1m104/104\u001b[0m \u001b[32m━━━━━━━━━━━━━━━━━━━━\u001b[0m\u001b[37m\u001b[0m \u001b[1m5s\u001b[0m 44ms/step - binary_accuracy: 0.5337 - loss: 1.3269 - precision_m: 0.4780 - recall_m: 0.9568\n",
            "\u001b[1m193/193\u001b[0m \u001b[32m━━━━━━━━━━━━━━━━━━━━\u001b[0m\u001b[37m\u001b[0m \u001b[1m3s\u001b[0m 16ms/step\n",
            "\u001b[1m104/104\u001b[0m \u001b[32m━━━━━━━━━━━━━━━━━━━━\u001b[0m\u001b[37m\u001b[0m \u001b[1m2s\u001b[0m 16ms/step\n",
            "Train AUC: 0.8971679662414958, Test AUC: 0.9972713479350394\n",
            "Using trainset to find threshold:\n",
            "threshold value:  6.7309995\n",
            "f1:  0.9058683451452428\n",
            "recall:  0.9984081347066355\n",
            "precision:  0.8290279532573233\n",
            "Accuracy:  0.8280577470351729\n",
            "##################################\n",
            "Using testset to find threshold:\n",
            "threshold value:  6.73304\n",
            "f1:  0.9058894304074696\n",
            "recall:  0.9984050793030014\n",
            "precision:  0.8290653804875945\n",
            "Accuracy:  0.8281007889326623\n",
            "##################################\n"
          ]
        }
      ],
      "source": [
        "from sklearn.metrics import f1_score\n",
        "from sklearn.metrics import confusion_matrix\n",
        "from sklearn.metrics import recall_score\n",
        "from sklearn.metrics import precision_score\n",
        "from sklearn.metrics import accuracy_score\n",
        "from sklearn.metrics import roc_curve\n",
        "from sklearn.metrics import roc_auc_score\n",
        "\n",
        "# We have no idea how original author got the thresholds, we use average of auc score\n",
        "def evaluation_threshold(threshold, y_test, distances):\n",
        "\n",
        "  tr = [threshold]\n",
        "\n",
        "  for t in tr:\n",
        "    res=[]\n",
        "    for d in distances:\n",
        "      if d > t:\n",
        "        res.append(1)\n",
        "      else:\n",
        "        res.append(0)\n",
        "\n",
        "    f1score = f1_score(y_test.astype(np.int32), res)\n",
        "    recall = recall_score(y_test.astype(np.int32), res)\n",
        "    precision = precision_score(y_test.astype(np.int32), res)\n",
        "    accuracy = accuracy_score(y_test.astype(np.int32), res)\n",
        "    print('threshold value: ', t)\n",
        "    print('f1: ', f1score)\n",
        "    print('recall: ',  recall)\n",
        "    print('precision: ', precision)\n",
        "    print('Accuracy: ', accuracy)\n",
        "    print('##################################')\n",
        "    return t, f1score, recall, precision, accuracy\n",
        "\n",
        "max_accuracy = 0\n",
        "max_recall = 0\n",
        "max_precision = 0\n",
        "max_f1score = 0\n",
        "\n",
        "max_accuracy_test = 0\n",
        "max_recall_test = 0\n",
        "max_precision_test = 0\n",
        "max_f1score_test = 0\n",
        "\n",
        "with mirrored_strategy.scope():\n",
        "    for i in range(20):\n",
        "        print(f\"Currently Running Epoch - {i+1}\")\n",
        "        model.fit(x_train, y_train, batch_size=2048, epochs=1)\n",
        "\n",
        "        # Evaluate performance\n",
        "        test_distances = model.predict(x_test, batch_size=2048)\n",
        "        train_distances = model.predict(x_train, batch_size=2048)\n",
        "\n",
        "        test_auc = roc_auc_score(y_test.astype(np.int32), test_distances)\n",
        "        train_auc = roc_auc_score(y_train.astype(np.int32), train_distances)\n",
        "\n",
        "        fpr_test, tpr_test, thresholds_test = roc_curve(y_test.astype(np.int32), test_distances, pos_label=1)\n",
        "        fpr_train, tpr_train, thresholds_train = roc_curve(y_train.astype(np.int32), train_distances, pos_label=1)\n",
        "\n",
        "        print(f\"Train AUC: {train_auc}, Test AUC: {test_auc}\")\n",
        "\n",
        "        if train_auc == 1: # prevent calculation go wrong, not impacting results\n",
        "          train_auc = 0.99\n",
        "        if test_auc == 1:\n",
        "          test_auc = 0.99\n",
        "\n",
        "        print('Using trainset to find threshold:') # this should be legit\n",
        "        t, f1score, recall, precision, accuracy = evaluation_threshold(np.average(thresholds_train[tpr_train>train_auc]), y_test, test_distances)\n",
        "        print('Using testset to find threshold:') # this is what the authors used, which leaks info\n",
        "        t_test, f1score_test, recall_test, precision_test, accuracy_test = evaluation_threshold(np.average(thresholds_test[tpr_test>test_auc]), y_test, test_distances)\n",
        "\n",
        "        if max_accuracy <= accuracy:\n",
        "          max_accuracy = accuracy\n",
        "          max_recall = recall\n",
        "          max_precision = precision\n",
        "          max_f1score = f1score\n",
        "\n",
        "        if max_accuracy_test <= accuracy_test:\n",
        "          max_accuracy_test = accuracy_test\n",
        "          max_recall_test = recall\n",
        "          max_precision_test = precision_test\n",
        "          max_f1score_test = f1score_test\n"
      ]
    },
    {
      "cell_type": "code",
      "execution_count": 57,
      "metadata": {
        "colab": {
          "base_uri": "https://localhost:8080/"
        },
        "id": "y0sJzUS9oLQe",
        "outputId": "7ce2e3a3-3d7a-41b6-e830-134c7432c6f0"
      },
      "outputs": [
        {
          "output_type": "stream",
          "name": "stdout",
          "text": [
            "*******\n",
            "author's best:\n",
            "0.8528954537628746 0.849807415416123 0.9998808392582702 0.9184037749892916\n"
          ]
        }
      ],
      "source": [
        "print(\"*******\\nauthor's best:\")\n",
        "print(max_accuracy_test, max_precision_test, max_recall_test, max_f1score_test)"
      ]
    },
    {
      "cell_type": "code",
      "execution_count": 58,
      "metadata": {
        "colab": {
          "base_uri": "https://localhost:8080/"
        },
        "id": "6Fmc_HYVoiSm",
        "outputId": "9173734a-b072-4a9e-aa3d-dde158aae092"
      },
      "outputs": [
        {
          "output_type": "stream",
          "name": "stdout",
          "text": [
            "*******\n",
            "train's best:\n",
            "0.8361850700316991 0.8350088795443875 0.9998808392582702 0.9100376667996847\n"
          ]
        }
      ],
      "source": [
        "print(\"*******\\ntrain's best:\")\n",
        "print(max_accuracy, max_precision, max_recall, max_f1score)"
      ]
    },
    {
      "cell_type": "markdown",
      "source": [
        "## Visualization"
      ],
      "metadata": {
        "id": "pXRyCph0W1Kv"
      }
    },
    {
      "cell_type": "code",
      "source": [
        "#Confusion Matrix Visualization\n",
        "import matplotlib.pyplot as plt\n",
        "from sklearn.metrics import confusion_matrix, ConfusionMatrixDisplay\n",
        "\n",
        "def plot_confusion_matrix(y_true, y_pred, title=\"Confusion Matrix\"):\n",
        "    cm = confusion_matrix(y_true, y_pred)\n",
        "    disp = ConfusionMatrixDisplay(confusion_matrix=cm)\n",
        "    disp.plot(cmap=\"Blues\")\n",
        "    plt.title(title)\n",
        "    plt.show()\n",
        "\n",
        "# Example Usage\n",
        "threshold = np.average(thresholds_test[tpr_test > test_auc])  # Replace with a valid condition\n",
        "predicted_classes = [1 if dist > threshold else 0 for dist in test_distances]  # Adjust threshold as needed\n",
        "plot_confusion_matrix(y_test, predicted_classes)"
      ],
      "metadata": {
        "colab": {
          "base_uri": "https://localhost:8080/",
          "height": 472
        },
        "id": "kloW8S_gW4FG",
        "outputId": "066b157b-48b5-45f9-98b7-b4e9c8a93f6b"
      },
      "execution_count": 59,
      "outputs": [
        {
          "output_type": "display_data",
          "data": {
            "text/plain": [
              "<Figure size 640x480 with 2 Axes>"
            ],
            "image/png": "[encoded data removed]"
          },
          "metadata": {}
        }
      ]
    },
    {
      "cell_type": "code",
      "source": [
        "#Plotting ROC Curve\n",
        "def plot_roc_curve(fpr, tpr, auc_score, title=\"ROC Curve\"):\n",
        "    plt.plot(fpr, tpr, color='blue', label=f'AUC = {auc_score:.2f}')\n",
        "    plt.plot([0, 1], [0, 1], 'k--')  # Diagonal line\n",
        "    plt.xlabel('False Positive Rate')\n",
        "    plt.ylabel('True Positive Rate')\n",
        "    plt.title(title)\n",
        "    plt.legend()\n",
        "    plt.show()\n",
        "\n",
        "# Example Usage\n",
        "plot_roc_curve(fpr_test, tpr_test, test_auc, title=\"Test ROC Curve\")"
      ],
      "metadata": {
        "colab": {
          "base_uri": "https://localhost:8080/",
          "height": 472
        },
        "id": "k5j3XqsFW859",
        "outputId": "14467d41-9fc8-424e-abd9-f89f2508a2fc"
      },
      "execution_count": 60,
      "outputs": [
        {
          "output_type": "display_data",
          "data": {
            "text/plain": [
              "<Figure size 640x480 with 1 Axes>"
            ],
            "image/png": "[encoded data removed]"
          },
          "metadata": {}
        }
      ]
    },
    {
      "cell_type": "code",
      "source": [
        "#Metrics vs Threshold Plot\n",
        "def plot_metrics_vs_threshold(thresholds, precisions, recalls, f1s):\n",
        "    plt.plot(thresholds, precisions, label=\"Precision\")\n",
        "    plt.plot(thresholds, recalls, label=\"Recall\")\n",
        "    plt.plot(thresholds, f1s, label=\"F1 Score\")\n",
        "    plt.xlabel('Threshold')\n",
        "    plt.ylabel('Metrics')\n",
        "    plt.title('Metrics vs Threshold')\n",
        "    plt.legend()\n",
        "    plt.show()\n",
        "\n",
        "# Example Usage\n",
        "thresholds = thresholds_test\n",
        "precisions = [precision_score(y_test, [1 if dist > t else 0 for dist in test_distances]) for t in thresholds]\n",
        "recalls = [recall_score(y_test, [1 if dist > t else 0 for dist in test_distances]) for t in thresholds]\n",
        "f1s = [f1_score(y_test, [1 if dist > t else 0 for dist in test_distances]) for t in thresholds]\n",
        "plot_metrics_vs_threshold(thresholds, precisions, recalls, f1s)"
      ],
      "metadata": {
        "colab": {
          "base_uri": "https://localhost:8080/",
          "height": 566
        },
        "id": "g11fRvXGXBke",
        "outputId": "305c458b-5d62-4fa4-9d6b-66cbf019b301"
      },
      "execution_count": 62,
      "outputs": [
        {
          "output_type": "stream",
          "name": "stderr",
          "text": [
            "/usr/local/lib/python3.11/dist-packages/sklearn/metrics/_classification.py:1565: UndefinedMetricWarning: Precision is ill-defined and being set to 0.0 due to no predicted samples. Use `zero_division` parameter to control this behavior.\n",
            "  _warn_prf(average, modifier, f\"{metric.capitalize()} is\", len(result))\n",
            "/usr/local/lib/python3.11/dist-packages/sklearn/metrics/_classification.py:1565: UndefinedMetricWarning: Precision is ill-defined and being set to 0.0 due to no predicted samples. Use `zero_division` parameter to control this behavior.\n",
            "  _warn_prf(average, modifier, f\"{metric.capitalize()} is\", len(result))\n"
          ]
        },
        {
          "output_type": "display_data",
          "data": {
            "text/plain": [
              "<Figure size 640x480 with 1 Axes>"
            ],
            "image/png": "[encoded data removed]"
          },
          "metadata": {}
        }
      ]
    }
  ],
  "metadata": {
    "accelerator": "GPU",
    "colab": {
      "gpuClass": "premium",
      "gpuType": "T4",
      "machine_shape": "hm",
      "provenance": []
    },
    "kernelspec": {
      "display_name": "Python 3",
      "name": "python3"
    },
    "language_info": {
      "codemirror_mode": {
        "name": "ipython",
        "version": 3
      },
      "file_extension": ".py",
      "mimetype": "text/x-python",
      "name": "python",
      "nbconvert_exporter": "python",
      "pygments_lexer": "ipython3",
      "version": "3.6.7"
    }
  },
  "nbformat": 4,
  "nbformat_minor": 0
}