{
  "cells": [
    {
      "cell_type": "markdown",
      "metadata": {
        "id": "NxcscygxQKNS"
      },
      "source": [
        "# **Anomaly Detection for BGL dataset**\n"
      ]
    },
    {
      "cell_type": "markdown",
      "metadata": {
        "id": "WkkgktabSyKZ"
      },
      "source": [
        "# Import libraries\n"
      ]
    },
    {
      "cell_type": "code",
      "execution_count": 2,
      "metadata": {
        "colab": {
          "base_uri": "https://localhost:8080/"
        },
        "id": "p-_F7uwWUcCf",
        "outputId": "178ee7db-8285-463a-ccea-243b799999d7"
      },
      "outputs": [
        {
          "output_type": "stream",
          "name": "stderr",
          "text": [
            "[nltk_data] Downloading package stopwords to /root/nltk_data...\n",
            "[nltk_data]   Unzipping corpora/stopwords.zip.\n",
            "[nltk_data] Downloading package punkt to /root/nltk_data...\n",
            "[nltk_data]   Unzipping tokenizers/punkt.zip.\n"
          ]
        }
      ],
      "source": [
        "import numpy as np\n",
        "import pandas as pd\n",
        "import math, copy, time\n",
        "import pickle\n",
        "import os\n",
        "import re\n",
        "\n",
        "import signal\n",
        "import nltk\n",
        "from nltk import word_tokenize\n",
        "from nltk.corpus import stopwords\n",
        "\n",
        "nltk.download('stopwords')\n",
        "nltk.download('punkt')\n",
        "\n",
        "from tqdm import trange\n",
        "\n",
        "import random\n",
        "import re\n",
        "\n",
        "import tensorflow.keras.backend as K\n",
        "from tensorflow.keras.layers import Layer\n",
        "from tensorflow.keras import layers\n",
        "from tensorflow.keras.callbacks import Callback\n",
        "import keras\n",
        "np.random.seed(0)\n"
      ]
    },
    {
      "cell_type": "markdown",
      "metadata": {
        "id": "IDM8RiW1Sc-N"
      },
      "source": [
        "# First enable GPU parallel execution"
      ]
    },
    {
      "cell_type": "code",
      "execution_count": 3,
      "metadata": {
        "id": "BCeoG8M467sp"
      },
      "outputs": [],
      "source": [
        "import tensorflow as tf\n",
        "mirrored_strategy = tf.distribute.MirroredStrategy()"
      ]
    },
    {
      "cell_type": "markdown",
      "metadata": {
        "id": "oYtNm7lES3Ng"
      },
      "source": [
        "# Mount dataset"
      ]
    },
    {
      "cell_type": "code",
      "execution_count": 4,
      "metadata": {
        "colab": {
          "base_uri": "https://localhost:8080/"
        },
        "id": "ME281tJIUOXa",
        "outputId": "c32577d9-b72b-4539-ad88-2cd2c6c213ae"
      },
      "outputs": [
        {
          "output_type": "stream",
          "name": "stdout",
          "text": [
            "Mounted at /content/drive\n"
          ]
        }
      ],
      "source": [
        "from google.colab import drive\n",
        "drive.mount('/content/drive')\n",
        "\n",
        "# special to google colab | put your 4 Datasets into this path\n",
        "folder_path = '/content/drive/My Drive/LogSy'"
      ]
    },
    {
      "cell_type": "markdown",
      "metadata": {
        "id": "TpcmiFCpS6xQ"
      },
      "source": [
        "# Read in the datasets using preprocessor"
      ]
    },
    {
      "cell_type": "code",
      "execution_count": 5,
      "metadata": {
        "id": "5b8wEE-yrWCB"
      },
      "outputs": [],
      "source": [
        "\"\"\"\n",
        "Standard tokenizer + do what the paper says\n",
        "\"\"\"\n",
        "\"\"\"\n",
        "Do not run this script in Windows, it will not work due to use of signal\n",
        "\n",
        "We also use authors preprocessor to evaluate our model just in case we made something wrong here\n",
        "\"\"\"\n",
        "\n",
        "class TimeoutException(Exception):  # Custom exception class\n",
        "    pass\n",
        "\n",
        "\n",
        "def timeout_handler(signum, frame):  # Custom signal handler\n",
        "    raise TimeoutException\n",
        "\n",
        "\n",
        "# Change the behavior of SIGALRM\n",
        "signal.signal(signal.SIGALRM, timeout_handler)\n",
        "\n",
        "\n",
        "class DataTokenizer:\n",
        "    def __init__(self):\n",
        "        self.word2index = {'[PAD]': 0, '[CLS]': 1, '[MASK]': 2}\n",
        "        self.num_words = 3\n",
        "        self.stop_words = set(stopwords.words('english'))\n",
        "\n",
        "    def tokenize(self, message):\n",
        "        # paper section IV: Tokenization processing\n",
        "        message = message.lower()\n",
        "        message = re.sub(r'/.*:', '', message, flags=re.MULTILINE)  # filter for endpoints\n",
        "        message = re.sub(r'/.*', '', message, flags=re.MULTILINE)\n",
        "        message = word_tokenize(message)  # remove non words\n",
        "        message = (word for word in message if word.isalpha())  # generator  # remove numerical\n",
        "        message = [word for word in message if word not in self.stop_words]  # remove nltk common stopwords\n",
        "        message = ['[CLS]'] + message  # add embedding token\n",
        "        for word_idx, word in enumerate(message):  # convert to value\n",
        "            if word not in self.word2index:\n",
        "                self.word2index[word] = self.num_words\n",
        "                self.num_words += 1\n",
        "            message[word_idx] = self.word2index[word]\n",
        "        return message\n",
        "tokenizer = DataTokenizer()\n",
        "\n",
        "from tqdm.auto import tqdm\n",
        "class DataImporter:\n",
        "    \"\"\"\n",
        "    loads data set from the raw dataset\n",
        "    \"\"\"\n",
        "\n",
        "    def __init__(self, log_template, dataset_folder_path, dataset_name, dataset_step=1,\n",
        "                 dataset_limit=100000, dataset_type='main', normal_indicator: str = '-', aux_count=50000,\n",
        "                 chunk: bool = True):\n",
        "        self.log_template = log_template  # a template containing <Token{n}> and <Message>\n",
        "        self.log_dataframe = None\n",
        "        self.dataset_folder_path: str = dataset_folder_path  # path to the dataset folder\n",
        "        self.dataset_name: str = dataset_name  # full name of raw dataset\n",
        "        self.step: int = dataset_step  # step taken to sample auxiliary dataset\n",
        "        self.log_template_regex: re = re.compile(r'')\n",
        "        self.log_template_headers: list[str] = []\n",
        "        self.limit: int = dataset_limit  # used for faster experiment only\n",
        "        self.dataset_type: str = dataset_type\n",
        "        self.normal_indicator: str = normal_indicator  # a sign indicating the log line is anomaly\n",
        "        self.aux_count: int = aux_count\n",
        "        self.chunk: bool = chunk\n",
        "\n",
        "    def log_loader(self):\n",
        "        \"\"\"\n",
        "        read from IO stream and only take the actual log message based on template\n",
        "        :return:\n",
        "        \"\"\"\n",
        "        log_messages = []\n",
        "        true_labels = []\n",
        "        with open(os.path.join(self.dataset_folder_path, self.dataset_name), 'r', encoding=\"latin-1\") as ds:\n",
        "            for line_no, line in enumerate(tqdm(ds, miniters=1)):\n",
        "                if line_no != 1 and line_no % 20000000 == 1:  # 15 file chunks\n",
        "                    with open(f'dataset/tbird/{self.dataset_name}_chunked_msg_line{line_no}', 'wb') as message_file:\n",
        "                        # print(log_messages)\n",
        "                        # log_messages_array = np.asanyarray(log_messages).reshape(-1, 1)\n",
        "                        print(len(log_messages))\n",
        "                        l = len(log_messages)\n",
        "                        tokenized = [tokenizer.tokenize(log_message) for log_message in\n",
        "                                     tqdm(log_messages, position=0, leave=True, total=l)]\n",
        "                        tokenized_np = np.asanyarray(tokenized)\n",
        "                        del tokenized\n",
        "                        pickle.dump(tokenized_np, message_file)\n",
        "                        log_messages = []  # reset\n",
        "                # Start the timer. Once 10 seconds are over, a SIGALRM signal is sent.\n",
        "                try:\n",
        "                    try:\n",
        "                        signal.alarm(30)\n",
        "\n",
        "                        match = self.log_template_regex.search(line.strip())\n",
        "\n",
        "                        if not match:\n",
        "                            continue\n",
        "                        label_decider = lambda x: 0 if x == self.normal_indicator else 1\n",
        "                        true_labels.append(label_decider(match.group('Token0')))\n",
        "                        # message = tokenizer.tokenize(match.group('Message'))\n",
        "                        # log_messages.append(message)\n",
        "                        log_messages.append(match.group('Message'))\n",
        "                        # print('message after tokenize ', message, log_messages)\n",
        "                        # print(self.log_template_headers)\n",
        "                    except Exception as e:  # noqa\n",
        "                        print(e)\n",
        "                        # print(e) # will skip those without normal indications('-' OR 'warn')\n",
        "                        pass\n",
        "                except TimeoutException:\n",
        "                    print(\"Regex hang detected, skipping\")\n",
        "                    continue  # catastrophic backtracking\n",
        "                else:\n",
        "                    signal.alarm(0)\n",
        "                if line_no == self.limit:\n",
        "                    break\n",
        "        return log_messages, np.array(true_labels)  # remaining log_messages and all of labels\n",
        "\n",
        "    def load(self):\n",
        "        self.log_template_matcher()\n",
        "\n",
        "        self.log_dataframe = self.log_loader()\n",
        "\n",
        "\n",
        "    def log_template_matcher(self):\n",
        "        headers = []\n",
        "        splitters = re.split(r'(<[^<>]+>)', self.log_template)\n",
        "        regex = ''\n",
        "        for k in range(len(splitters)):\n",
        "            if k % 2 == 0:\n",
        "                splitter = re.sub(' +', '\\\\\\s+', splitters[k])\n",
        "                regex += splitter\n",
        "            else:\n",
        "                header = splitters[k].strip('<').strip('>')\n",
        "                regex += '(?P<%s>.+?)' % header\n",
        "                headers.append(header)\n",
        "        print(regex)\n",
        "        regex = re.compile('^' + regex + '$')\n",
        "\n",
        "        self.log_template_headers, self.log_template_regex = headers, regex"
      ]
    },
    {
      "cell_type": "code",
      "execution_count": 6,
      "metadata": {
        "id": "QmysvQ57IyFV"
      },
      "outputs": [],
      "source": [
        "# original authors' data processor\n",
        "class LogReader:\n",
        "    def __init__(self, log_format, log_name, indir='./', outdir='./result/', rex=[], every_n=10, max_lines=2000000):\n",
        "        self.path = indir\n",
        "        self.logName = log_name\n",
        "        self.savePath = outdir\n",
        "        self.df_log = None\n",
        "        self.log_format = log_format\n",
        "        self.rex = rex\n",
        "        self.every_n = every_n\n",
        "        self.max_lines = max_lines\n",
        "\n",
        "    def log_to_dataframe(self, log_file, regex, headers, logformat):\n",
        "        \"\"\" Function to transform log file to dataframe \"\"\"\n",
        "        log_messages = []\n",
        "        linecount = 0\n",
        "\n",
        "        if self.max_lines:\n",
        "            with open(log_file, 'r', encoding=\"latin-1\") as fin:\n",
        "                for i, line in enumerate(fin):\n",
        "                    if i % self.every_n == 0:\n",
        "                        try:\n",
        "                            match = regex.search(line.strip())\n",
        "                            message = [match.group(header) for header in headers]\n",
        "                            log_messages.append(message)\n",
        "                            linecount += 1\n",
        "                        except Exception as e:\n",
        "                            pass\n",
        "                    if i == self.max_lines:\n",
        "                        break\n",
        "        else:\n",
        "            with open(log_file, 'r', encoding=\"latin-1\") as fin:\n",
        "                for i, line in enumerate(fin):\n",
        "                    if i % self.every_n == 0:\n",
        "                        try:\n",
        "                            match = regex.search(line.strip())\n",
        "                            message = [match.group(header) for header in headers]\n",
        "                            log_messages.append(message)\n",
        "                            linecount += 1\n",
        "                        except Exception as e:\n",
        "                            pass\n",
        "\n",
        "        logdf = pd.DataFrame(log_messages, columns=headers)\n",
        "        if 'LineId' not in logdf.columns:\n",
        "          logdf.insert(0, 'LineId', None)\n",
        "          logdf['LineId'] = [i + 1 for i in range(linecount)]\n",
        "\n",
        "        return logdf\n",
        "\n",
        "    def generate_logformat_regex(self, logformat):\n",
        "        \"\"\" Function to generate regular expression to split log messages \"\"\"\n",
        "        headers = []\n",
        "        splitters = re.split(r'(<[^<>]+>)', logformat)\n",
        "        regex = ''\n",
        "        for k in range(len(splitters)):\n",
        "            if k % 2 == 0:\n",
        "                splitter = re.sub(' +', '\\\\\\s+', splitters[k])\n",
        "                regex += splitter\n",
        "            else:\n",
        "                header = splitters[k].strip('<').strip('>')\n",
        "                regex += '(?P<%s>.*?)' % header\n",
        "                headers.append(header)\n",
        "        regex = re.compile('^' + regex + '$')\n",
        "        return headers, regex\n",
        "\n",
        "    def load_data(self):\n",
        "        headers, regex = self.generate_logformat_regex(self.log_format)\n",
        "        self.df_log = self.log_to_dataframe(os.path.join(self.path, self.logName), regex, headers, self.log_format)\n",
        "\n",
        "# LogTokenizer class for tokenizing log content\n",
        "class LogTokenizer:\n",
        "    def __init__(self):\n",
        "        self.word2index = {'[PAD]': 0, '[CLS]': 1, '[MASK]': 2}\n",
        "        self.index2word = {0: '[PAD]', 1: '[CLS]', 2: '[MASK]'}\n",
        "        self.n_words = 3  # Count special tokens\n",
        "        self.stop_words = set(stopwords.words('english'))\n",
        "        self.regextokenizer = nltk.RegexpTokenizer('\\w+|.|')\n",
        "\n",
        "    def addWord(self, word):\n",
        "        if word not in self.word2index:\n",
        "            self.word2index[word] = self.n_words\n",
        "            self.index2word[self.n_words] = word\n",
        "            self.n_words += 1\n",
        "\n",
        "    def tokenize(self, sent):\n",
        "        sent = re.sub(r'\\/.*:', '', sent, flags=re.MULTILINE)\n",
        "        sent = re.sub(r'\\/.*', '', sent, flags=re.MULTILINE)\n",
        "        sent = self.regextokenizer.tokenize(sent)\n",
        "        sent = [w.lower() for w in sent]\n",
        "        sent = [word for word in sent if word.isalpha()]\n",
        "        sent = [w for w in sent if not w in self.stop_words]\n",
        "        sent = ['[CLS]'] + sent\n",
        "        for w in range(len(sent)):\n",
        "            self.addWord(sent[w])\n",
        "            sent[w] = self.word2index[sent[w]]\n",
        "        return sent\n",
        "\n",
        "# Function to load general datasets\n",
        "def get_data(log_file, input_dir, output_dir, log_format, regex=[], every_n=10, aux=0, max_lines=5000000):\n",
        "    reader = LogReader(log_format, log_file, indir=input_dir, outdir=output_dir, rex=regex, every_n=every_n, max_lines=max_lines)\n",
        "    reader.load_data()\n",
        "    log_payload, true_labels = reader.df_log.Content, np.where(reader.df_log.t.values == '-', 0, 1)\n",
        "    del reader\n",
        "    if aux != 0:\n",
        "        df_anomalies = log_payload.iloc[true_labels.flatten() == 1].sample(n=aux).values\n",
        "        df_normal = log_payload.iloc[true_labels.flatten() == 0].sample(n=aux).values\n",
        "        return df_normal, df_anomalies\n",
        "    else:\n",
        "        return log_payload, true_labels\n",
        "\n",
        "# Function to load special datasets\n",
        "def get_data_special(log_file, input_dir, output_dir, log_format, regex=[], every_n=10, aux=0, max_lines=2000000):\n",
        "    reader = LogReader(log_format, log_file, indir=input_dir, outdir=output_dir, rex=regex, every_n=every_n, max_lines=max_lines)\n",
        "    reader.load_data()\n",
        "    log_payload, true_labels = reader.df_log.Content, np.where(reader.df_log.t.values != 'FATAL', 0, 1)\n",
        "    del reader\n",
        "\n",
        "    return log_payload, true_labels\n",
        "\n",
        "# New function to load HDFS dataset\n",
        "def get_data_hdfs(log_file, input_dir, output_dir, log_format, regex=[], every_n=1, max_lines=5000000):\n",
        "    reader = LogReader(log_format, log_file, indir=input_dir, outdir=output_dir, rex=regex, every_n=every_n, max_lines=max_lines)\n",
        "    reader.load_data()\n",
        "    #---Debuggung\n",
        "    print(reader.df_log['Label'].unique())  # Check the unique values in the Label field\n",
        "    #------------\n",
        "    log_payload, true_labels = reader.df_log.Content, np.where(reader.df_log.Label == 'Normal', 0, 1)\n",
        "    del reader\n",
        "    return log_payload, true_labels\n"
      ]
    },
    {
      "cell_type": "markdown",
      "metadata": {
        "id": "941425gnirAp"
      },
      "source": [
        "\n",
        "\n",
        "# First 3 aux datasets"
      ]
    },
    {
      "cell_type": "code",
      "execution_count": 7,
      "metadata": {
        "collapsed": true,
        "id": "dZr6kGpZUcCj"
      },
      "outputs": [],
      "source": [
        "log_file = 'spirit_small'\n",
        "input_dir  = folder_path\n",
        "output_dir = '.'\n",
        "log_format = '<t> <Timestamp> <Date> <User> <Month> <Day> <Time> <Location> <Content>'  #spirit2\n",
        "\n",
        "aux_normal, aux_anomalies = get_data(log_file, input_dir, output_dir, log_format, every_n=1, aux=200000, max_lines=False) # use 200000 when its tbird2 small (5m)"
      ]
    },
    {
      "cell_type": "code",
      "execution_count": 8,
      "metadata": {
        "id": "LfyuPftFUcCj",
        "scrolled": true
      },
      "outputs": [],
      "source": [
        "log_file = 'tbird2_small' # small meaning the dataset using only first 5m, note model doesn't converge well when sampling 5m instead of first 5m even if using original authors code\n",
        "input_dir  = folder_path\n",
        "log_format = '<t> <Timestamp> <Date> <User> <Month> <Day> <Time> <Location> <Component>(\\[<PID>\\])?: <Content>'  #thunderbird\n",
        "output_dir = '.'\n",
        "every_n = 1\n",
        "aux_size = 200000\n",
        "aux_normal1, aux_anomalies1= get_data(log_file, input_dir, output_dir, log_format, every_n=1, aux=200000, max_lines=False)\n"
      ]
    },
    {
      "cell_type": "code",
      "execution_count": 9,
      "metadata": {
        "id": "LdSU3380UcCk"
      },
      "outputs": [],
      "source": [
        "log_file = 'Intrepid_RAS_0901_0908_scrubbed' # this one cannot be used as target, its too obvious\n",
        "input_dir  = folder_path\n",
        "output_dir = '.'\n",
        "log_format = '<f> <a>          <c>       <d>                  <e>    <t> <Content>'  #BGP\n",
        "aux_anomalies_t, tl = get_data_special(log_file, input_dir, output_dir, log_format, every_n=1, aux=False, max_lines=False)\n",
        "aux_normal2, aux_anomalies2  = aux_anomalies_t[tl==1], aux_anomalies_t[tl==0] # reverse this [TODO]\n"
      ]
    },
    {
      "cell_type": "markdown",
      "metadata": {
        "id": "oudsVRz7TL32"
      },
      "source": [
        "## Concat the auxiliary datasets to one single piece, then sample if it was more than a threshold\n"
      ]
    },
    {
      "cell_type": "code",
      "execution_count": 10,
      "metadata": {
        "id": "taWdIBBLUcCl"
      },
      "outputs": [],
      "source": [
        "# concatenate\n",
        "aux_anomalies = np.append(aux_anomalies, aux_anomalies1)\n",
        "aux_anomalies_full = np.append(aux_anomalies, aux_anomalies2)"
      ]
    },
    {
      "cell_type": "code",
      "execution_count": 11,
      "metadata": {
        "id": "a04tdsT-UcCl"
      },
      "outputs": [],
      "source": [
        "# sample\n",
        "if aux_anomalies.shape[0] > 500000:\n",
        "  aux_anomalies = np.random.choice(aux_anomalies_full, size=500000, replace=False)  # changing size doesn't seem to change results\n",
        "  print(f\"Selected {aux_anomalies.shape} samples out of {len(aux_anomalies_full)} aux samples\")"
      ]
    },
    {
      "cell_type": "markdown",
      "metadata": {
        "id": "beUJ6Ow_PQhD"
      },
      "source": [
        "# Then target dataset - switch with aux if you need to evaluate different target"
      ]
    },
    {
      "cell_type": "code",
      "source": [
        "# Specify the BGL log file details\n",
        "#read the datasets\n",
        "log_file = 'bgl2' # first 5 million, note bgl only has 5m when full dataset\n",
        "input_dir  = folder_path  # The input directory of log file\n",
        "output_dir = '.'  # The output directory of parsing results\n",
        "log_format = '<t> <Timestamp> <Date> <Node> <Time> <NodeRepeat> <Type> <Component> <Level> <Content>'  #BGL\n",
        "\n",
        "# Load the HDFS dataset using the custom function\n",
        "log_payload, true_labels = get_data(log_file, input_dir, output_dir, log_format, every_n=1, aux=False, max_lines=5000000)\n",
        "\n",
        "# Print some basic details about the dataset\n",
        "print(f\"Total logs: {len(log_payload)}\")\n",
        "print(f\"Anomalous logs: {np.sum(true_labels)}\")\n",
        "print(f\"Normal logs: {len(true_labels) - np.sum(true_labels)}\")\n"
      ],
      "metadata": {
        "colab": {
          "base_uri": "https://localhost:8080/"
        },
        "id": "9eUBMCLn6TEG",
        "outputId": "67a4fca0-5e15-4eb1-b217-cb768593113d"
      },
      "execution_count": 12,
      "outputs": [
        {
          "output_type": "stream",
          "name": "stdout",
          "text": [
            "Total logs: 4713493\n",
            "Anomalous logs: 348698\n",
            "Normal logs: 4364795\n"
          ]
        }
      ]
    },
    {
      "cell_type": "code",
      "execution_count": null,
      "metadata": {
        "id": "eIkTZFuQWuvq"
      },
      "outputs": [],
      "source": [
        "### Never shuffle the data here, or there will be info leak"
      ]
    },
    {
      "cell_type": "code",
      "execution_count": 13,
      "metadata": {
        "colab": {
          "base_uri": "https://localhost:8080/"
        },
        "id": "H4c-K9T7UcCm",
        "outputId": "6354a98c-1762-4d34-83cb-a4191aeca090"
      },
      "outputs": [
        {
          "output_type": "execute_result",
          "data": {
            "text/plain": [
              "4713493"
            ]
          },
          "metadata": {},
          "execution_count": 13
        }
      ],
      "source": [
        "df_size = len(log_payload)\n",
        "df_size"
      ]
    },
    {
      "cell_type": "code",
      "source": [
        "true_labels = true_labels.reshape(-1,1)"
      ],
      "metadata": {
        "id": "xRQXkG4JV1gX"
      },
      "execution_count": 14,
      "outputs": []
    },
    {
      "cell_type": "code",
      "execution_count": 15,
      "metadata": {
        "id": "ufdIgBLJUcCn",
        "colab": {
          "base_uri": "https://localhost:8080/"
        },
        "outputId": "455b0253-a817-4425-e43a-1453ebfdf17c"
      },
      "outputs": [
        {
          "output_type": "stream",
          "name": "stdout",
          "text": [
            "log shape (5113493, 1), log labels shape (5113493,)\n"
          ]
        }
      ],
      "source": [
        "#append the anomalies to the full data\n",
        "log_payload = np.append(log_payload.values.reshape(-1,1), aux_anomalies.reshape(-1,1), axis=0)\n",
        "true_labels = np.append(true_labels, np.ones(len(aux_anomalies)).reshape(-1,1), axis=0).flatten()\n",
        "print(f'log shape {log_payload.shape}, log labels shape {true_labels.shape}')"
      ]
    },
    {
      "cell_type": "markdown",
      "metadata": {
        "id": "MrQp5QZxXy-Z"
      },
      "source": [
        "# Tokenize!"
      ]
    },
    {
      "cell_type": "code",
      "execution_count": 16,
      "metadata": {
        "colab": {
          "base_uri": "https://localhost:8080/"
        },
        "id": "3O2uU67VUcCo",
        "outputId": "b0129479-9edf-4010-b319-b188c1264367",
        "scrolled": true
      },
      "outputs": [
        {
          "output_type": "stream",
          "name": "stderr",
          "text": [
            "100%|██████████| 5113493/5113493 [00:54<00:00, 93592.63it/s]\n"
          ]
        }
      ],
      "source": [
        "\n",
        "tokenizer = LogTokenizer()\n",
        "df_len = int(log_payload.shape[0]) # the num of logs\n",
        "data_tokenized = []\n",
        "for i in trange(df_len):\n",
        "    tokenized = tokenizer.tokenize(log_payload[i][0])\n",
        "    data_tokenized.append(tokenized)"
      ]
    },
    {
      "cell_type": "code",
      "execution_count": 17,
      "metadata": {
        "id": "RtWHQxFmRbTK"
      },
      "outputs": [],
      "source": [
        "# pickle to file\n",
        "with open('tokenized','wb') as tokenized_file:\n",
        "  pickle.dump(data_tokenized, tokenized_file)"
      ]
    },
    {
      "cell_type": "code",
      "execution_count": 18,
      "metadata": {
        "id": "dTfbilkfUl2q"
      },
      "outputs": [],
      "source": [
        "# save it for multiple executions with different split rate\n",
        "with open('tokenized','rb') as token:\n",
        "  data_tokenized = pickle.load(token)"
      ]
    },
    {
      "cell_type": "code",
      "execution_count": 19,
      "metadata": {
        "id": "3cWcsFTUUcCo"
      },
      "outputs": [],
      "source": [
        "data_token_indexed = np.asanyarray(data_tokenized, dtype=object)"
      ]
    },
    {
      "cell_type": "markdown",
      "metadata": {
        "id": "PTrvJUVgaxWl"
      },
      "source": [
        "#Standard transformer encoder with multi-head *attention*"
      ]
    },
    {
      "cell_type": "code",
      "execution_count": 20,
      "metadata": {
        "id": "iMyZcAlm9rKW"
      },
      "outputs": [],
      "source": [
        "class TransformerEncoder(layers.Layer): # standard tensformer encoder\n",
        "    def __init__(self, embed_dim, num_heads, dense_dim, **kwargs):\n",
        "        super(TransformerEncoder, self).__init__(**kwargs)\n",
        "        self.embed_dim = embed_dim\n",
        "        self.dense_dim = dense_dim\n",
        "        self.num_heads = num_heads\n",
        "        self.attention = layers.MultiHeadAttention(\n",
        "            num_heads=num_heads, key_dim=embed_dim,dropout=0.1\n",
        "        )\n",
        "        self.dense_proj = keras.Sequential(\n",
        "            [layers.Dense(dense_dim, activation=\"relu\"), layers.Dense(embed_dim),]\n",
        "        )\n",
        "        self.layernorm_1 = layers.LayerNormalization()\n",
        "        self.layernorm_2 = layers.LayerNormalization()\n",
        "        self.supports_masking = True\n",
        "        self.dropout1 = layers.Dropout(0.05)\n",
        "        self.dropout2 = layers.Dropout(0.05)\n",
        "\n",
        "    def call(self, inputs, training, mask=None):\n",
        "        padding_mask = None # Initialize padding_mask to None\n",
        "        if mask is not None:\n",
        "            padding_mask = tf.cast(mask[:, tf.newaxis, tf.newaxis, :], dtype=\"int32\")\n",
        "        attention_output = self.attention(\n",
        "            query=inputs, value=inputs, key=inputs, attention_mask=padding_mask\n",
        "        )\n",
        "        attention_output = self.dropout1(attention_output, training=training)\n",
        "        proj_input = self.layernorm_1(inputs + attention_output)\n",
        "        proj_output = self.dense_proj(proj_input)\n",
        "        proj_output = self.dropout2(proj_output, training=training)\n",
        "        return self.layernorm_2(proj_input + proj_output)\n",
        "\n",
        "\n",
        "class PositionalEmbedding(layers.Layer):\n",
        "    def __init__(self, sequence_length, vocab_size, embed_dim, **kwargs):\n",
        "        super(PositionalEmbedding, self).__init__(**kwargs)\n",
        "        self.token_embeddings = layers.Embedding(\n",
        "            input_dim=vocab_size, output_dim=embed_dim\n",
        "        )\n",
        "        self.position_embeddings = layers.Embedding(\n",
        "            input_dim=sequence_length, output_dim=embed_dim\n",
        "        )\n",
        "        self.sequence_length = sequence_length\n",
        "        self.vocab_size = vocab_size\n",
        "        self.embed_dim = embed_dim\n",
        "\n",
        "    def call(self, inputs):\n",
        "        length = tf.shape(inputs)[-1]\n",
        "        positions = tf.range(start=0, limit=length, delta=1)\n",
        "        embedded_tokens = self.token_embeddings(inputs)\n",
        "        embedded_positions = self.position_embeddings(positions)\n",
        "        return embedded_tokens + embedded_positions\n",
        "\n",
        "    def compute_mask(self, inputs, mask=None):\n",
        "        return tf.math.not_equal(inputs, 0)\n",
        "\n"
      ]
    },
    {
      "cell_type": "markdown",
      "metadata": {
        "id": "reKk7is8YJzk"
      },
      "source": [
        "# IMPORTANT: CHANGE TRAIN TEST SPLIT RATIO HERE"
      ]
    },
    {
      "cell_type": "code",
      "execution_count": 21,
      "metadata": {
        "id": "u6AsfBzEPscK"
      },
      "outputs": [],
      "source": [
        "ratio = 0.6 # change from 0.1 0.2 0.4 0.6 0.8 its not always 0.8 performas better than 0.1"
      ]
    },
    {
      "cell_type": "code",
      "execution_count": 22,
      "metadata": {
        "colab": {
          "base_uri": "https://localhost:8080/"
        },
        "id": "xhHKoqiAUcCo",
        "outputId": "eebbccc1-1353-4b90-bc29-b68890cf7a57"
      },
      "outputs": [
        {
          "output_type": "stream",
          "name": "stdout",
          "text": [
            "4713493 2828096\n",
            "train size proportional to total logs - 0.6000000424313773\n"
          ]
        }
      ],
      "source": [
        "train_size = round(df_size * ratio)\n",
        "print(df_size, train_size)\n",
        "print(f\"train size proportional to total logs - {train_size/df_size}\")"
      ]
    },
    {
      "cell_type": "code",
      "execution_count": 23,
      "metadata": {
        "colab": {
          "base_uri": "https://localhost:8080/"
        },
        "id": "j2t94hDsUcCo",
        "outputId": "5be0b9b2-0f2c-4940-dadf-17bdae279178"
      },
      "outputs": [
        {
          "output_type": "stream",
          "name": "stdout",
          "text": [
            "train ground labels 0 1 counter Counter({0.0: 2596176, 1.0: 400000})\n",
            "test ground labels 0 1 counter Counter({0.0: 1768619, 1.0: 116778})\n",
            "(1885397,) (2996176,) (2996176,) (1885397,)\n"
          ]
        }
      ],
      "source": [
        "from collections import Counter\n",
        "# perform train test split\n",
        "\n",
        "# only take normal logs in target within ratio range\n",
        "data_token_indexed_train = np.append(data_token_indexed[:train_size][true_labels[:train_size]==0], data_token_indexed[df_size:],axis=0)\n",
        "\n",
        "# put remaining to test\n",
        "data_token_indexed_test = data_token_indexed[train_size:df_size]\n",
        "\n",
        "\n",
        "# labels using same split\n",
        "train_ground_labels = np.append(true_labels[:train_size][true_labels[:train_size]==0].flatten(), true_labels[df_size:].flatten(),axis=0)\n",
        "print(f\"train ground labels 0 1 counter {Counter(train_ground_labels)}\")\n",
        "\n",
        "test_ground_labels = true_labels[train_size:df_size]\n",
        "print(f\"test ground labels 0 1 counter {Counter(test_ground_labels)}\")\n",
        "\n",
        "print(data_token_indexed_test.shape, data_token_indexed_train.shape, train_ground_labels.shape, test_ground_labels.shape)"
      ]
    },
    {
      "cell_type": "code",
      "execution_count": 24,
      "metadata": {
        "colab": {
          "base_uri": "https://localhost:8080/"
        },
        "id": "yzjwoT7VUcCp",
        "outputId": "ec1fb76e-76c5-401c-cdfa-5bf569e1ccaa"
      },
      "outputs": [
        {
          "output_type": "stream",
          "name": "stdout",
          "text": [
            "Unique log message count - 2278\n"
          ]
        }
      ],
      "source": [
        "# verify unique log counts consistent with paper count\n",
        "unique_counter = np.intersect1d(np.unique(data_token_indexed_test), np.unique(data_token_indexed_train), assume_unique=True)\n",
        "print(f\"Unique log message count - {np.unique(data_token_indexed_test).shape[0] - unique_counter.shape[0]}\")"
      ]
    },
    {
      "cell_type": "code",
      "execution_count": 25,
      "metadata": {
        "colab": {
          "base_uri": "https://localhost:8080/"
        },
        "id": "JxfyBl3qeM5P",
        "outputId": "ce3dc390-33d8-49f8-b38d-4e84aa68af97"
      },
      "outputs": [
        {
          "output_type": "stream",
          "name": "stdout",
          "text": [
            "Collecting Keras-Preprocessing\n",
            "  Downloading Keras_Preprocessing-1.1.2-py2.py3-none-any.whl.metadata (1.9 kB)\n",
            "Requirement already satisfied: numpy>=1.9.1 in /usr/local/lib/python3.11/dist-packages (from Keras-Preprocessing) (1.26.4)\n",
            "Requirement already satisfied: six>=1.9.0 in /usr/local/lib/python3.11/dist-packages (from Keras-Preprocessing) (1.17.0)\n",
            "Downloading Keras_Preprocessing-1.1.2-py2.py3-none-any.whl (42 kB)\n",
            "\u001b[?25l   \u001b[90m━━━━━━━━━━━━━━━━━━━━━━━━━━━━━━━━━━━━━━━━\u001b[0m \u001b[32m0.0/42.6 kB\u001b[0m \u001b[31m?\u001b[0m eta \u001b[36m-:--:--\u001b[0m\r\u001b[2K   \u001b[90m━━━━━━━━━━━━━━━━━━━━━━━━━━━━━━━━━━━━━━━━\u001b[0m \u001b[32m42.6/42.6 kB\u001b[0m \u001b[31m3.8 MB/s\u001b[0m eta \u001b[36m0:00:00\u001b[0m\n",
            "\u001b[?25hInstalling collected packages: Keras-Preprocessing\n",
            "Successfully installed Keras-Preprocessing-1.1.2\n"
          ]
        }
      ],
      "source": [
        "!pip install Keras-Preprocessing\n"
      ]
    },
    {
      "cell_type": "code",
      "execution_count": 26,
      "metadata": {
        "colab": {
          "base_uri": "https://localhost:8080/"
        },
        "id": "_5sxljzWUcCp",
        "outputId": "12526e2f-b0f4-4017-b71a-b0286a13fca0"
      },
      "outputs": [
        {
          "output_type": "stream",
          "name": "stdout",
          "text": [
            "(2996176, 50) (1885397, 50)\n",
            "[1 3 4 5 6 7 0 0 0 0 0 0 0 0 0 0 0 0 0 0 0 0 0 0 0 0 0 0 0 0 0 0 0 0 0 0 0\n",
            " 0 0 0 0 0 0 0 0 0 0 0 0 0]\n",
            "(2996176, 50) (2996176,) (1885397, 50) (1885397,)\n",
            "tf.Tensor(\n",
            "[[False False False ...  True  True  True]\n",
            " [False False False ...  True  True  True]\n",
            " [False False False ...  True  True  True]\n",
            " ...\n",
            " [False False False ...  True  True  True]\n",
            " [False False False ...  True  True  True]\n",
            " [False False False ...  True  True  True]], shape=(2996176, 50), dtype=bool) tf.Tensor(\n",
            "[[False False False ...  True  True  True]\n",
            " [False False False ...  True  True  True]\n",
            " [False False False ...  True  True  True]\n",
            " ...\n",
            " [False False False ...  True  True  True]\n",
            " [False False False ...  True  True  True]\n",
            " [False False False ...  True  True  True]], shape=(1885397, 50), dtype=bool)\n"
          ]
        }
      ],
      "source": [
        "\n",
        "# assign set names\n",
        "x_train = data_token_indexed_train\n",
        "y_train =  train_ground_labels\n",
        "x_test = data_token_indexed_test\n",
        "y_test = test_ground_labels\n",
        "\n",
        "# Add padding to sequences to maxlen 50 according to paper\n",
        "from keras_preprocessing.sequence import pad_sequences\n",
        "\n",
        "x_train = pad_sequences(x_train, maxlen=50, truncating=\"post\", padding=\"post\")\n",
        "x_test = pad_sequences(x_test, maxlen=50, truncating=\"post\", padding=\"post\")\n",
        "print(x_train.shape, x_test.shape)\n",
        "print(x_train[0])\n",
        "print(x_train.shape, y_train.shape, x_test.shape, y_test.shape)\n",
        "\n",
        "## padding masks\n",
        "x_train_masks = tf.equal(x_train, 0)\n",
        "x_test_masks = tf.equal(x_test, 0)\n",
        "print(x_train_masks,x_test_masks)"
      ]
    },
    {
      "cell_type": "markdown",
      "metadata": {
        "id": "F8JtlyvubIxs"
      },
      "source": [
        "# Metrics and model building"
      ]
    },
    {
      "cell_type": "code",
      "execution_count": 27,
      "metadata": {
        "colab": {
          "base_uri": "https://localhost:8080/",
          "height": 408
        },
        "id": "sy2gprEc9yeo",
        "outputId": "c82d86df-38c2-4e1c-9d37-9f745de8a48f"
      },
      "outputs": [
        {
          "output_type": "display_data",
          "data": {
            "text/plain": [
              "\u001b[1mModel: \"functional_2\"\u001b[0m\n"
            ],
            "text/html": [
              "<pre style=\"white-space:pre;overflow-x:auto;line-height:normal;font-family:Menlo,'DejaVu Sans Mono',consolas,'Courier New',monospace\"><span style=\"font-weight: bold\">Model: \"functional_2\"</span>\n",
              "</pre>\n"
            ]
          },
          "metadata": {}
        },
        {
          "output_type": "display_data",
          "data": {
            "text/plain": [
              "┏━━━━━━━━━━━━━━━━━━━━━━━━━━━━━━━━━━━━━━┳━━━━━━━━━━━━━━━━━━━━━━━━━━━━━┳━━━━━━━━━━━━━━━━━┓\n",
              "┃\u001b[1m \u001b[0m\u001b[1mLayer (type)                        \u001b[0m\u001b[1m \u001b[0m┃\u001b[1m \u001b[0m\u001b[1mOutput Shape               \u001b[0m\u001b[1m \u001b[0m┃\u001b[1m \u001b[0m\u001b[1m        Param #\u001b[0m\u001b[1m \u001b[0m┃\n",
              "┡━━━━━━━━━━━━━━━━━━━━━━━━━━━━━━━━━━━━━━╇━━━━━━━━━━━━━━━━━━━━━━━━━━━━━╇━━━━━━━━━━━━━━━━━┩\n",
              "│ input_layer (\u001b[38;5;33mInputLayer\u001b[0m)             │ (\u001b[38;5;45mNone\u001b[0m, \u001b[38;5;34m50\u001b[0m)                  │               \u001b[38;5;34m0\u001b[0m │\n",
              "├──────────────────────────────────────┼─────────────────────────────┼─────────────────┤\n",
              "│ positional_embedding                 │ (\u001b[38;5;45mNone\u001b[0m, \u001b[38;5;34m50\u001b[0m, \u001b[38;5;34m16\u001b[0m)              │          \u001b[38;5;34m13,840\u001b[0m │\n",
              "│ (\u001b[38;5;33mPositionalEmbedding\u001b[0m)                │                             │                 │\n",
              "├──────────────────────────────────────┼─────────────────────────────┼─────────────────┤\n",
              "│ transformer_encoder                  │ (\u001b[38;5;45mNone\u001b[0m, \u001b[38;5;34m50\u001b[0m, \u001b[38;5;34m16\u001b[0m)              │           \u001b[38;5;34m2,768\u001b[0m │\n",
              "│ (\u001b[38;5;33mTransformerEncoder\u001b[0m)                 │                             │                 │\n",
              "├──────────────────────────────────────┼─────────────────────────────┼─────────────────┤\n",
              "│ transformer_encoder_1                │ (\u001b[38;5;45mNone\u001b[0m, \u001b[38;5;34m50\u001b[0m, \u001b[38;5;34m16\u001b[0m)              │           \u001b[38;5;34m2,768\u001b[0m │\n",
              "│ (\u001b[38;5;33mTransformerEncoder\u001b[0m)                 │                             │                 │\n",
              "├──────────────────────────────────────┼─────────────────────────────┼─────────────────┤\n",
              "│ lambda (\u001b[38;5;33mLambda\u001b[0m)                      │ (\u001b[38;5;45mNone\u001b[0m, \u001b[38;5;34m16\u001b[0m)                  │               \u001b[38;5;34m0\u001b[0m │\n",
              "├──────────────────────────────────────┼─────────────────────────────┼─────────────────┤\n",
              "│ lambda_1 (\u001b[38;5;33mLambda\u001b[0m)                    │ (\u001b[38;5;45mNone\u001b[0m)                      │               \u001b[38;5;34m0\u001b[0m │\n",
              "└──────────────────────────────────────┴─────────────────────────────┴─────────────────┘\n"
            ],
            "text/html": [
              "<pre style=\"white-space:pre;overflow-x:auto;line-height:normal;font-family:Menlo,'DejaVu Sans Mono',consolas,'Courier New',monospace\">┏━━━━━━━━━━━━━━━━━━━━━━━━━━━━━━━━━━━━━━┳━━━━━━━━━━━━━━━━━━━━━━━━━━━━━┳━━━━━━━━━━━━━━━━━┓\n",
              "┃<span style=\"font-weight: bold\"> Layer (type)                         </span>┃<span style=\"font-weight: bold\"> Output Shape                </span>┃<span style=\"font-weight: bold\">         Param # </span>┃\n",
              "┡━━━━━━━━━━━━━━━━━━━━━━━━━━━━━━━━━━━━━━╇━━━━━━━━━━━━━━━━━━━━━━━━━━━━━╇━━━━━━━━━━━━━━━━━┩\n",
              "│ input_layer (<span style=\"color: #0087ff; text-decoration-color: #0087ff\">InputLayer</span>)             │ (<span style=\"color: #00d7ff; text-decoration-color: #00d7ff\">None</span>, <span style=\"color: #00af00; text-decoration-color: #00af00\">50</span>)                  │               <span style=\"color: #00af00; text-decoration-color: #00af00\">0</span> │\n",
              "├──────────────────────────────────────┼─────────────────────────────┼─────────────────┤\n",
              "│ positional_embedding                 │ (<span style=\"color: #00d7ff; text-decoration-color: #00d7ff\">None</span>, <span style=\"color: #00af00; text-decoration-color: #00af00\">50</span>, <span style=\"color: #00af00; text-decoration-color: #00af00\">16</span>)              │          <span style=\"color: #00af00; text-decoration-color: #00af00\">13,840</span> │\n",
              "│ (<span style=\"color: #0087ff; text-decoration-color: #0087ff\">PositionalEmbedding</span>)                │                             │                 │\n",
              "├──────────────────────────────────────┼─────────────────────────────┼─────────────────┤\n",
              "│ transformer_encoder                  │ (<span style=\"color: #00d7ff; text-decoration-color: #00d7ff\">None</span>, <span style=\"color: #00af00; text-decoration-color: #00af00\">50</span>, <span style=\"color: #00af00; text-decoration-color: #00af00\">16</span>)              │           <span style=\"color: #00af00; text-decoration-color: #00af00\">2,768</span> │\n",
              "│ (<span style=\"color: #0087ff; text-decoration-color: #0087ff\">TransformerEncoder</span>)                 │                             │                 │\n",
              "├──────────────────────────────────────┼─────────────────────────────┼─────────────────┤\n",
              "│ transformer_encoder_1                │ (<span style=\"color: #00d7ff; text-decoration-color: #00d7ff\">None</span>, <span style=\"color: #00af00; text-decoration-color: #00af00\">50</span>, <span style=\"color: #00af00; text-decoration-color: #00af00\">16</span>)              │           <span style=\"color: #00af00; text-decoration-color: #00af00\">2,768</span> │\n",
              "│ (<span style=\"color: #0087ff; text-decoration-color: #0087ff\">TransformerEncoder</span>)                 │                             │                 │\n",
              "├──────────────────────────────────────┼─────────────────────────────┼─────────────────┤\n",
              "│ lambda (<span style=\"color: #0087ff; text-decoration-color: #0087ff\">Lambda</span>)                      │ (<span style=\"color: #00d7ff; text-decoration-color: #00d7ff\">None</span>, <span style=\"color: #00af00; text-decoration-color: #00af00\">16</span>)                  │               <span style=\"color: #00af00; text-decoration-color: #00af00\">0</span> │\n",
              "├──────────────────────────────────────┼─────────────────────────────┼─────────────────┤\n",
              "│ lambda_1 (<span style=\"color: #0087ff; text-decoration-color: #0087ff\">Lambda</span>)                    │ (<span style=\"color: #00d7ff; text-decoration-color: #00d7ff\">None</span>)                      │               <span style=\"color: #00af00; text-decoration-color: #00af00\">0</span> │\n",
              "└──────────────────────────────────────┴─────────────────────────────┴─────────────────┘\n",
              "</pre>\n"
            ]
          },
          "metadata": {}
        },
        {
          "output_type": "display_data",
          "data": {
            "text/plain": [
              "\u001b[1m Total params: \u001b[0m\u001b[38;5;34m19,376\u001b[0m (75.69 KB)\n"
            ],
            "text/html": [
              "<pre style=\"white-space:pre;overflow-x:auto;line-height:normal;font-family:Menlo,'DejaVu Sans Mono',consolas,'Courier New',monospace\"><span style=\"font-weight: bold\"> Total params: </span><span style=\"color: #00af00; text-decoration-color: #00af00\">19,376</span> (75.69 KB)\n",
              "</pre>\n"
            ]
          },
          "metadata": {}
        },
        {
          "output_type": "display_data",
          "data": {
            "text/plain": [
              "\u001b[1m Trainable params: \u001b[0m\u001b[38;5;34m19,376\u001b[0m (75.69 KB)\n"
            ],
            "text/html": [
              "<pre style=\"white-space:pre;overflow-x:auto;line-height:normal;font-family:Menlo,'DejaVu Sans Mono',consolas,'Courier New',monospace\"><span style=\"font-weight: bold\"> Trainable params: </span><span style=\"color: #00af00; text-decoration-color: #00af00\">19,376</span> (75.69 KB)\n",
              "</pre>\n"
            ]
          },
          "metadata": {}
        },
        {
          "output_type": "display_data",
          "data": {
            "text/plain": [
              "\u001b[1m Non-trainable params: \u001b[0m\u001b[38;5;34m0\u001b[0m (0.00 B)\n"
            ],
            "text/html": [
              "<pre style=\"white-space:pre;overflow-x:auto;line-height:normal;font-family:Menlo,'DejaVu Sans Mono',consolas,'Courier New',monospace\"><span style=\"font-weight: bold\"> Non-trainable params: </span><span style=\"color: #00af00; text-decoration-color: #00af00\">0</span> (0.00 B)\n",
              "</pre>\n"
            ]
          },
          "metadata": {}
        },
        {
          "output_type": "stream",
          "name": "stdout",
          "text": [
            "None\n"
          ]
        }
      ],
      "source": [
        "a = tf.metrics.BinaryAccuracy()\n",
        "def recall_m(y_true, y_pred):\n",
        "    true_positives = K.sum(K.round(K.clip(y_true * y_pred, 0, 1)))\n",
        "    possible_positives = K.sum(K.round(K.clip(y_true, 0, 1)))\n",
        "    return true_positives / (possible_positives + K.epsilon())\n",
        "\n",
        "def precision_m(y_true, y_pred):\n",
        "    true_positives = K.sum(K.round(K.clip(y_true * y_pred, 0, 1)))\n",
        "    predicted_positives = K.sum(K.round(K.clip(y_pred, 0, 1)))\n",
        "    return true_positives / (predicted_positives + K.epsilon())\n",
        "\n",
        "def f1_m(y_true, y_pred):\n",
        "    precision = precision_m(y_true, y_pred)\n",
        "    recall = recall_m(y_true, y_pred)\n",
        "    return 2*((precision*recall)/(precision+recall+K.epsilon()))\n",
        "\n",
        "def accuracy_m(y_true, y_pred):\n",
        "    a.update_state(y_true,y_pred)\n",
        "    return a.result()\n",
        "\n",
        "def custom_loss_function(y_true, y_pred):\n",
        "    print(f\"y_true shape: {y_true.shape}, y_pred shape: {y_pred.shape}\")\n",
        "    loss = K.mean((1 - y_true) * K.sqrt(y_pred) - y_true * K.log(1 - K.exp(-K.sqrt(y_pred))))\n",
        "    return loss\n",
        "\n",
        "def create_model():\n",
        "    embed_dim = 16  # Embedding size for each token\n",
        "    num_heads = 2  # Number of attention heads\n",
        "    ff_dim = 16  # Hidden layer size in feed forward network inside transformer\n",
        "\n",
        "    vocab_size = tokenizer.n_words  # Only consider the top 20k words\n",
        "    maxlen = 50\n",
        "    #\"\"\"---------Modified code blcok-------------------\n",
        "    class PositionalEmbedding(layers.Layer):\n",
        "        def __init__(self, sequence_length, vocab_size, embed_dim, **kwargs):\n",
        "            super(PositionalEmbedding, self).__init__(**kwargs)\n",
        "            self.token_embeddings = layers.Embedding(input_dim=vocab_size, output_dim=embed_dim)\n",
        "            self.position_embeddings = layers.Embedding(input_dim=sequence_length, output_dim=embed_dim)\n",
        "\n",
        "        def call(self, inputs):\n",
        "            positions = tf.range(start=0, limit=tf.shape(inputs)[-1], delta=1)\n",
        "            positions = self.position_embeddings(positions)\n",
        "            x = self.token_embeddings(inputs)\n",
        "            return x + positions\n",
        "\n",
        "    class SquaredSumLayer(tf.keras.layers.Layer):\n",
        "        def call(self, x):\n",
        "            return tf.reduce_sum(tf.square(x), axis=1)\n",
        "#-----------------------------------------------\"\"\"\n",
        "\n",
        "    inputs = layers.Input(shape=(maxlen,))\n",
        "    embedding_layer = PositionalEmbedding(maxlen, vocab_size, embed_dim)\n",
        "    x = embedding_layer(inputs)\n",
        "    transformer_block = TransformerEncoder(embed_dim, num_heads, ff_dim)\n",
        "    transformer_block2 = TransformerEncoder(embed_dim, num_heads, ff_dim)\n",
        "\n",
        "    x = transformer_block(x, training=True)\n",
        "    x = transformer_block2(x, training=True)\n",
        "\n",
        "    #outputs = tf.gather(x, 0, axis=1)  # Take the CLS token as embedding\n",
        "    outputs = tf.keras.layers.Lambda(lambda x: tf.gather(x, 0, axis=1))(x)\n",
        "    outputs = tf.keras.layers.Lambda(lambda x: K.sum(K.square(x), axis=1))(outputs)\n",
        "\n",
        "    model = tf.keras.Model(inputs=inputs, outputs=outputs)\n",
        "    return model\n",
        "\n",
        "lr_schedule = tf.keras.optimizers.schedules.ExponentialDecay(\n",
        "    initial_learning_rate=0.0001, # 0.0001,\n",
        "    decay_steps=10000,\n",
        "    decay_rate=1-0.001)\n",
        "# Compile the model within the distributed strategy scope\n",
        "with mirrored_strategy.scope():\n",
        "    model = create_model()\n",
        "\n",
        "    model_opt = tf.keras.optimizers.Adam(learning_rate=lr_schedule, beta_1=0.9, beta_2=0.999)\n",
        "\n",
        "    model.compile(\n",
        "        optimizer=model_opt,\n",
        "        loss=custom_loss_function,\n",
        "        metrics=['binary_accuracy', recall_m, precision_m],\n",
        "        loss_weights=[1.0]\n",
        "    )\n",
        "\n",
        "    print(model.summary())\n",
        "\n"
      ]
    },
    {
      "cell_type": "markdown",
      "metadata": {
        "id": "MQmLA2orbjYq"
      },
      "source": [
        "# Evaluation steps"
      ]
    },
    {
      "cell_type": "code",
      "execution_count": 32,
      "metadata": {
        "colab": {
          "base_uri": "https://localhost:8080/"
        },
        "id": "DHXNHOPhOhN6",
        "outputId": "bf6137b1-82b4-4d3c-b739-643604a0ce92"
      },
      "outputs": [
        {
          "output_type": "stream",
          "name": "stdout",
          "text": [
            "Currently Running Epoch - 1\n",
            "\u001b[1m1463/1463\u001b[0m \u001b[32m━━━━━━━━━━━━━━━━━━━━\u001b[0m\u001b[37m\u001b[0m \u001b[1m61s\u001b[0m 42ms/step - binary_accuracy: 1.0000 - loss: 0.0031 - precision_m: 1.0000 - recall_m: 0.9999\n",
            "\u001b[1m921/921\u001b[0m \u001b[32m━━━━━━━━━━━━━━━━━━━━\u001b[0m\u001b[37m\u001b[0m \u001b[1m13s\u001b[0m 15ms/step\n",
            "\u001b[1m1463/1463\u001b[0m \u001b[32m━━━━━━━━━━━━━━━━━━━━\u001b[0m\u001b[37m\u001b[0m \u001b[1m21s\u001b[0m 15ms/step\n",
            "Train AUC: 0.9999999594162723, Test AUC: 0.8929726223758244\n",
            "Using trainset to find threshold:\n",
            "threshold value:  0.0020953498\n",
            "f1:  0.2924376518835497\n",
            "recall:  0.9696860710065252\n",
            "precision:  0.17218214772284937\n",
            "Accuracy:  0.7093630678313374\n",
            "##################################\n",
            "Using testset to find threshold:\n",
            "threshold value:  0.0009938738\n",
            "f1:  0.2922346383132468\n",
            "recall:  0.9696860710065252\n",
            "precision:  0.17204140977997637\n",
            "Accuracy:  0.7090777167885597\n",
            "##################################\n",
            "Currently Running Epoch - 2\n",
            "\u001b[1m1463/1463\u001b[0m \u001b[32m━━━━━━━━━━━━━━━━━━━━\u001b[0m\u001b[37m\u001b[0m \u001b[1m61s\u001b[0m 41ms/step - binary_accuracy: 1.0000 - loss: 0.0023 - precision_m: 1.0000 - recall_m: 0.9999\n",
            "\u001b[1m921/921\u001b[0m \u001b[32m━━━━━━━━━━━━━━━━━━━━\u001b[0m\u001b[37m\u001b[0m \u001b[1m13s\u001b[0m 15ms/step\n",
            "\u001b[1m1463/1463\u001b[0m \u001b[32m━━━━━━━━━━━━━━━━━━━━\u001b[0m\u001b[37m\u001b[0m \u001b[1m21s\u001b[0m 15ms/step\n",
            "Train AUC: 0.9999999594162723, Test AUC: 0.9384833280071508\n",
            "Using trainset to find threshold:\n",
            "threshold value:  0.0023077796\n",
            "f1:  0.29192650664219294\n",
            "recall:  0.9696860710065252\n",
            "precision:  0.17182786561864588\n",
            "Accuracy:  0.708643855909392\n",
            "##################################\n",
            "Using testset to find threshold:\n",
            "threshold value:  0.0068953745\n",
            "f1:  0.3181423574529057\n",
            "recall:  0.9696860710065252\n",
            "precision:  0.19028654392934202\n",
            "Accuracy:  0.7425507731262965\n",
            "##################################\n",
            "Currently Running Epoch - 3\n",
            "\u001b[1m1463/1463\u001b[0m \u001b[32m━━━━━━━━━━━━━━━━━━━━\u001b[0m\u001b[37m\u001b[0m \u001b[1m61s\u001b[0m 42ms/step - binary_accuracy: 1.0000 - loss: 0.0021 - precision_m: 1.0000 - recall_m: 1.0000\n",
            "\u001b[1m921/921\u001b[0m \u001b[32m━━━━━━━━━━━━━━━━━━━━\u001b[0m\u001b[37m\u001b[0m \u001b[1m14s\u001b[0m 15ms/step\n",
            "\u001b[1m1463/1463\u001b[0m \u001b[32m━━━━━━━━━━━━━━━━━━━━\u001b[0m\u001b[37m\u001b[0m \u001b[1m21s\u001b[0m 15ms/step\n",
            "Train AUC: 0.9999999981049049, Test AUC: 0.9390233731742657\n",
            "Using trainset to find threshold:\n",
            "threshold value:  0.0026067968\n",
            "f1:  0.29310083201522574\n",
            "recall:  0.9758858689136652\n",
            "precision:  0.17244708346195517\n",
            "Accuracy:  0.7084401852766288\n",
            "##################################\n",
            "Using testset to find threshold:\n",
            "threshold value:  0.05215973\n",
            "f1:  0.3885412951722753\n",
            "recall:  0.9609258593228176\n",
            "precision:  0.24349888465511105\n",
            "Accuracy:  0.8126696923777856\n",
            "##################################\n",
            "Currently Running Epoch - 4\n",
            "\u001b[1m1463/1463\u001b[0m \u001b[32m━━━━━━━━━━━━━━━━━━━━\u001b[0m\u001b[37m\u001b[0m \u001b[1m61s\u001b[0m 41ms/step - binary_accuracy: 1.0000 - loss: 0.0029 - precision_m: 1.0000 - recall_m: 0.9999\n",
            "\u001b[1m921/921\u001b[0m \u001b[32m━━━━━━━━━━━━━━━━━━━━\u001b[0m\u001b[37m\u001b[0m \u001b[1m14s\u001b[0m 15ms/step\n",
            "\u001b[1m1463/1463\u001b[0m \u001b[32m━━━━━━━━━━━━━━━━━━━━\u001b[0m\u001b[37m\u001b[0m \u001b[1m21s\u001b[0m 15ms/step\n",
            "Train AUC: 0.9999999980981644, Test AUC: 0.9430717814510697\n",
            "Using trainset to find threshold:\n",
            "threshold value:  0.002394787\n",
            "f1:  0.29303036575441266\n",
            "recall:  0.9758858689136652\n",
            "precision:  0.17239830025157366\n",
            "Accuracy:  0.7083410019216112\n",
            "##################################\n",
            "Using testset to find threshold:\n",
            "threshold value:  0.103377536\n",
            "f1:  0.38860386231687066\n",
            "recall:  0.9609258593228176\n",
            "precision:  0.24354803353655227\n",
            "Accuracy:  0.8127190188591581\n",
            "##################################\n",
            "Currently Running Epoch - 5\n",
            "\u001b[1m1463/1463\u001b[0m \u001b[32m━━━━━━━━━━━━━━━━━━━━\u001b[0m\u001b[37m\u001b[0m \u001b[1m61s\u001b[0m 42ms/step - binary_accuracy: 1.0000 - loss: 0.0042 - precision_m: 1.0000 - recall_m: 0.9999\n",
            "\u001b[1m921/921\u001b[0m \u001b[32m━━━━━━━━━━━━━━━━━━━━\u001b[0m\u001b[37m\u001b[0m \u001b[1m13s\u001b[0m 15ms/step\n",
            "\u001b[1m1463/1463\u001b[0m \u001b[32m━━━━━━━━━━━━━━━━━━━━\u001b[0m\u001b[37m\u001b[0m \u001b[1m21s\u001b[0m 15ms/step\n",
            "Train AUC: 0.9999999980962385, Test AUC: 0.941615882932907\n",
            "Using trainset to find threshold:\n",
            "threshold value:  0.0022576784\n",
            "f1:  0.29310950132907754\n",
            "recall:  0.9758858689136652\n",
            "precision:  0.17245308544267882\n",
            "Accuracy:  0.7084523842989037\n",
            "##################################\n",
            "Using testset to find threshold:\n",
            "threshold value:  0.04773669\n",
            "f1:  0.3895529071967396\n",
            "recall:  0.9609258593228176\n",
            "precision:  0.2442940367132258\n",
            "Accuracy:  0.8134652807870173\n",
            "##################################\n",
            "Currently Running Epoch - 6\n",
            "\u001b[1m1463/1463\u001b[0m \u001b[32m━━━━━━━━━━━━━━━━━━━━\u001b[0m\u001b[37m\u001b[0m \u001b[1m61s\u001b[0m 41ms/step - binary_accuracy: 1.0000 - loss: 0.0031 - precision_m: 1.0000 - recall_m: 0.9999\n",
            "\u001b[1m921/921\u001b[0m \u001b[32m━━━━━━━━━━━━━━━━━━━━\u001b[0m\u001b[37m\u001b[0m \u001b[1m13s\u001b[0m 15ms/step\n",
            "\u001b[1m1463/1463\u001b[0m \u001b[32m━━━━━━━━━━━━━━━━━━━━\u001b[0m\u001b[37m\u001b[0m \u001b[1m21s\u001b[0m 15ms/step\n",
            "Train AUC: 0.9999999977707599, Test AUC: 0.9416539225095628\n",
            "Using trainset to find threshold:\n",
            "threshold value:  0.002682764\n",
            "f1:  0.29304920368182247\n",
            "recall:  0.9758858689136652\n",
            "precision:  0.17241134118722096\n",
            "Accuracy:  0.7083675215352523\n",
            "##################################\n",
            "Using testset to find threshold:\n",
            "threshold value:  0.059831988\n",
            "f1:  0.3513251201452701\n",
            "recall:  0.9609258593228176\n",
            "precision:  0.2149580868605756\n",
            "Accuracy:  0.7802160499884109\n",
            "##################################\n",
            "Currently Running Epoch - 7\n",
            "\u001b[1m1463/1463\u001b[0m \u001b[32m━━━━━━━━━━━━━━━━━━━━\u001b[0m\u001b[37m\u001b[0m \u001b[1m61s\u001b[0m 41ms/step - binary_accuracy: 1.0000 - loss: 0.0025 - precision_m: 1.0000 - recall_m: 0.9999\n",
            "\u001b[1m921/921\u001b[0m \u001b[32m━━━━━━━━━━━━━━━━━━━━\u001b[0m\u001b[37m\u001b[0m \u001b[1m13s\u001b[0m 15ms/step\n",
            "\u001b[1m1463/1463\u001b[0m \u001b[32m━━━━━━━━━━━━━━━━━━━━\u001b[0m\u001b[37m\u001b[0m \u001b[1m21s\u001b[0m 15ms/step\n",
            "Train AUC: 0.9999999977707597, Test AUC: 0.9423366924705725\n",
            "Using trainset to find threshold:\n",
            "threshold value:  0.0033044561\n",
            "f1:  0.35495103779931725\n",
            "recall:  0.9758858689136652\n",
            "precision:  0.21692585895117542\n",
            "Accuracy:  0.7803093990284274\n",
            "##################################\n",
            "Using testset to find threshold:\n",
            "threshold value:  0.059728485\n",
            "f1:  0.3928910628615959\n",
            "recall:  0.9670742776892908\n",
            "precision:  0.246522623683705\n",
            "Accuracy:  0.8148846105090864\n",
            "##################################\n",
            "Currently Running Epoch - 8\n",
            "\u001b[1m1463/1463\u001b[0m \u001b[32m━━━━━━━━━━━━━━━━━━━━\u001b[0m\u001b[37m\u001b[0m \u001b[1m61s\u001b[0m 41ms/step - binary_accuracy: 1.0000 - loss: 0.0017 - precision_m: 1.0000 - recall_m: 1.0000\n",
            "\u001b[1m921/921\u001b[0m \u001b[32m━━━━━━━━━━━━━━━━━━━━\u001b[0m\u001b[37m\u001b[0m \u001b[1m13s\u001b[0m 15ms/step\n",
            "\u001b[1m1463/1463\u001b[0m \u001b[32m━━━━━━━━━━━━━━━━━━━━\u001b[0m\u001b[37m\u001b[0m \u001b[1m21s\u001b[0m 15ms/step\n",
            "Train AUC: 0.9999998769074208, Test AUC: 0.9378080934762143\n",
            "Using trainset to find threshold:\n",
            "threshold value:  0.0042034634\n",
            "f1:  0.29305560912889744\n",
            "recall:  0.9758858689136652\n",
            "precision:  0.172415775554789\n",
            "Accuracy:  0.7083765382038902\n",
            "##################################\n",
            "Using testset to find threshold:\n",
            "threshold value:  0.068880334\n",
            "f1:  0.4466367287374459\n",
            "recall:  0.9670914042028464\n",
            "precision:  0.29036985614562844\n",
            "Accuracy:  0.8515734351969373\n",
            "##################################\n",
            "Currently Running Epoch - 9\n",
            "\u001b[1m1463/1463\u001b[0m \u001b[32m━━━━━━━━━━━━━━━━━━━━\u001b[0m\u001b[37m\u001b[0m \u001b[1m61s\u001b[0m 41ms/step - binary_accuracy: 1.0000 - loss: 0.0022 - precision_m: 1.0000 - recall_m: 1.0000\n",
            "\u001b[1m921/921\u001b[0m \u001b[32m━━━━━━━━━━━━━━━━━━━━\u001b[0m\u001b[37m\u001b[0m \u001b[1m13s\u001b[0m 15ms/step\n",
            "\u001b[1m1463/1463\u001b[0m \u001b[32m━━━━━━━━━━━━━━━━━━━━\u001b[0m\u001b[37m\u001b[0m \u001b[1m21s\u001b[0m 15ms/step\n",
            "Train AUC: 0.9999999977707597, Test AUC: 0.942209176958354\n",
            "Using trainset to find threshold:\n",
            "threshold value:  0.004533568\n",
            "f1:  0.29305523233014164\n",
            "recall:  0.9758858689136652\n",
            "precision:  0.17241551470332372\n",
            "Accuracy:  0.7083760078116174\n",
            "##################################\n",
            "Using testset to find threshold:\n",
            "threshold value:  0.13172786\n",
            "f1:  0.4506337498478721\n",
            "recall:  0.9670828409460686\n",
            "precision:  0.29375853503101873\n",
            "Accuracy:  0.8539538357173582\n",
            "##################################\n",
            "Currently Running Epoch - 10\n",
            "\u001b[1m1463/1463\u001b[0m \u001b[32m━━━━━━━━━━━━━━━━━━━━\u001b[0m\u001b[37m\u001b[0m \u001b[1m61s\u001b[0m 41ms/step - binary_accuracy: 1.0000 - loss: 0.0027 - precision_m: 1.0000 - recall_m: 0.9999\n",
            "\u001b[1m921/921\u001b[0m \u001b[32m━━━━━━━━━━━━━━━━━━━━\u001b[0m\u001b[37m\u001b[0m \u001b[1m13s\u001b[0m 15ms/step\n",
            "\u001b[1m1463/1463\u001b[0m \u001b[32m━━━━━━━━━━━━━━━━━━━━\u001b[0m\u001b[37m\u001b[0m \u001b[1m21s\u001b[0m 15ms/step\n",
            "Train AUC: 0.9999999977707597, Test AUC: 0.9681598098043482\n",
            "Using trainset to find threshold:\n",
            "threshold value:  0.005496792\n",
            "f1:  0.3576176214408481\n",
            "recall:  0.9862045933309356\n",
            "precision:  0.21840846120147694\n",
            "Accuracy:  0.7805528490816523\n",
            "##################################\n",
            "Using testset to find threshold:\n",
            "threshold value:  0.00023762108\n",
            "f1:  0.29530908643342874\n",
            "recall:  0.9862045933309356\n",
            "precision:  0.17365402187581988\n",
            "Accuracy:  0.7084741303820893\n",
            "##################################\n",
            "Currently Running Epoch - 11\n",
            "\u001b[1m1463/1463\u001b[0m \u001b[32m━━━━━━━━━━━━━━━━━━━━\u001b[0m\u001b[37m\u001b[0m \u001b[1m61s\u001b[0m 41ms/step - binary_accuracy: 1.0000 - loss: 0.0034 - precision_m: 1.0000 - recall_m: 1.0000\n",
            "\u001b[1m921/921\u001b[0m \u001b[32m━━━━━━━━━━━━━━━━━━━━\u001b[0m\u001b[37m\u001b[0m \u001b[1m13s\u001b[0m 15ms/step\n",
            "\u001b[1m1463/1463\u001b[0m \u001b[32m━━━━━━━━━━━━━━━━━━━━\u001b[0m\u001b[37m\u001b[0m \u001b[1m21s\u001b[0m 15ms/step\n",
            "Train AUC: 0.9999998769074208, Test AUC: 0.9685446288962878\n",
            "Using trainset to find threshold:\n",
            "threshold value:  0.004528626\n",
            "f1:  0.35763497996127347\n",
            "recall:  0.9861360872767131\n",
            "precision:  0.21842477120773862\n",
            "Accuracy:  0.7805846726180216\n",
            "##################################\n",
            "Using testset to find threshold:\n",
            "threshold value:  0.00056306616\n",
            "f1:  0.2956722535455193\n",
            "recall:  0.9868211478189385\n",
            "precision:  0.1738860797885102\n",
            "Accuracy:  0.7088003216298743\n",
            "##################################\n",
            "Currently Running Epoch - 12\n",
            "\u001b[1m1463/1463\u001b[0m \u001b[32m━━━━━━━━━━━━━━━━━━━━\u001b[0m\u001b[37m\u001b[0m \u001b[1m61s\u001b[0m 41ms/step - binary_accuracy: 1.0000 - loss: 0.0023 - precision_m: 1.0000 - recall_m: 1.0000\n",
            "\u001b[1m921/921\u001b[0m \u001b[32m━━━━━━━━━━━━━━━━━━━━\u001b[0m\u001b[37m\u001b[0m \u001b[1m13s\u001b[0m 15ms/step\n",
            "\u001b[1m1463/1463\u001b[0m \u001b[32m━━━━━━━━━━━━━━━━━━━━\u001b[0m\u001b[37m\u001b[0m \u001b[1m21s\u001b[0m 15ms/step\n",
            "Train AUC: 0.9999998769074208, Test AUC: 0.9683385706238397\n",
            "Using trainset to find threshold:\n",
            "threshold value:  0.005837471\n",
            "f1:  0.3576176214408481\n",
            "recall:  0.9862045933309356\n",
            "precision:  0.21840846120147694\n",
            "Accuracy:  0.7805528490816523\n",
            "##################################\n",
            "Using testset to find threshold:\n",
            "threshold value:  0.00074905285\n",
            "f1:  0.29554249640730856\n",
            "recall:  0.9862045933309356\n",
            "precision:  0.1738154673685672\n",
            "Accuracy:  0.708800852022147\n",
            "##################################\n",
            "Currently Running Epoch - 13\n",
            "\u001b[1m1463/1463\u001b[0m \u001b[32m━━━━━━━━━━━━━━━━━━━━\u001b[0m\u001b[37m\u001b[0m \u001b[1m61s\u001b[0m 41ms/step - binary_accuracy: 1.0000 - loss: 0.0023 - precision_m: 1.0000 - recall_m: 1.0000\n",
            "\u001b[1m921/921\u001b[0m \u001b[32m━━━━━━━━━━━━━━━━━━━━\u001b[0m\u001b[37m\u001b[0m \u001b[1m13s\u001b[0m 15ms/step\n",
            "\u001b[1m1463/1463\u001b[0m \u001b[32m━━━━━━━━━━━━━━━━━━━━\u001b[0m\u001b[37m\u001b[0m \u001b[1m21s\u001b[0m 15ms/step\n",
            "Train AUC: 0.9999998769074208, Test AUC: 0.9718931456661886\n",
            "Using trainset to find threshold:\n",
            "threshold value:  0.007331904\n",
            "f1:  0.35757986919134915\n",
            "recall:  0.9862045933309356\n",
            "precision:  0.2183802991833043\n",
            "Accuracy:  0.7805167824071004\n",
            "##################################\n",
            "Using testset to find threshold:\n",
            "threshold value:  0.0029686473\n",
            "f1:  0.29558762950101447\n",
            "recall:  0.9862045933309356\n",
            "precision:  0.17384669030572272\n",
            "Accuracy:  0.7088639687026128\n",
            "##################################\n",
            "Currently Running Epoch - 14\n",
            "\u001b[1m1463/1463\u001b[0m \u001b[32m━━━━━━━━━━━━━━━━━━━━\u001b[0m\u001b[37m\u001b[0m \u001b[1m61s\u001b[0m 41ms/step - binary_accuracy: 1.0000 - loss: 0.0036 - precision_m: 1.0000 - recall_m: 1.0000\n",
            "\u001b[1m921/921\u001b[0m \u001b[32m━━━━━━━━━━━━━━━━━━━━\u001b[0m\u001b[37m\u001b[0m \u001b[1m14s\u001b[0m 15ms/step\n",
            "\u001b[1m1463/1463\u001b[0m \u001b[32m━━━━━━━━━━━━━━━━━━━━\u001b[0m\u001b[37m\u001b[0m \u001b[1m21s\u001b[0m 15ms/step\n",
            "Train AUC: 0.9999998769074209, Test AUC: 0.9684663915117033\n",
            "Using trainset to find threshold:\n",
            "threshold value:  0.0075465078\n",
            "f1:  0.35222954270788664\n",
            "recall:  0.9671170939731799\n",
            "precision:  0.21532630310564216\n",
            "Accuracy:  0.7796755802624062\n",
            "##################################\n",
            "Using testset to find threshold:\n",
            "threshold value:  5.582882e-05\n",
            "f1:  0.29536743566594315\n",
            "recall:  0.987549024645053\n",
            "precision:  0.1736527396940553\n",
            "Accuracy:  0.7081585469797608\n",
            "##################################\n",
            "Currently Running Epoch - 15\n",
            "\u001b[1m1463/1463\u001b[0m \u001b[32m━━━━━━━━━━━━━━━━━━━━\u001b[0m\u001b[37m\u001b[0m \u001b[1m61s\u001b[0m 41ms/step - binary_accuracy: 1.0000 - loss: 0.0013 - precision_m: 1.0000 - recall_m: 1.0000\n",
            "\u001b[1m921/921\u001b[0m \u001b[32m━━━━━━━━━━━━━━━━━━━━\u001b[0m\u001b[37m\u001b[0m \u001b[1m13s\u001b[0m 15ms/step\n",
            "\u001b[1m1463/1463\u001b[0m \u001b[32m━━━━━━━━━━━━━━━━━━━━\u001b[0m\u001b[37m\u001b[0m \u001b[1m21s\u001b[0m 15ms/step\n",
            "Train AUC: 0.9999998769074208, Test AUC: 0.9692950357982281\n",
            "Using trainset to find threshold:\n",
            "threshold value:  0.008290088\n",
            "f1:  0.35556235023961663\n",
            "recall:  0.9758858689136652\n",
            "precision:  0.21738267912392273\n",
            "Accuracy:  0.7808949520976218\n",
            "##################################\n",
            "Using testset to find threshold:\n",
            "threshold value:  0.0001802005\n",
            "f1:  0.3572317093977324\n",
            "recall:  0.9861360872767131\n",
            "precision:  0.21812399612085948\n",
            "Accuracy:  0.7801990774356806\n",
            "##################################\n",
            "Currently Running Epoch - 16\n",
            "\u001b[1m1463/1463\u001b[0m \u001b[32m━━━━━━━━━━━━━━━━━━━━\u001b[0m\u001b[37m\u001b[0m \u001b[1m61s\u001b[0m 41ms/step - binary_accuracy: 1.0000 - loss: 0.0018 - precision_m: 1.0000 - recall_m: 1.0000\n",
            "\u001b[1m921/921\u001b[0m \u001b[32m━━━━━━━━━━━━━━━━━━━━\u001b[0m\u001b[37m\u001b[0m \u001b[1m13s\u001b[0m 15ms/step\n",
            "\u001b[1m1463/1463\u001b[0m \u001b[32m━━━━━━━━━━━━━━━━━━━━\u001b[0m\u001b[37m\u001b[0m \u001b[1m21s\u001b[0m 15ms/step\n",
            "Train AUC: 0.9999998769074209, Test AUC: 0.9689851289141498\n",
            "Using trainset to find threshold:\n",
            "threshold value:  0.008986833\n",
            "f1:  0.3555916125811283\n",
            "recall:  0.9758687424001096\n",
            "precision:  0.2174054049929223\n",
            "Accuracy:  0.7809267756339912\n",
            "##################################\n",
            "Using testset to find threshold:\n",
            "threshold value:  9.37221e-05\n",
            "f1:  0.35698476074745494\n",
            "recall:  0.9861360872767131\n",
            "precision:  0.217939886222128\n",
            "Accuracy:  0.7799625224820025\n",
            "##################################\n",
            "Currently Running Epoch - 17\n",
            "\u001b[1m1463/1463\u001b[0m \u001b[32m━━━━━━━━━━━━━━━━━━━━\u001b[0m\u001b[37m\u001b[0m \u001b[1m61s\u001b[0m 41ms/step - binary_accuracy: 1.0000 - loss: 0.0013 - precision_m: 1.0000 - recall_m: 1.0000\n",
            "\u001b[1m921/921\u001b[0m \u001b[32m━━━━━━━━━━━━━━━━━━━━\u001b[0m\u001b[37m\u001b[0m \u001b[1m13s\u001b[0m 15ms/step\n",
            "\u001b[1m1463/1463\u001b[0m \u001b[32m━━━━━━━━━━━━━━━━━━━━\u001b[0m\u001b[37m\u001b[0m \u001b[1m21s\u001b[0m 15ms/step\n",
            "Train AUC: 0.9999998769074206, Test AUC: 0.9688039362739991\n",
            "Using trainset to find threshold:\n",
            "threshold value:  0.0125945145\n",
            "f1:  0.3529591929218143\n",
            "recall:  0.9670999674596242\n",
            "precision:  0.21587277314779418\n",
            "Accuracy:  0.7803825931620767\n",
            "##################################\n",
            "Using testset to find threshold:\n",
            "threshold value:  0.00010672087\n",
            "f1:  0.3569388416124378\n",
            "recall:  0.9861360872767131\n",
            "precision:  0.21790565791390798\n",
            "Accuracy:  0.7799184999233583\n",
            "##################################\n",
            "Currently Running Epoch - 18\n",
            "\u001b[1m1463/1463\u001b[0m \u001b[32m━━━━━━━━━━━━━━━━━━━━\u001b[0m\u001b[37m\u001b[0m \u001b[1m61s\u001b[0m 42ms/step - binary_accuracy: 1.0000 - loss: 0.0012 - precision_m: 1.0000 - recall_m: 1.0000\n",
            "\u001b[1m921/921\u001b[0m \u001b[32m━━━━━━━━━━━━━━━━━━━━\u001b[0m\u001b[37m\u001b[0m \u001b[1m13s\u001b[0m 15ms/step\n",
            "\u001b[1m1463/1463\u001b[0m \u001b[32m━━━━━━━━━━━━━━━━━━━━\u001b[0m\u001b[37m\u001b[0m \u001b[1m21s\u001b[0m 15ms/step\n",
            "Train AUC: 0.9999998769074208, Test AUC: 0.9710031510973441\n",
            "Using trainset to find threshold:\n",
            "threshold value:  0.013419898\n",
            "f1:  0.3548453389962448\n",
            "recall:  0.9758687424001096\n",
            "precision:  0.21684775369626852\n",
            "Accuracy:  0.7802118068502284\n",
            "##################################\n",
            "Using testset to find threshold:\n",
            "threshold value:  0.0002243166\n",
            "f1:  0.29540143495135174\n",
            "recall:  0.9861360872767131\n",
            "precision:  0.17372001810227786\n",
            "Accuracy:  0.7086237010030249\n",
            "##################################\n",
            "Currently Running Epoch - 19\n",
            "\u001b[1m1463/1463\u001b[0m \u001b[32m━━━━━━━━━━━━━━━━━━━━\u001b[0m\u001b[37m\u001b[0m \u001b[1m61s\u001b[0m 42ms/step - binary_accuracy: 1.0000 - loss: 0.0017 - precision_m: 1.0000 - recall_m: 1.0000\n",
            "\u001b[1m921/921\u001b[0m \u001b[32m━━━━━━━━━━━━━━━━━━━━\u001b[0m\u001b[37m\u001b[0m \u001b[1m13s\u001b[0m 15ms/step\n",
            "\u001b[1m1463/1463\u001b[0m \u001b[32m━━━━━━━━━━━━━━━━━━━━\u001b[0m\u001b[37m\u001b[0m \u001b[1m21s\u001b[0m 15ms/step\n",
            "Train AUC: 0.9999999980962385, Test AUC: 0.9723110766706634\n",
            "Using trainset to find threshold:\n",
            "threshold value:  0.0191593\n",
            "f1:  0.35794947670750016\n",
            "recall:  0.9861189607631574\n",
            "precision:  0.218660281630235\n",
            "Accuracy:  0.780888587390348\n",
            "##################################\n",
            "Using testset to find threshold:\n",
            "threshold value:  0.0032832795\n",
            "f1:  0.3577693203883495\n",
            "recall:  0.9861189607631574\n",
            "precision:  0.21852584198021907\n",
            "Accuracy:  0.780716740293954\n",
            "##################################\n",
            "Currently Running Epoch - 20\n",
            "\u001b[1m1463/1463\u001b[0m \u001b[32m━━━━━━━━━━━━━━━━━━━━\u001b[0m\u001b[37m\u001b[0m \u001b[1m61s\u001b[0m 41ms/step - binary_accuracy: 1.0000 - loss: 0.0022 - precision_m: 1.0000 - recall_m: 1.0000\n",
            "\u001b[1m921/921\u001b[0m \u001b[32m━━━━━━━━━━━━━━━━━━━━\u001b[0m\u001b[37m\u001b[0m \u001b[1m13s\u001b[0m 15ms/step\n",
            "\u001b[1m1463/1463\u001b[0m \u001b[32m━━━━━━━━━━━━━━━━━━━━\u001b[0m\u001b[37m\u001b[0m \u001b[1m21s\u001b[0m 15ms/step\n",
            "Train AUC: 0.9999999980962385, Test AUC: 0.9708896359286294\n",
            "Using trainset to find threshold:\n",
            "threshold value:  0.016571708\n",
            "f1:  0.3586127218032001\n",
            "recall:  0.9861189607631574\n",
            "precision:  0.21915547960065315\n",
            "Accuracy:  0.7815197541950051\n",
            "##################################\n",
            "Using testset to find threshold:\n",
            "threshold value:  0.00054383074\n",
            "f1:  0.35758667266996846\n",
            "recall:  0.9861360872767131\n",
            "precision:  0.21838873380465454\n",
            "Accuracy:  0.7805385284902862\n",
            "##################################\n"
          ]
        }
      ],
      "source": [
        "from sklearn.metrics import f1_score\n",
        "from sklearn.metrics import confusion_matrix\n",
        "from sklearn.metrics import recall_score\n",
        "from sklearn.metrics import precision_score\n",
        "from sklearn.metrics import accuracy_score\n",
        "from sklearn.metrics import roc_curve\n",
        "from sklearn.metrics import roc_auc_score\n",
        "\n",
        "# We have no idea how original author got the thresholds, we use average of auc score\n",
        "def evaluation_threshold(threshold, y_test, distances):\n",
        "\n",
        "  tr = [threshold]\n",
        "\n",
        "  for t in tr:\n",
        "    res=[]\n",
        "    for d in distances:\n",
        "      if d > t:\n",
        "        res.append(1)\n",
        "      else:\n",
        "        res.append(0)\n",
        "\n",
        "    f1score = f1_score(y_test.astype(np.int32), res)\n",
        "    recall = recall_score(y_test.astype(np.int32), res)\n",
        "    precision = precision_score(y_test.astype(np.int32), res)\n",
        "    accuracy = accuracy_score(y_test.astype(np.int32), res)\n",
        "    print('threshold value: ', t)\n",
        "    print('f1: ', f1score)\n",
        "    print('recall: ',  recall)\n",
        "    print('precision: ', precision)\n",
        "    print('Accuracy: ', accuracy)\n",
        "    print('##################################')\n",
        "    return t, f1score, recall, precision, accuracy\n",
        "\n",
        "max_accuracy = 0\n",
        "max_recall = 0\n",
        "max_precision = 0\n",
        "max_f1score = 0\n",
        "\n",
        "max_accuracy_test = 0\n",
        "max_recall_test = 0\n",
        "max_precision_test = 0\n",
        "max_f1score_test = 0\n",
        "\n",
        "with mirrored_strategy.scope():\n",
        "    for i in range(20):\n",
        "        print(f\"Currently Running Epoch - {i+1}\")\n",
        "        model.fit(x_train, y_train, batch_size=2048, epochs=1)\n",
        "\n",
        "        # Evaluate performance\n",
        "        test_distances = model.predict(x_test, batch_size=2048)\n",
        "        train_distances = model.predict(x_train, batch_size=2048)\n",
        "\n",
        "        test_auc = roc_auc_score(y_test.astype(np.int32), test_distances)\n",
        "        train_auc = roc_auc_score(y_train.astype(np.int32), train_distances)\n",
        "\n",
        "        fpr_test, tpr_test, thresholds_test = roc_curve(y_test.astype(np.int32), test_distances, pos_label=1)\n",
        "        fpr_train, tpr_train, thresholds_train = roc_curve(y_train.astype(np.int32), train_distances, pos_label=1)\n",
        "\n",
        "        print(f\"Train AUC: {train_auc}, Test AUC: {test_auc}\")\n",
        "\n",
        "        if train_auc == 1: # prevent calculation go wrong, not impacting results\n",
        "          train_auc = 0.99\n",
        "        if test_auc == 1:\n",
        "          test_auc = 0.99\n",
        "\n",
        "        print('Using trainset to find threshold:') # this should be legit\n",
        "        t, f1score, recall, precision, accuracy = evaluation_threshold(np.average(thresholds_train[tpr_train>train_auc]), y_test, test_distances)\n",
        "        print('Using testset to find threshold:') # this is what the authors used, which leaks info\n",
        "        t_test, f1score_test, recall_test, precision_test, accuracy_test = evaluation_threshold(np.average(thresholds_test[tpr_test>test_auc]), y_test, test_distances)\n",
        "\n",
        "        if max_accuracy <= accuracy:\n",
        "          max_accuracy = accuracy\n",
        "          max_recall = recall\n",
        "          max_precision = precision\n",
        "          max_f1score = f1score\n",
        "\n",
        "        if max_accuracy_test <= accuracy_test:\n",
        "          max_accuracy_test = accuracy_test\n",
        "          max_recall_test = recall\n",
        "          max_precision_test = precision_test\n",
        "          max_f1score_test = f1score_test\n"
      ]
    },
    {
      "cell_type": "code",
      "execution_count": 33,
      "metadata": {
        "colab": {
          "base_uri": "https://localhost:8080/"
        },
        "id": "y0sJzUS9oLQe",
        "outputId": "72117097-5885-49e6-9d3a-e68d600b32e1"
      },
      "outputs": [
        {
          "output_type": "stream",
          "name": "stdout",
          "text": [
            "*******\n",
            "author's best:\n",
            "0.8539538357173582 0.29375853503101873 0.9758858689136652 0.4506337498478721\n"
          ]
        }
      ],
      "source": [
        "print(\"*******\\nauthor's best:\")\n",
        "print(max_accuracy_test, max_precision_test, max_recall_test, max_f1score_test)"
      ]
    },
    {
      "cell_type": "code",
      "execution_count": 35,
      "metadata": {
        "colab": {
          "base_uri": "https://localhost:8080/"
        },
        "id": "6Fmc_HYVoiSm",
        "outputId": "c1163ce5-50c5-4e1c-ff99-b76b204b0688"
      },
      "outputs": [
        {
          "output_type": "stream",
          "name": "stdout",
          "text": [
            "*******\n",
            "train's best:\n",
            "0.7815197541950051 0.21915547960065315 0.9861189607631574 0.3586127218032001\n"
          ]
        }
      ],
      "source": [
        "print(\"*******\\ntrain's best:\")\n",
        "print(max_accuracy, max_precision, max_recall, max_f1score)"
      ]
    },
    {
      "cell_type": "markdown",
      "source": [
        "## Visualization"
      ],
      "metadata": {
        "id": "pXRyCph0W1Kv"
      }
    },
    {
      "cell_type": "code",
      "source": [
        "#Confusion Matrix Visualization\n",
        "import matplotlib.pyplot as plt\n",
        "from sklearn.metrics import confusion_matrix, ConfusionMatrixDisplay\n",
        "\n",
        "def plot_confusion_matrix(y_true, y_pred, title=\"Confusion Matrix\"):\n",
        "    cm = confusion_matrix(y_true, y_pred)\n",
        "    disp = ConfusionMatrixDisplay(confusion_matrix=cm)\n",
        "    disp.plot(cmap=\"Blues\")\n",
        "    plt.title(title)\n",
        "    plt.show()\n",
        "\n",
        "# Example Usage\n",
        "threshold = np.average(thresholds_test[tpr_test > test_auc])  # Replace with a valid condition\n",
        "predicted_classes = [1 if dist > threshold else 0 for dist in test_distances]  # Adjust threshold as needed\n",
        "plot_confusion_matrix(y_test, predicted_classes)"
      ],
      "metadata": {
        "colab": {
          "base_uri": "https://localhost:8080/",
          "height": 472
        },
        "id": "kloW8S_gW4FG",
        "outputId": "01f9516f-a90e-45e4-d465-3cb25f7ff563"
      },
      "execution_count": 36,
      "outputs": [
        {
          "output_type": "display_data",
          "data": {
            "text/plain": [
              "<Figure size 640x480 with 2 Axes>"
            ],
            "image/png": "[encoded data removed]"
          },
          "metadata": {}
        }
      ]
    },
    {
      "cell_type": "code",
      "source": [
        "#Plotting ROC Curve\n",
        "def plot_roc_curve(fpr, tpr, auc_score, title=\"ROC Curve\"):\n",
        "    plt.plot(fpr, tpr, color='blue', label=f'AUC = {auc_score:.2f}')\n",
        "    plt.plot([0, 1], [0, 1], 'k--')  # Diagonal line\n",
        "    plt.xlabel('False Positive Rate')\n",
        "    plt.ylabel('True Positive Rate')\n",
        "    plt.title(title)\n",
        "    plt.legend()\n",
        "    plt.show()\n",
        "\n",
        "# Example Usage\n",
        "plot_roc_curve(fpr_test, tpr_test, test_auc, title=\"Test ROC Curve\")"
      ],
      "metadata": {
        "colab": {
          "base_uri": "https://localhost:8080/",
          "height": 472
        },
        "id": "k5j3XqsFW859",
        "outputId": "252274b2-e0c6-4c11-ab50-89d4478789eb"
      },
      "execution_count": 37,
      "outputs": [
        {
          "output_type": "display_data",
          "data": {
            "text/plain": [
              "<Figure size 640x480 with 1 Axes>"
            ],
            "image/png": "[encoded data removed]"
          },
          "metadata": {}
        }
      ]
    },
    {
      "cell_type": "code",
      "source": [
        "#Metrics vs Threshold Plot\n",
        "def plot_metrics_vs_threshold(thresholds, precisions, recalls, f1s):\n",
        "    plt.plot(thresholds, precisions, label=\"Precision\")\n",
        "    plt.plot(thresholds, recalls, label=\"Recall\")\n",
        "    plt.plot(thresholds, f1s, label=\"F1 Score\")\n",
        "    plt.xlabel('Threshold')\n",
        "    plt.ylabel('Metrics')\n",
        "    plt.title('Metrics vs Threshold')\n",
        "    plt.legend()\n",
        "    plt.show()\n",
        "\n",
        "# Example Usage\n",
        "thresholds = thresholds_test\n",
        "precisions = [precision_score(y_test, [1 if dist > t else 0 for dist in test_distances]) for t in thresholds]\n",
        "recalls = [recall_score(y_test, [1 if dist > t else 0 for dist in test_distances]) for t in thresholds]\n",
        "f1s = [f1_score(y_test, [1 if dist > t else 0 for dist in test_distances]) for t in thresholds]\n",
        "plot_metrics_vs_threshold(thresholds, precisions, recalls, f1s)"
      ],
      "metadata": {
        "colab": {
          "base_uri": "https://localhost:8080/",
          "height": 561
        },
        "id": "g11fRvXGXBke",
        "outputId": "7fc21caf-c0d6-42c6-8c99-c3370d37f836"
      },
      "execution_count": 38,
      "outputs": [
        {
          "output_type": "stream",
          "name": "stderr",
          "text": [
            "/usr/local/lib/python3.11/dist-packages/sklearn/metrics/_classification.py:1565: UndefinedMetricWarning: Precision is ill-defined and being set to 0.0 due to no predicted samples. Use `zero_division` parameter to control this behavior.\n",
            "  _warn_prf(average, modifier, f\"{metric.capitalize()} is\", len(result))\n",
            "/usr/local/lib/python3.11/dist-packages/sklearn/metrics/_classification.py:1565: UndefinedMetricWarning: Precision is ill-defined and being set to 0.0 due to no predicted samples. Use `zero_division` parameter to control this behavior.\n",
            "  _warn_prf(average, modifier, f\"{metric.capitalize()} is\", len(result))\n"
          ]
        },
        {
          "output_type": "display_data",
          "data": {
            "text/plain": [
              "<Figure size 640x480 with 1 Axes>"
            ],
            "image/png": "[encoded data removed]"
          },
          "metadata": {}
        }
      ]
    }
  ],
  "metadata": {
    "accelerator": "GPU",
    "colab": {
      "gpuClass": "premium",
      "gpuType": "T4",
      "machine_shape": "hm",
      "provenance": []
    },
    "kernelspec": {
      "display_name": "Python 3",
      "name": "python3"
    },
    "language_info": {
      "codemirror_mode": {
        "name": "ipython",
        "version": 3
      },
      "file_extension": ".py",
      "mimetype": "text/x-python",
      "name": "python",
      "nbconvert_exporter": "python",
      "pygments_lexer": "ipython3",
      "version": "3.6.7"
    }
  },
  "nbformat": 4,
  "nbformat_minor": 0
}