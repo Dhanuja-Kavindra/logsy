{
  "cells": [
    {
      "cell_type": "markdown",
      "metadata": {
        "id": "NxcscygxQKNS"
      },
      "source": [
        "# **Anomaly Detection for HDFS dataset**\n",
        "\n",
        "\n",
        "\n",
        "\n"
      ]
    },
    {
      "cell_type": "markdown",
      "metadata": {
        "id": "WkkgktabSyKZ"
      },
      "source": [
        "# Import libraries\n"
      ]
    },
    {
      "cell_type": "code",
      "execution_count": 1,
      "metadata": {
        "colab": {
          "base_uri": "https://localhost:8080/"
        },
        "id": "p-_F7uwWUcCf",
        "outputId": "7340203b-4da5-49d7-dd36-46ba27ebd9fe"
      },
      "outputs": [
        {
          "output_type": "stream",
          "name": "stderr",
          "text": [
            "[nltk_data] Downloading package stopwords to /root/nltk_data...\n",
            "[nltk_data]   Unzipping corpora/stopwords.zip.\n",
            "[nltk_data] Downloading package punkt to /root/nltk_data...\n",
            "[nltk_data]   Unzipping tokenizers/punkt.zip.\n"
          ]
        }
      ],
      "source": [
        "import numpy as np\n",
        "import pandas as pd\n",
        "import math, copy, time\n",
        "import pickle\n",
        "import os\n",
        "import re\n",
        "\n",
        "import signal\n",
        "import nltk\n",
        "from nltk import word_tokenize\n",
        "from nltk.corpus import stopwords\n",
        "\n",
        "nltk.download('stopwords')\n",
        "nltk.download('punkt')\n",
        "\n",
        "from tqdm import trange\n",
        "\n",
        "import random\n",
        "import re\n",
        "\n",
        "import tensorflow.keras.backend as K\n",
        "from tensorflow.keras.layers import Layer\n",
        "from tensorflow.keras import layers\n",
        "from tensorflow.keras.callbacks import Callback\n",
        "import keras\n",
        "np.random.seed(0)\n"
      ]
    },
    {
      "cell_type": "markdown",
      "metadata": {
        "id": "IDM8RiW1Sc-N"
      },
      "source": [
        "# First enable GPU parallel execution"
      ]
    },
    {
      "cell_type": "code",
      "execution_count": 2,
      "metadata": {
        "id": "BCeoG8M467sp"
      },
      "outputs": [],
      "source": [
        "import tensorflow as tf\n",
        "mirrored_strategy = tf.distribute.MirroredStrategy()"
      ]
    },
    {
      "cell_type": "markdown",
      "metadata": {
        "id": "oYtNm7lES3Ng"
      },
      "source": [
        "# Mount dataset"
      ]
    },
    {
      "cell_type": "code",
      "execution_count": 3,
      "metadata": {
        "colab": {
          "base_uri": "https://localhost:8080/"
        },
        "id": "ME281tJIUOXa",
        "outputId": "52083e6a-da51-4b0c-fe74-885c37660bb3"
      },
      "outputs": [
        {
          "output_type": "stream",
          "name": "stdout",
          "text": [
            "Mounted at /content/drive\n"
          ]
        }
      ],
      "source": [
        "from google.colab import drive\n",
        "drive.mount('/content/drive')\n",
        "\n",
        "# special to google colab | put your 4 Datasets into this path\n",
        "folder_path = '/content/drive/My Drive/LogSy'"
      ]
    },
    {
      "cell_type": "markdown",
      "metadata": {
        "id": "TpcmiFCpS6xQ"
      },
      "source": [
        "# Read in the datasets using preprocessor"
      ]
    },
    {
      "cell_type": "code",
      "execution_count": 4,
      "metadata": {
        "id": "5b8wEE-yrWCB"
      },
      "outputs": [],
      "source": [
        "\"\"\"\n",
        "Standard tokenizer + do what the paper says\n",
        "\"\"\"\n",
        "\"\"\"\n",
        "Do not run this script in Windows, it will not work due to use of signal\n",
        "\n",
        "We also use authors preprocessor to evaluate our model just in case we made something wrong here\n",
        "\"\"\"\n",
        "\n",
        "class TimeoutException(Exception):  # Custom exception class\n",
        "    pass\n",
        "\n",
        "\n",
        "def timeout_handler(signum, frame):  # Custom signal handler\n",
        "    raise TimeoutException\n",
        "\n",
        "\n",
        "# Change the behavior of SIGALRM\n",
        "signal.signal(signal.SIGALRM, timeout_handler)\n",
        "\n",
        "\n",
        "class DataTokenizer:\n",
        "    def __init__(self):\n",
        "        self.word2index = {'[PAD]': 0, '[CLS]': 1, '[MASK]': 2}\n",
        "        self.num_words = 3\n",
        "        self.stop_words = set(stopwords.words('english'))\n",
        "\n",
        "    def tokenize(self, message):\n",
        "        # paper section IV: Tokenization processing\n",
        "        message = message.lower()\n",
        "        message = re.sub(r'/.*:', '', message, flags=re.MULTILINE)  # filter for endpoints\n",
        "        message = re.sub(r'/.*', '', message, flags=re.MULTILINE)\n",
        "        message = word_tokenize(message)  # remove non words\n",
        "        message = (word for word in message if word.isalpha())  # generator  # remove numerical\n",
        "        message = [word for word in message if word not in self.stop_words]  # remove nltk common stopwords\n",
        "        message = ['[CLS]'] + message  # add embedding token\n",
        "        for word_idx, word in enumerate(message):  # convert to value\n",
        "            if word not in self.word2index:\n",
        "                self.word2index[word] = self.num_words\n",
        "                self.num_words += 1\n",
        "            message[word_idx] = self.word2index[word]\n",
        "        return message\n",
        "tokenizer = DataTokenizer()\n",
        "\n",
        "from tqdm.auto import tqdm\n",
        "class DataImporter:\n",
        "    \"\"\"\n",
        "    loads data set from the raw dataset\n",
        "    \"\"\"\n",
        "\n",
        "    def __init__(self, log_template, dataset_folder_path, dataset_name, dataset_step=1,\n",
        "                 dataset_limit=100000, dataset_type='main', normal_indicator: str = '-', aux_count=50000,\n",
        "                 chunk: bool = True):\n",
        "        self.log_template = log_template  # a template containing <Token{n}> and <Message>\n",
        "        self.log_dataframe = None\n",
        "        self.dataset_folder_path: str = dataset_folder_path  # path to the dataset folder\n",
        "        self.dataset_name: str = dataset_name  # full name of raw dataset\n",
        "        self.step: int = dataset_step  # step taken to sample auxiliary dataset\n",
        "        self.log_template_regex: re = re.compile(r'')\n",
        "        self.log_template_headers: list[str] = []\n",
        "        self.limit: int = dataset_limit  # used for faster experiment only\n",
        "        self.dataset_type: str = dataset_type\n",
        "        self.normal_indicator: str = normal_indicator  # a sign indicating the log line is anomaly\n",
        "        self.aux_count: int = aux_count\n",
        "        self.chunk: bool = chunk\n",
        "\n",
        "    def log_loader(self):\n",
        "        \"\"\"\n",
        "        read from IO stream and only take the actual log message based on template\n",
        "        :return:\n",
        "        \"\"\"\n",
        "        log_messages = []\n",
        "        true_labels = []\n",
        "        with open(os.path.join(self.dataset_folder_path, self.dataset_name), 'r', encoding=\"latin-1\") as ds:\n",
        "            for line_no, line in enumerate(tqdm(ds, miniters=1)):\n",
        "                if line_no != 1 and line_no % 20000000 == 1:  # 15 file chunks\n",
        "                    with open(f'dataset/tbird/{self.dataset_name}_chunked_msg_line{line_no}', 'wb') as message_file:\n",
        "                        # print(log_messages)\n",
        "                        # log_messages_array = np.asanyarray(log_messages).reshape(-1, 1)\n",
        "                        print(len(log_messages))\n",
        "                        l = len(log_messages)\n",
        "                        tokenized = [tokenizer.tokenize(log_message) for log_message in\n",
        "                                     tqdm(log_messages, position=0, leave=True, total=l)]\n",
        "                        tokenized_np = np.asanyarray(tokenized)\n",
        "                        del tokenized\n",
        "                        pickle.dump(tokenized_np, message_file)\n",
        "                        log_messages = []  # reset\n",
        "                # Start the timer. Once 10 seconds are over, a SIGALRM signal is sent.\n",
        "                try:\n",
        "                    try:\n",
        "                        signal.alarm(30)\n",
        "\n",
        "                        match = self.log_template_regex.search(line.strip())\n",
        "\n",
        "                        if not match:\n",
        "                            continue\n",
        "                        label_decider = lambda x: 0 if x == self.normal_indicator else 1\n",
        "                        true_labels.append(label_decider(match.group('Token0')))\n",
        "                        # message = tokenizer.tokenize(match.group('Message'))\n",
        "                        # log_messages.append(message)\n",
        "                        log_messages.append(match.group('Message'))\n",
        "                        # print('message after tokenize ', message, log_messages)\n",
        "                        # print(self.log_template_headers)\n",
        "                    except Exception as e:  # noqa\n",
        "                        print(e)\n",
        "                        # print(e) # will skip those without normal indications('-' OR 'warn')\n",
        "                        pass\n",
        "                except TimeoutException:\n",
        "                    print(\"Regex hang detected, skipping\")\n",
        "                    continue  # catastrophic backtracking\n",
        "                else:\n",
        "                    signal.alarm(0)\n",
        "                if line_no == self.limit:\n",
        "                    break\n",
        "        return log_messages, np.array(true_labels)  # remaining log_messages and all of labels\n",
        "\n",
        "    def load(self):\n",
        "        self.log_template_matcher()\n",
        "\n",
        "        self.log_dataframe = self.log_loader()\n",
        "\n",
        "\n",
        "    def log_template_matcher(self):\n",
        "        headers = []\n",
        "        splitters = re.split(r'(<[^<>]+>)', self.log_template)\n",
        "        regex = ''\n",
        "        for k in range(len(splitters)):\n",
        "            if k % 2 == 0:\n",
        "                splitter = re.sub(' +', '\\\\\\s+', splitters[k])\n",
        "                regex += splitter\n",
        "            else:\n",
        "                header = splitters[k].strip('<').strip('>')\n",
        "                regex += '(?P<%s>.+?)' % header\n",
        "                headers.append(header)\n",
        "        print(regex)\n",
        "        regex = re.compile('^' + regex + '$')\n",
        "\n",
        "        self.log_template_headers, self.log_template_regex = headers, regex"
      ]
    },
    {
      "cell_type": "code",
      "execution_count": 14,
      "metadata": {
        "id": "QmysvQ57IyFV"
      },
      "outputs": [],
      "source": [
        "# original authors' data processor\n",
        "class LogReader:\n",
        "    def __init__(self, log_format, log_name, indir='./', outdir='./result/', rex=[], every_n=10, max_lines=2000000):\n",
        "        self.path = indir\n",
        "        self.logName = log_name\n",
        "        self.savePath = outdir\n",
        "        self.df_log = None\n",
        "        self.log_format = log_format\n",
        "        self.rex = rex\n",
        "        self.every_n = every_n\n",
        "        self.max_lines = max_lines\n",
        "\n",
        "    def log_to_dataframe(self, log_file, regex, headers, logformat):\n",
        "        \"\"\" Function to transform log file to dataframe \"\"\"\n",
        "        log_messages = []\n",
        "        linecount = 0\n",
        "\n",
        "        if self.max_lines:\n",
        "            with open(log_file, 'r', encoding=\"latin-1\") as fin:\n",
        "                for i, line in enumerate(fin):\n",
        "                    if i % self.every_n == 0:\n",
        "                        try:\n",
        "                            match = regex.search(line.strip())\n",
        "                            message = [match.group(header) for header in headers]\n",
        "                            log_messages.append(message)\n",
        "                            linecount += 1\n",
        "                        except Exception as e:\n",
        "                            pass\n",
        "                    if i == self.max_lines:\n",
        "                        break\n",
        "        else:\n",
        "            with open(log_file, 'r', encoding=\"latin-1\") as fin:\n",
        "                for i, line in enumerate(fin):\n",
        "                    if i % self.every_n == 0:\n",
        "                        try:\n",
        "                            match = regex.search(line.strip())\n",
        "                            message = [match.group(header) for header in headers]\n",
        "                            log_messages.append(message)\n",
        "                            linecount += 1\n",
        "                        except Exception as e:\n",
        "                            pass\n",
        "\n",
        "        logdf = pd.DataFrame(log_messages, columns=headers)\n",
        "        if 'LineId' not in logdf.columns:\n",
        "          logdf.insert(0, 'LineId', None)\n",
        "          logdf['LineId'] = [i + 1 for i in range(linecount)]\n",
        "\n",
        "        return logdf\n",
        "\n",
        "    def generate_logformat_regex(self, logformat):\n",
        "        \"\"\" Function to generate regular expression to split log messages \"\"\"\n",
        "        headers = []\n",
        "        splitters = re.split(r'(<[^<>]+>)', logformat)\n",
        "        regex = ''\n",
        "        for k in range(len(splitters)):\n",
        "            if k % 2 == 0:\n",
        "                splitter = re.sub(' +', '\\\\\\s+', splitters[k])\n",
        "                regex += splitter\n",
        "            else:\n",
        "                header = splitters[k].strip('<').strip('>')\n",
        "                regex += '(?P<%s>.*?)' % header\n",
        "                headers.append(header)\n",
        "        regex = re.compile('^' + regex + '$')\n",
        "        return headers, regex\n",
        "\n",
        "    def load_data(self):\n",
        "        headers, regex = self.generate_logformat_regex(self.log_format)\n",
        "        self.df_log = self.log_to_dataframe(os.path.join(self.path, self.logName), regex, headers, self.log_format)\n",
        "\n",
        "# LogTokenizer class for tokenizing log content\n",
        "class LogTokenizer:\n",
        "    def __init__(self):\n",
        "        self.word2index = {'[PAD]': 0, '[CLS]': 1, '[MASK]': 2}\n",
        "        self.index2word = {0: '[PAD]', 1: '[CLS]', 2: '[MASK]'}\n",
        "        self.n_words = 3  # Count special tokens\n",
        "        self.stop_words = set(stopwords.words('english'))\n",
        "        self.regextokenizer = nltk.RegexpTokenizer('\\w+|.|')\n",
        "\n",
        "    def addWord(self, word):\n",
        "        if word not in self.word2index:\n",
        "            self.word2index[word] = self.n_words\n",
        "            self.index2word[self.n_words] = word\n",
        "            self.n_words += 1\n",
        "\n",
        "    def tokenize(self, sent):\n",
        "        sent = re.sub(r'\\/.*:', '', sent, flags=re.MULTILINE)\n",
        "        sent = re.sub(r'\\/.*', '', sent, flags=re.MULTILINE)\n",
        "        sent = self.regextokenizer.tokenize(sent)\n",
        "        sent = [w.lower() for w in sent]\n",
        "        sent = [word for word in sent if word.isalpha()]\n",
        "        sent = [w for w in sent if not w in self.stop_words]\n",
        "        sent = ['[CLS]'] + sent\n",
        "        for w in range(len(sent)):\n",
        "            self.addWord(sent[w])\n",
        "            sent[w] = self.word2index[sent[w]]\n",
        "        return sent\n",
        "\n",
        "# Function to load general datasets\n",
        "def get_data(log_file, input_dir, output_dir, log_format, regex=[], every_n=10, aux=0, max_lines=5000000):\n",
        "    reader = LogReader(log_format, log_file, indir=input_dir, outdir=output_dir, rex=regex, every_n=every_n, max_lines=max_lines)\n",
        "    reader.load_data()\n",
        "    log_payload, true_labels = reader.df_log.Content, np.where(reader.df_log.t.values == '-', 0, 1)\n",
        "    del reader\n",
        "    if aux != 0:\n",
        "        df_anomalies = log_payload.iloc[true_labels.flatten() == 1].sample(n=aux).values\n",
        "        df_normal = log_payload.iloc[true_labels.flatten() == 0].sample(n=aux).values\n",
        "        return df_normal, df_anomalies\n",
        "    else:\n",
        "        return log_payload, true_labels\n",
        "\n",
        "# Function to load special datasets\n",
        "def get_data_special(log_file, input_dir, output_dir, log_format, regex=[], every_n=10, aux=0, max_lines=2000000):\n",
        "    reader = LogReader(log_format, log_file, indir=input_dir, outdir=output_dir, rex=regex, every_n=every_n, max_lines=max_lines)\n",
        "    reader.load_data()\n",
        "    log_payload, true_labels = reader.df_log.Content, np.where(reader.df_log.t.values != 'FATAL', 0, 1)\n",
        "    del reader\n",
        "\n",
        "    return log_payload, true_labels\n",
        "\n",
        "# New function to load HDFS dataset\n",
        "def get_data_hdfs(log_file, input_dir, output_dir, log_format, regex=[], every_n=1, max_lines=5000000):\n",
        "    reader = LogReader(log_format, log_file, indir=input_dir, outdir=output_dir, rex=regex, every_n=every_n, max_lines=max_lines)\n",
        "    reader.load_data()\n",
        "\n",
        "    # Clean the Label column\n",
        "    reader.df_log['Label'] = reader.df_log['Label'].apply(lambda x: x.split(',')[-1])\n",
        "    print(reader.df_log['Label'].value_counts())  # Debugging: Verify cleaned labels\n",
        "\n",
        "    # Retain rows with valid labels only\n",
        "    valid_labels = ['Normal', 'Anomaly']\n",
        "    reader.df_log = reader.df_log[reader.df_log['Label'].isin(valid_labels)]\n",
        "\n",
        "    # Map labels to binary values\n",
        "    log_payload, true_labels = reader.df_log.Content, np.where(reader.df_log.Label == 'Normal', 0, 1)\n",
        "\n",
        "    del reader\n",
        "    return log_payload, true_labels\n",
        "\n"
      ]
    },
    {
      "cell_type": "markdown",
      "metadata": {
        "id": "941425gnirAp"
      },
      "source": [
        "\n",
        "\n",
        "# First 3 aux datasets"
      ]
    },
    {
      "cell_type": "code",
      "execution_count": 6,
      "metadata": {
        "collapsed": true,
        "id": "dZr6kGpZUcCj"
      },
      "outputs": [],
      "source": [
        "log_file = 'spirit_small'\n",
        "input_dir  = folder_path\n",
        "output_dir = '.'\n",
        "log_format = '<t> <Timestamp> <Date> <User> <Month> <Day> <Time> <Location> <Content>'  #spirit2\n",
        "\n",
        "aux_normal, aux_anomalies = get_data(log_file, input_dir, output_dir, log_format, every_n=1, aux=200000, max_lines=False) # use 200000 when its tbird2 small (5m)"
      ]
    },
    {
      "cell_type": "code",
      "execution_count": 7,
      "metadata": {
        "id": "LfyuPftFUcCj",
        "scrolled": true
      },
      "outputs": [],
      "source": [
        "log_file = 'tbird2_small' # small meaning the dataset using only first 5m, note model doesn't converge well when sampling 5m instead of first 5m even if using original authors code\n",
        "input_dir  = folder_path\n",
        "log_format = '<t> <Timestamp> <Date> <User> <Month> <Day> <Time> <Location> <Component>(\\[<PID>\\])?: <Content>'  #thunderbird\n",
        "output_dir = '.'\n",
        "every_n = 1\n",
        "aux_size = 200000\n",
        "aux_normal1, aux_anomalies1= get_data(log_file, input_dir, output_dir, log_format, every_n=1, aux=200000, max_lines=False)\n"
      ]
    },
    {
      "cell_type": "code",
      "execution_count": 8,
      "metadata": {
        "id": "LdSU3380UcCk"
      },
      "outputs": [],
      "source": [
        "log_file = 'Intrepid_RAS_0901_0908_scrubbed' # this one cannot be used as target, its too obvious\n",
        "input_dir  = folder_path\n",
        "output_dir = '.'\n",
        "log_format = '<f> <a>          <c>       <d>                  <e>    <t> <Content>'  #BGP\n",
        "aux_anomalies_t, tl = get_data_special(log_file, input_dir, output_dir, log_format, every_n=1, aux=False, max_lines=False)\n",
        "aux_normal2, aux_anomalies2  = aux_anomalies_t[tl==1], aux_anomalies_t[tl==0] # reverse this [TODO]\n"
      ]
    },
    {
      "cell_type": "markdown",
      "metadata": {
        "id": "oudsVRz7TL32"
      },
      "source": [
        "## Concat the auxiliary dataasets to one single piece, then sample if it was more than a threshold\n"
      ]
    },
    {
      "cell_type": "code",
      "execution_count": 9,
      "metadata": {
        "id": "taWdIBBLUcCl"
      },
      "outputs": [],
      "source": [
        "# concatenate\n",
        "aux_anomalies = np.append(aux_anomalies, aux_anomalies1)\n",
        "aux_anomalies_full = np.append(aux_anomalies, aux_anomalies2)"
      ]
    },
    {
      "cell_type": "code",
      "execution_count": 10,
      "metadata": {
        "id": "a04tdsT-UcCl"
      },
      "outputs": [],
      "source": [
        "# sample\n",
        "if aux_anomalies.shape[0] > 500000:\n",
        "  aux_anomalies = np.random.choice(aux_anomalies_full, size=500000, replace=False)  # changing size doesn't seem to change results\n",
        "  print(f\"Selected {aux_anomalies.shape} samples out of {len(aux_anomalies_full)} aux samples\")"
      ]
    },
    {
      "cell_type": "markdown",
      "metadata": {
        "id": "beUJ6Ow_PQhD"
      },
      "source": [
        "# Then target dataset - switch with aux if you need to evaluate different target"
      ]
    },
    {
      "cell_type": "code",
      "execution_count": 15,
      "metadata": {
        "id": "1scTBiN7QRSc",
        "colab": {
          "base_uri": "https://localhost:8080/"
        },
        "outputId": "feddddf5-29a3-4f45-b90e-f49aa1460d8d"
      },
      "outputs": [
        {
          "output_type": "stream",
          "name": "stdout",
          "text": [
            "Label\n",
            "Normal     1014970\n",
            "Anomaly      33605\n",
            "Name: count, dtype: int64\n",
            "Total logs: 1048575\n",
            "Anomalous logs: 33605\n",
            "Normal logs: 1014970\n"
          ]
        }
      ],
      "source": [
        "# Specify the HDFS log file details\n",
        "log_file = 'labeled_HDFS.csv'  # HDFS log file name or path\n",
        "input_dir = folder_path  # Directory containing the HDFS log file\n",
        "output_dir = '.'  # Directory for saving intermediate parsing results\n",
        "log_format = '<Date>,<Time>,<Pid>,<Level>,<Component>,<Content>,<BlockId>,<Label>'\n",
        "\n",
        "# Load the HDFS dataset using the custom function\n",
        "log_payload, true_labels = get_data_hdfs(log_file=log_file, input_dir=input_dir, output_dir=output_dir, log_format=log_format, every_n=1, max_lines=5000000)\n",
        "\n",
        "# Print some basic details about the dataset\n",
        "print(f\"Total logs: {len(log_payload)}\")\n",
        "print(f\"Anomalous logs: {np.sum(true_labels)}\")\n",
        "print(f\"Normal logs: {len(true_labels) - np.sum(true_labels)}\")\n"
      ]
    },
    {
      "cell_type": "code",
      "execution_count": null,
      "metadata": {
        "id": "eIkTZFuQWuvq"
      },
      "outputs": [],
      "source": [
        "### Never shuffle the data here, or there will be info leak"
      ]
    },
    {
      "cell_type": "code",
      "execution_count": 16,
      "metadata": {
        "colab": {
          "base_uri": "https://localhost:8080/"
        },
        "id": "H4c-K9T7UcCm",
        "outputId": "79e83732-46db-4071-b535-f2ca8ff50008"
      },
      "outputs": [
        {
          "output_type": "execute_result",
          "data": {
            "text/plain": [
              "1048575"
            ]
          },
          "metadata": {},
          "execution_count": 16
        }
      ],
      "source": [
        "df_size = len(log_payload)\n",
        "df_size"
      ]
    },
    {
      "cell_type": "code",
      "source": [
        "true_labels = true_labels.reshape(-1,1)"
      ],
      "metadata": {
        "id": "xRQXkG4JV1gX"
      },
      "execution_count": 17,
      "outputs": []
    },
    {
      "cell_type": "code",
      "execution_count": 18,
      "metadata": {
        "id": "ufdIgBLJUcCn",
        "colab": {
          "base_uri": "https://localhost:8080/"
        },
        "outputId": "5c267666-d666-4ec5-ba8c-e0fe959eddd1"
      },
      "outputs": [
        {
          "output_type": "stream",
          "name": "stdout",
          "text": [
            "log shape (1448575, 1), log labels shape (1448575,)\n"
          ]
        }
      ],
      "source": [
        "#append the anomalies to the full data\n",
        "log_payload = np.append(log_payload.values.reshape(-1,1), aux_anomalies.reshape(-1,1), axis=0)\n",
        "true_labels = np.append(true_labels, np.ones(len(aux_anomalies)).reshape(-1,1), axis=0).flatten()\n",
        "print(f'log shape {log_payload.shape}, log labels shape {true_labels.shape}')"
      ]
    },
    {
      "cell_type": "markdown",
      "metadata": {
        "id": "MrQp5QZxXy-Z"
      },
      "source": [
        "# Tokenize!"
      ]
    },
    {
      "cell_type": "code",
      "execution_count": 19,
      "metadata": {
        "colab": {
          "base_uri": "https://localhost:8080/"
        },
        "id": "3O2uU67VUcCo",
        "outputId": "6c679780-152d-444d-f75a-7e2615d54624",
        "scrolled": true
      },
      "outputs": [
        {
          "output_type": "stream",
          "name": "stderr",
          "text": [
            "100%|██████████| 1448575/1448575 [00:18<00:00, 80180.54it/s]\n"
          ]
        }
      ],
      "source": [
        "\n",
        "tokenizer = LogTokenizer()\n",
        "df_len = int(log_payload.shape[0]) # the num of logs\n",
        "data_tokenized = []\n",
        "for i in trange(df_len):\n",
        "    tokenized = tokenizer.tokenize(log_payload[i][0])\n",
        "    data_tokenized.append(tokenized)"
      ]
    },
    {
      "cell_type": "code",
      "execution_count": 20,
      "metadata": {
        "id": "RtWHQxFmRbTK"
      },
      "outputs": [],
      "source": [
        "# pickle to file\n",
        "with open('tokenized','wb') as tokenized_file:\n",
        "  pickle.dump(data_tokenized, tokenized_file)"
      ]
    },
    {
      "cell_type": "code",
      "execution_count": 21,
      "metadata": {
        "id": "dTfbilkfUl2q"
      },
      "outputs": [],
      "source": [
        "# save it for multiple executions with different split rate\n",
        "with open('tokenized','rb') as token:\n",
        "  data_tokenized = pickle.load(token)"
      ]
    },
    {
      "cell_type": "code",
      "execution_count": 22,
      "metadata": {
        "id": "3cWcsFTUUcCo"
      },
      "outputs": [],
      "source": [
        "data_token_indexed = np.asanyarray(data_tokenized, dtype=object)"
      ]
    },
    {
      "cell_type": "markdown",
      "metadata": {
        "id": "PTrvJUVgaxWl"
      },
      "source": [
        "#Standard transformer encoder with multi-head *attention*"
      ]
    },
    {
      "cell_type": "code",
      "execution_count": 23,
      "metadata": {
        "id": "iMyZcAlm9rKW"
      },
      "outputs": [],
      "source": [
        "class TransformerEncoder(layers.Layer): # standard tensformer encoder\n",
        "    def __init__(self, embed_dim, num_heads, dense_dim, **kwargs):\n",
        "        super(TransformerEncoder, self).__init__(**kwargs)\n",
        "        self.embed_dim = embed_dim\n",
        "        self.dense_dim = dense_dim\n",
        "        self.num_heads = num_heads\n",
        "        self.attention = layers.MultiHeadAttention(\n",
        "            num_heads=num_heads, key_dim=embed_dim,dropout=0.1\n",
        "        )\n",
        "        self.dense_proj = keras.Sequential(\n",
        "            [layers.Dense(dense_dim, activation=\"relu\"), layers.Dense(embed_dim),]\n",
        "        )\n",
        "        self.layernorm_1 = layers.LayerNormalization()\n",
        "        self.layernorm_2 = layers.LayerNormalization()\n",
        "        self.supports_masking = True\n",
        "        self.dropout1 = layers.Dropout(0.05)\n",
        "        self.dropout2 = layers.Dropout(0.05)\n",
        "\n",
        "    def call(self, inputs, training, mask=None):\n",
        "        padding_mask = None # Initialize padding_mask to None\n",
        "        if mask is not None:\n",
        "            padding_mask = tf.cast(mask[:, tf.newaxis, tf.newaxis, :], dtype=\"int32\")\n",
        "        attention_output = self.attention(\n",
        "            query=inputs, value=inputs, key=inputs, attention_mask=padding_mask\n",
        "        )\n",
        "        attention_output = self.dropout1(attention_output, training=training)\n",
        "        proj_input = self.layernorm_1(inputs + attention_output)\n",
        "        proj_output = self.dense_proj(proj_input)\n",
        "        proj_output = self.dropout2(proj_output, training=training)\n",
        "        return self.layernorm_2(proj_input + proj_output)\n",
        "\n",
        "\n",
        "class PositionalEmbedding(layers.Layer):\n",
        "    def __init__(self, sequence_length, vocab_size, embed_dim, **kwargs):\n",
        "        super(PositionalEmbedding, self).__init__(**kwargs)\n",
        "        self.token_embeddings = layers.Embedding(\n",
        "            input_dim=vocab_size, output_dim=embed_dim\n",
        "        )\n",
        "        self.position_embeddings = layers.Embedding(\n",
        "            input_dim=sequence_length, output_dim=embed_dim\n",
        "        )\n",
        "        self.sequence_length = sequence_length\n",
        "        self.vocab_size = vocab_size\n",
        "        self.embed_dim = embed_dim\n",
        "\n",
        "    def call(self, inputs):\n",
        "        length = tf.shape(inputs)[-1]\n",
        "        positions = tf.range(start=0, limit=length, delta=1)\n",
        "        embedded_tokens = self.token_embeddings(inputs)\n",
        "        embedded_positions = self.position_embeddings(positions)\n",
        "        return embedded_tokens + embedded_positions\n",
        "\n",
        "    def compute_mask(self, inputs, mask=None):\n",
        "        return tf.math.not_equal(inputs, 0)\n",
        "\n"
      ]
    },
    {
      "cell_type": "markdown",
      "metadata": {
        "id": "reKk7is8YJzk"
      },
      "source": [
        "# IMPORTANT: CHANGE TRAIN TEST SPLIT RATIO HERE"
      ]
    },
    {
      "cell_type": "code",
      "execution_count": 24,
      "metadata": {
        "id": "u6AsfBzEPscK"
      },
      "outputs": [],
      "source": [
        "ratio = 0.6 # change from 0.1 0.2 0.4 0.6 0.8 its not always 0.8 performas better than 0.1"
      ]
    },
    {
      "cell_type": "code",
      "execution_count": 25,
      "metadata": {
        "colab": {
          "base_uri": "https://localhost:8080/"
        },
        "id": "xhHKoqiAUcCo",
        "outputId": "f4a1cd9e-f409-4264-9d4d-7cbc31f86364"
      },
      "outputs": [
        {
          "output_type": "stream",
          "name": "stdout",
          "text": [
            "1048575 629145\n",
            "train size proportional to total logs - 0.6\n"
          ]
        }
      ],
      "source": [
        "train_size = round(df_size * ratio)\n",
        "print(df_size, train_size)\n",
        "print(f\"train size proportional to total logs - {train_size/df_size}\")"
      ]
    },
    {
      "cell_type": "code",
      "execution_count": 26,
      "metadata": {
        "colab": {
          "base_uri": "https://localhost:8080/"
        },
        "id": "j2t94hDsUcCo",
        "outputId": "0e5a57f2-e0df-4efd-82b1-b5cdef2787b9"
      },
      "outputs": [
        {
          "output_type": "stream",
          "name": "stdout",
          "text": [
            "train ground labels 0 1 counter Counter({0.0: 606758, 1.0: 400000})\n",
            "test ground labels 0 1 counter Counter({0.0: 408212, 1.0: 11218})\n",
            "(419430,) (1006758,) (1006758,) (419430,)\n"
          ]
        }
      ],
      "source": [
        "from collections import Counter\n",
        "# perform train test split\n",
        "\n",
        "# only take normal logs in target within ratio range\n",
        "data_token_indexed_train = np.append(data_token_indexed[:train_size][true_labels[:train_size]==0], data_token_indexed[df_size:],axis=0)\n",
        "\n",
        "# put remaining to test\n",
        "data_token_indexed_test = data_token_indexed[train_size:df_size]\n",
        "\n",
        "\n",
        "# labels using same split\n",
        "train_ground_labels = np.append(true_labels[:train_size][true_labels[:train_size]==0].flatten(), true_labels[df_size:].flatten(),axis=0)\n",
        "print(f\"train ground labels 0 1 counter {Counter(train_ground_labels)}\")\n",
        "\n",
        "test_ground_labels = true_labels[train_size:df_size]\n",
        "print(f\"test ground labels 0 1 counter {Counter(test_ground_labels)}\")\n",
        "\n",
        "print(data_token_indexed_test.shape, data_token_indexed_train.shape, train_ground_labels.shape, test_ground_labels.shape)"
      ]
    },
    {
      "cell_type": "code",
      "execution_count": 27,
      "metadata": {
        "colab": {
          "base_uri": "https://localhost:8080/"
        },
        "id": "yzjwoT7VUcCp",
        "outputId": "79a55807-45ac-4755-c0fc-b35a3f25010c"
      },
      "outputs": [
        {
          "output_type": "stream",
          "name": "stdout",
          "text": [
            "Unique log message count - 14\n"
          ]
        }
      ],
      "source": [
        "# verify unique log counts consistent with paper count\n",
        "unique_counter = np.intersect1d(np.unique(data_token_indexed_test), np.unique(data_token_indexed_train), assume_unique=True)\n",
        "print(f\"Unique log message count - {np.unique(data_token_indexed_test).shape[0] - unique_counter.shape[0]}\")"
      ]
    },
    {
      "cell_type": "code",
      "execution_count": 28,
      "metadata": {
        "colab": {
          "base_uri": "https://localhost:8080/"
        },
        "id": "JxfyBl3qeM5P",
        "outputId": "f5b61ee0-6ce9-40da-de42-eb06edd87c82"
      },
      "outputs": [
        {
          "output_type": "stream",
          "name": "stdout",
          "text": [
            "Collecting Keras-Preprocessing\n",
            "  Downloading Keras_Preprocessing-1.1.2-py2.py3-none-any.whl.metadata (1.9 kB)\n",
            "Requirement already satisfied: numpy>=1.9.1 in /usr/local/lib/python3.11/dist-packages (from Keras-Preprocessing) (1.26.4)\n",
            "Requirement already satisfied: six>=1.9.0 in /usr/local/lib/python3.11/dist-packages (from Keras-Preprocessing) (1.17.0)\n",
            "Downloading Keras_Preprocessing-1.1.2-py2.py3-none-any.whl (42 kB)\n",
            "\u001b[?25l   \u001b[90m━━━━━━━━━━━━━━━━━━━━━━━━━━━━━━━━━━━━━━━━\u001b[0m \u001b[32m0.0/42.6 kB\u001b[0m \u001b[31m?\u001b[0m eta \u001b[36m-:--:--\u001b[0m\r\u001b[2K   \u001b[90m━━━━━━━━━━━━━━━━━━━━━━━━━━━━━━━━━━━━━━━━\u001b[0m \u001b[32m42.6/42.6 kB\u001b[0m \u001b[31m1.8 MB/s\u001b[0m eta \u001b[36m0:00:00\u001b[0m\n",
            "\u001b[?25hInstalling collected packages: Keras-Preprocessing\n",
            "Successfully installed Keras-Preprocessing-1.1.2\n"
          ]
        }
      ],
      "source": [
        "!pip install Keras-Preprocessing\n"
      ]
    },
    {
      "cell_type": "code",
      "execution_count": 29,
      "metadata": {
        "colab": {
          "base_uri": "https://localhost:8080/"
        },
        "id": "_5sxljzWUcCp",
        "outputId": "608f4388-5fa8-4fa9-a6e0-63b459f79465"
      },
      "outputs": [
        {
          "output_type": "stream",
          "name": "stdout",
          "text": [
            "(1006758, 50) (419430, 50)\n",
            "[1 3 4 5 0 0 0 0 0 0 0 0 0 0 0 0 0 0 0 0 0 0 0 0 0 0 0 0 0 0 0 0 0 0 0 0 0\n",
            " 0 0 0 0 0 0 0 0 0 0 0 0 0]\n",
            "(1006758, 50) (1006758,) (419430, 50) (419430,)\n",
            "tf.Tensor(\n",
            "[[False False False ...  True  True  True]\n",
            " [False False False ...  True  True  True]\n",
            " [False False False ...  True  True  True]\n",
            " ...\n",
            " [False False False ...  True  True  True]\n",
            " [False False False ...  True  True  True]\n",
            " [False False False ...  True  True  True]], shape=(1006758, 50), dtype=bool) tf.Tensor(\n",
            "[[False False False ...  True  True  True]\n",
            " [False False False ...  True  True  True]\n",
            " [False False False ...  True  True  True]\n",
            " ...\n",
            " [False False False ...  True  True  True]\n",
            " [False False False ...  True  True  True]\n",
            " [False False False ...  True  True  True]], shape=(419430, 50), dtype=bool)\n"
          ]
        }
      ],
      "source": [
        "\n",
        "# assign set names\n",
        "x_train = data_token_indexed_train\n",
        "y_train =  train_ground_labels\n",
        "x_test = data_token_indexed_test\n",
        "y_test = test_ground_labels\n",
        "\n",
        "# Add padding to sequences to maxlen 50 according to paper\n",
        "from keras_preprocessing.sequence import pad_sequences\n",
        "\n",
        "x_train = pad_sequences(x_train, maxlen=50, truncating=\"post\", padding=\"post\")\n",
        "x_test = pad_sequences(x_test, maxlen=50, truncating=\"post\", padding=\"post\")\n",
        "print(x_train.shape, x_test.shape)\n",
        "print(x_train[0])\n",
        "print(x_train.shape, y_train.shape, x_test.shape, y_test.shape)\n",
        "\n",
        "## padding masks\n",
        "x_train_masks = tf.equal(x_train, 0)\n",
        "x_test_masks = tf.equal(x_test, 0)\n",
        "print(x_train_masks,x_test_masks)"
      ]
    },
    {
      "cell_type": "markdown",
      "metadata": {
        "id": "F8JtlyvubIxs"
      },
      "source": [
        "# Metrics and model building"
      ]
    },
    {
      "cell_type": "code",
      "execution_count": 43,
      "metadata": {
        "colab": {
          "base_uri": "https://localhost:8080/",
          "height": 408
        },
        "id": "sy2gprEc9yeo",
        "outputId": "cf1b7446-446c-4607-8c1f-db3d7d1cdeee"
      },
      "outputs": [
        {
          "output_type": "display_data",
          "data": {
            "text/plain": [
              "\u001b[1mModel: \"functional_14\"\u001b[0m\n"
            ],
            "text/html": [
              "<pre style=\"white-space:pre;overflow-x:auto;line-height:normal;font-family:Menlo,'DejaVu Sans Mono',consolas,'Courier New',monospace\"><span style=\"font-weight: bold\">Model: \"functional_14\"</span>\n",
              "</pre>\n"
            ]
          },
          "metadata": {}
        },
        {
          "output_type": "display_data",
          "data": {
            "text/plain": [
              "┏━━━━━━━━━━━━━━━━━━━━━━━━━━━━━━━━━━━━━━┳━━━━━━━━━━━━━━━━━━━━━━━━━━━━━┳━━━━━━━━━━━━━━━━━┓\n",
              "┃\u001b[1m \u001b[0m\u001b[1mLayer (type)                        \u001b[0m\u001b[1m \u001b[0m┃\u001b[1m \u001b[0m\u001b[1mOutput Shape               \u001b[0m\u001b[1m \u001b[0m┃\u001b[1m \u001b[0m\u001b[1m        Param #\u001b[0m\u001b[1m \u001b[0m┃\n",
              "┡━━━━━━━━━━━━━━━━━━━━━━━━━━━━━━━━━━━━━━╇━━━━━━━━━━━━━━━━━━━━━━━━━━━━━╇━━━━━━━━━━━━━━━━━┩\n",
              "│ input_layer_12 (\u001b[38;5;33mInputLayer\u001b[0m)          │ (\u001b[38;5;45mNone\u001b[0m, \u001b[38;5;34m50\u001b[0m)                  │               \u001b[38;5;34m0\u001b[0m │\n",
              "├──────────────────────────────────────┼─────────────────────────────┼─────────────────┤\n",
              "│ positional_embedding_4               │ (\u001b[38;5;45mNone\u001b[0m, \u001b[38;5;34m50\u001b[0m, \u001b[38;5;34m16\u001b[0m)              │           \u001b[38;5;34m4,640\u001b[0m │\n",
              "│ (\u001b[38;5;33mPositionalEmbedding\u001b[0m)                │                             │                 │\n",
              "├──────────────────────────────────────┼─────────────────────────────┼─────────────────┤\n",
              "│ transformer_encoder_8                │ (\u001b[38;5;45mNone\u001b[0m, \u001b[38;5;34m50\u001b[0m, \u001b[38;5;34m16\u001b[0m)              │           \u001b[38;5;34m2,768\u001b[0m │\n",
              "│ (\u001b[38;5;33mTransformerEncoder\u001b[0m)                 │                             │                 │\n",
              "├──────────────────────────────────────┼─────────────────────────────┼─────────────────┤\n",
              "│ transformer_encoder_9                │ (\u001b[38;5;45mNone\u001b[0m, \u001b[38;5;34m50\u001b[0m, \u001b[38;5;34m16\u001b[0m)              │           \u001b[38;5;34m2,768\u001b[0m │\n",
              "│ (\u001b[38;5;33mTransformerEncoder\u001b[0m)                 │                             │                 │\n",
              "├──────────────────────────────────────┼─────────────────────────────┼─────────────────┤\n",
              "│ lambda_8 (\u001b[38;5;33mLambda\u001b[0m)                    │ (\u001b[38;5;45mNone\u001b[0m, \u001b[38;5;34m16\u001b[0m)                  │               \u001b[38;5;34m0\u001b[0m │\n",
              "├──────────────────────────────────────┼─────────────────────────────┼─────────────────┤\n",
              "│ lambda_9 (\u001b[38;5;33mLambda\u001b[0m)                    │ (\u001b[38;5;45mNone\u001b[0m)                      │               \u001b[38;5;34m0\u001b[0m │\n",
              "└──────────────────────────────────────┴─────────────────────────────┴─────────────────┘\n"
            ],
            "text/html": [
              "<pre style=\"white-space:pre;overflow-x:auto;line-height:normal;font-family:Menlo,'DejaVu Sans Mono',consolas,'Courier New',monospace\">┏━━━━━━━━━━━━━━━━━━━━━━━━━━━━━━━━━━━━━━┳━━━━━━━━━━━━━━━━━━━━━━━━━━━━━┳━━━━━━━━━━━━━━━━━┓\n",
              "┃<span style=\"font-weight: bold\"> Layer (type)                         </span>┃<span style=\"font-weight: bold\"> Output Shape                </span>┃<span style=\"font-weight: bold\">         Param # </span>┃\n",
              "┡━━━━━━━━━━━━━━━━━━━━━━━━━━━━━━━━━━━━━━╇━━━━━━━━━━━━━━━━━━━━━━━━━━━━━╇━━━━━━━━━━━━━━━━━┩\n",
              "│ input_layer_12 (<span style=\"color: #0087ff; text-decoration-color: #0087ff\">InputLayer</span>)          │ (<span style=\"color: #00d7ff; text-decoration-color: #00d7ff\">None</span>, <span style=\"color: #00af00; text-decoration-color: #00af00\">50</span>)                  │               <span style=\"color: #00af00; text-decoration-color: #00af00\">0</span> │\n",
              "├──────────────────────────────────────┼─────────────────────────────┼─────────────────┤\n",
              "│ positional_embedding_4               │ (<span style=\"color: #00d7ff; text-decoration-color: #00d7ff\">None</span>, <span style=\"color: #00af00; text-decoration-color: #00af00\">50</span>, <span style=\"color: #00af00; text-decoration-color: #00af00\">16</span>)              │           <span style=\"color: #00af00; text-decoration-color: #00af00\">4,640</span> │\n",
              "│ (<span style=\"color: #0087ff; text-decoration-color: #0087ff\">PositionalEmbedding</span>)                │                             │                 │\n",
              "├──────────────────────────────────────┼─────────────────────────────┼─────────────────┤\n",
              "│ transformer_encoder_8                │ (<span style=\"color: #00d7ff; text-decoration-color: #00d7ff\">None</span>, <span style=\"color: #00af00; text-decoration-color: #00af00\">50</span>, <span style=\"color: #00af00; text-decoration-color: #00af00\">16</span>)              │           <span style=\"color: #00af00; text-decoration-color: #00af00\">2,768</span> │\n",
              "│ (<span style=\"color: #0087ff; text-decoration-color: #0087ff\">TransformerEncoder</span>)                 │                             │                 │\n",
              "├──────────────────────────────────────┼─────────────────────────────┼─────────────────┤\n",
              "│ transformer_encoder_9                │ (<span style=\"color: #00d7ff; text-decoration-color: #00d7ff\">None</span>, <span style=\"color: #00af00; text-decoration-color: #00af00\">50</span>, <span style=\"color: #00af00; text-decoration-color: #00af00\">16</span>)              │           <span style=\"color: #00af00; text-decoration-color: #00af00\">2,768</span> │\n",
              "│ (<span style=\"color: #0087ff; text-decoration-color: #0087ff\">TransformerEncoder</span>)                 │                             │                 │\n",
              "├──────────────────────────────────────┼─────────────────────────────┼─────────────────┤\n",
              "│ lambda_8 (<span style=\"color: #0087ff; text-decoration-color: #0087ff\">Lambda</span>)                    │ (<span style=\"color: #00d7ff; text-decoration-color: #00d7ff\">None</span>, <span style=\"color: #00af00; text-decoration-color: #00af00\">16</span>)                  │               <span style=\"color: #00af00; text-decoration-color: #00af00\">0</span> │\n",
              "├──────────────────────────────────────┼─────────────────────────────┼─────────────────┤\n",
              "│ lambda_9 (<span style=\"color: #0087ff; text-decoration-color: #0087ff\">Lambda</span>)                    │ (<span style=\"color: #00d7ff; text-decoration-color: #00d7ff\">None</span>)                      │               <span style=\"color: #00af00; text-decoration-color: #00af00\">0</span> │\n",
              "└──────────────────────────────────────┴─────────────────────────────┴─────────────────┘\n",
              "</pre>\n"
            ]
          },
          "metadata": {}
        },
        {
          "output_type": "display_data",
          "data": {
            "text/plain": [
              "\u001b[1m Total params: \u001b[0m\u001b[38;5;34m10,176\u001b[0m (39.75 KB)\n"
            ],
            "text/html": [
              "<pre style=\"white-space:pre;overflow-x:auto;line-height:normal;font-family:Menlo,'DejaVu Sans Mono',consolas,'Courier New',monospace\"><span style=\"font-weight: bold\"> Total params: </span><span style=\"color: #00af00; text-decoration-color: #00af00\">10,176</span> (39.75 KB)\n",
              "</pre>\n"
            ]
          },
          "metadata": {}
        },
        {
          "output_type": "display_data",
          "data": {
            "text/plain": [
              "\u001b[1m Trainable params: \u001b[0m\u001b[38;5;34m10,176\u001b[0m (39.75 KB)\n"
            ],
            "text/html": [
              "<pre style=\"white-space:pre;overflow-x:auto;line-height:normal;font-family:Menlo,'DejaVu Sans Mono',consolas,'Courier New',monospace\"><span style=\"font-weight: bold\"> Trainable params: </span><span style=\"color: #00af00; text-decoration-color: #00af00\">10,176</span> (39.75 KB)\n",
              "</pre>\n"
            ]
          },
          "metadata": {}
        },
        {
          "output_type": "display_data",
          "data": {
            "text/plain": [
              "\u001b[1m Non-trainable params: \u001b[0m\u001b[38;5;34m0\u001b[0m (0.00 B)\n"
            ],
            "text/html": [
              "<pre style=\"white-space:pre;overflow-x:auto;line-height:normal;font-family:Menlo,'DejaVu Sans Mono',consolas,'Courier New',monospace\"><span style=\"font-weight: bold\"> Non-trainable params: </span><span style=\"color: #00af00; text-decoration-color: #00af00\">0</span> (0.00 B)\n",
              "</pre>\n"
            ]
          },
          "metadata": {}
        },
        {
          "output_type": "stream",
          "name": "stdout",
          "text": [
            "None\n"
          ]
        }
      ],
      "source": [
        "a = tf.metrics.BinaryAccuracy()\n",
        "def recall_m(y_true, y_pred):\n",
        "    true_positives = K.sum(K.round(K.clip(y_true * y_pred, 0, 1)))\n",
        "    possible_positives = K.sum(K.round(K.clip(y_true, 0, 1)))\n",
        "    return true_positives / (possible_positives + K.epsilon())\n",
        "\n",
        "def precision_m(y_true, y_pred):\n",
        "    true_positives = K.sum(K.round(K.clip(y_true * y_pred, 0, 1)))\n",
        "    predicted_positives = K.sum(K.round(K.clip(y_pred, 0, 1)))\n",
        "    return true_positives / (predicted_positives + K.epsilon())\n",
        "\n",
        "def f1_m(y_true, y_pred):\n",
        "    precision = precision_m(y_true, y_pred)\n",
        "    recall = recall_m(y_true, y_pred)\n",
        "    return 2*((precision*recall)/(precision+recall+K.epsilon()))\n",
        "\n",
        "def accuracy_m(y_true, y_pred):\n",
        "    a.update_state(y_true,y_pred)\n",
        "    return a.result()\n",
        "\n",
        "def custom_loss_function(y_true, y_pred):\n",
        "    print(f\"y_true shape: {y_true.shape}, y_pred shape: {y_pred.shape}\")\n",
        "    loss = K.mean((1 - y_true) * K.sqrt(y_pred) - y_true * K.log(1 - K.exp(-K.sqrt(y_pred))))\n",
        "    return loss\n",
        "\n",
        "def create_model():\n",
        "    embed_dim = 16  # Embedding size for each token\n",
        "    num_heads = 2  # Number of attention heads\n",
        "    ff_dim = 16  # Hidden layer size in feed forward network inside transformer\n",
        "\n",
        "    vocab_size = tokenizer.n_words  # Only consider the top 20k words\n",
        "    maxlen = 50\n",
        "    #\"\"\"---------Modified code blcok-------------------\n",
        "    class PositionalEmbedding(layers.Layer):\n",
        "        def __init__(self, sequence_length, vocab_size, embed_dim, **kwargs):\n",
        "            super(PositionalEmbedding, self).__init__(**kwargs)\n",
        "            self.token_embeddings = layers.Embedding(input_dim=vocab_size, output_dim=embed_dim)\n",
        "            self.position_embeddings = layers.Embedding(input_dim=sequence_length, output_dim=embed_dim)\n",
        "\n",
        "        def call(self, inputs):\n",
        "            positions = tf.range(start=0, limit=tf.shape(inputs)[-1], delta=1)\n",
        "            positions = self.position_embeddings(positions)\n",
        "            x = self.token_embeddings(inputs)\n",
        "            return x + positions\n",
        "\n",
        "    class SquaredSumLayer(tf.keras.layers.Layer):\n",
        "        def call(self, x):\n",
        "            return tf.reduce_sum(tf.square(x), axis=1)\n",
        "#-----------------------------------------------\"\"\"\n",
        "\n",
        "    inputs = layers.Input(shape=(maxlen,))\n",
        "    embedding_layer = PositionalEmbedding(maxlen, vocab_size, embed_dim)\n",
        "    x = embedding_layer(inputs)\n",
        "    transformer_block = TransformerEncoder(embed_dim, num_heads, ff_dim)\n",
        "    transformer_block2 = TransformerEncoder(embed_dim, num_heads, ff_dim)\n",
        "\n",
        "    x = transformer_block(x, training=True)\n",
        "    x = transformer_block2(x, training=True)\n",
        "\n",
        "    #outputs = tf.gather(x, 0, axis=1)  # Take the CLS token as embedding\n",
        "    outputs = tf.keras.layers.Lambda(lambda x: tf.gather(x, 0, axis=1))(x)\n",
        "    outputs = tf.keras.layers.Lambda(lambda x: K.sum(K.square(x), axis=1))(outputs)\n",
        "\n",
        "    model = tf.keras.Model(inputs=inputs, outputs=outputs)\n",
        "    return model\n",
        "\n",
        "lr_schedule = tf.keras.optimizers.schedules.ExponentialDecay(\n",
        "    initial_learning_rate=0.0001, # 0.0001,\n",
        "    decay_steps=10000,\n",
        "    decay_rate=1-0.001)\n",
        "# Compile the model within the distributed strategy scope\n",
        "with mirrored_strategy.scope():\n",
        "    model = create_model()\n",
        "\n",
        "    model_opt = tf.keras.optimizers.Adam(learning_rate=lr_schedule, beta_1=0.9, beta_2=0.999)\n",
        "\n",
        "    model.compile(\n",
        "        optimizer=model_opt,\n",
        "        loss=custom_loss_function,\n",
        "        metrics=['binary_accuracy', recall_m, precision_m],\n",
        "        loss_weights=[1.0]\n",
        "    )\n",
        "\n",
        "    print(model.summary())\n",
        "\n"
      ]
    },
    {
      "cell_type": "markdown",
      "metadata": {
        "id": "MQmLA2orbjYq"
      },
      "source": [
        "# Evaluation steps"
      ]
    },
    {
      "cell_type": "code",
      "execution_count": 51,
      "metadata": {
        "colab": {
          "base_uri": "https://localhost:8080/"
        },
        "id": "DHXNHOPhOhN6",
        "outputId": "b141e48d-b57f-42f6-cf9b-b02daee2d9e4"
      },
      "outputs": [
        {
          "output_type": "stream",
          "name": "stdout",
          "text": [
            "Currently Running Epoch - 1\n",
            "\u001b[1m492/492\u001b[0m \u001b[32m━━━━━━━━━━━━━━━━━━━━\u001b[0m\u001b[37m\u001b[0m \u001b[1m22s\u001b[0m 44ms/step - binary_accuracy: 0.9997 - loss: 0.0233 - precision_m: 1.0000 - recall_m: 0.9993\n",
            "\u001b[1m205/205\u001b[0m \u001b[32m━━━━━━━━━━━━━━━━━━━━\u001b[0m\u001b[37m\u001b[0m \u001b[1m3s\u001b[0m 15ms/step\n",
            "\u001b[1m492/492\u001b[0m \u001b[32m━━━━━━━━━━━━━━━━━━━━\u001b[0m\u001b[37m\u001b[0m \u001b[1m7s\u001b[0m 15ms/step\n",
            "Train AUC: 1.0, Test AUC: 0.5176865166240139\n",
            "Using trainset to find threshold:\n",
            "threshold value:  11.76415\n",
            "f1:  0.05530033804281876\n",
            "recall:  0.02843644143341059\n",
            "precision:  1.0\n",
            "Accuracy:  0.9740147342822402\n",
            "##################################\n",
            "Using testset to find threshold:\n",
            "threshold value:  5.677524e-05\n",
            "f1:  0.05074883542317132\n",
            "recall:  0.5418969513282225\n",
            "precision:  0.026620948176953325\n",
            "Accuracy:  0.4578022554419093\n",
            "##################################\n",
            "Currently Running Epoch - 2\n",
            "\u001b[1m492/492\u001b[0m \u001b[32m━━━━━━━━━━━━━━━━━━━━\u001b[0m\u001b[37m\u001b[0m \u001b[1m21s\u001b[0m 42ms/step - binary_accuracy: 0.9997 - loss: 0.0155 - precision_m: 1.0000 - recall_m: 0.9993\n",
            "\u001b[1m205/205\u001b[0m \u001b[32m━━━━━━━━━━━━━━━━━━━━\u001b[0m\u001b[37m\u001b[0m \u001b[1m3s\u001b[0m 15ms/step\n",
            "\u001b[1m492/492\u001b[0m \u001b[32m━━━━━━━━━━━━━━━━━━━━\u001b[0m\u001b[37m\u001b[0m \u001b[1m7s\u001b[0m 15ms/step\n",
            "Train AUC: 1.0, Test AUC: 0.5250599222083655\n",
            "Using trainset to find threshold:\n",
            "threshold value:  10.667881\n",
            "f1:  0.05530033804281876\n",
            "recall:  0.02843644143341059\n",
            "precision:  1.0\n",
            "Accuracy:  0.9740147342822402\n",
            "##################################\n",
            "Using testset to find threshold:\n",
            "threshold value:  3.1060565e-05\n",
            "f1:  0.04989396278030845\n",
            "recall:  0.8860759493670886\n",
            "precision:  0.025669697619225933\n",
            "Accuracy:  0.0974298452661946\n",
            "##################################\n",
            "Currently Running Epoch - 3\n",
            "\u001b[1m492/492\u001b[0m \u001b[32m━━━━━━━━━━━━━━━━━━━━\u001b[0m\u001b[37m\u001b[0m \u001b[1m21s\u001b[0m 43ms/step - binary_accuracy: 0.9997 - loss: 0.0112 - precision_m: 1.0000 - recall_m: 0.9993\n",
            "\u001b[1m205/205\u001b[0m \u001b[32m━━━━━━━━━━━━━━━━━━━━\u001b[0m\u001b[37m\u001b[0m \u001b[1m3s\u001b[0m 15ms/step\n",
            "\u001b[1m492/492\u001b[0m \u001b[32m━━━━━━━━━━━━━━━━━━━━\u001b[0m\u001b[37m\u001b[0m \u001b[1m8s\u001b[0m 15ms/step\n",
            "Train AUC: 1.0, Test AUC: 0.5349046708138434\n",
            "Using trainset to find threshold:\n",
            "threshold value:  14.10963\n",
            "f1:  0.05530033804281876\n",
            "recall:  0.02843644143341059\n",
            "precision:  1.0\n",
            "Accuracy:  0.9740147342822402\n",
            "##################################\n",
            "Using testset to find threshold:\n",
            "threshold value:  2.0913758e-05\n",
            "f1:  0.052057523819254645\n",
            "recall:  0.9991977179532894\n",
            "precision:  0.026724937473326323\n",
            "Accuracy:  0.026724364017833728\n",
            "##################################\n",
            "Currently Running Epoch - 4\n",
            "\u001b[1m492/492\u001b[0m \u001b[32m━━━━━━━━━━━━━━━━━━━━\u001b[0m\u001b[37m\u001b[0m \u001b[1m21s\u001b[0m 43ms/step - binary_accuracy: 0.9997 - loss: 0.0086 - precision_m: 1.0000 - recall_m: 0.9993\n",
            "\u001b[1m205/205\u001b[0m \u001b[32m━━━━━━━━━━━━━━━━━━━━\u001b[0m\u001b[37m\u001b[0m \u001b[1m3s\u001b[0m 15ms/step\n",
            "\u001b[1m492/492\u001b[0m \u001b[32m━━━━━━━━━━━━━━━━━━━━\u001b[0m\u001b[37m\u001b[0m \u001b[1m7s\u001b[0m 15ms/step\n",
            "Train AUC: 0.9999999999999999, Test AUC: 0.5178025001637054\n",
            "Using trainset to find threshold:\n",
            "threshold value:  0.0005658472\n",
            "f1:  0.05614278287991682\n",
            "recall:  0.02888215368158317\n",
            "precision:  1.0\n",
            "Accuracy:  0.9740266552225639\n",
            "##################################\n",
            "Using testset to find threshold:\n",
            "threshold value:  1.3216374e-05\n",
            "f1:  0.052066570530906256\n",
            "recall:  0.9993760028525583\n",
            "precision:  0.026729578492357357\n",
            "Accuracy:  0.026729132393963236\n",
            "##################################\n",
            "Currently Running Epoch - 5\n",
            "\u001b[1m492/492\u001b[0m \u001b[32m━━━━━━━━━━━━━━━━━━━━\u001b[0m\u001b[37m\u001b[0m \u001b[1m21s\u001b[0m 43ms/step - binary_accuracy: 0.9997 - loss: 0.0088 - precision_m: 1.0000 - recall_m: 0.9993\n",
            "\u001b[1m205/205\u001b[0m \u001b[32m━━━━━━━━━━━━━━━━━━━━\u001b[0m\u001b[37m\u001b[0m \u001b[1m3s\u001b[0m 15ms/step\n",
            "\u001b[1m492/492\u001b[0m \u001b[32m━━━━━━━━━━━━━━━━━━━━\u001b[0m\u001b[37m\u001b[0m \u001b[1m8s\u001b[0m 15ms/step\n",
            "Train AUC: 1.0, Test AUC: 0.5653410143218452\n",
            "Using trainset to find threshold:\n",
            "threshold value:  12.674706\n",
            "f1:  0.05530033804281876\n",
            "recall:  0.02843644143341059\n",
            "precision:  1.0\n",
            "Accuracy:  0.9740147342822402\n",
            "##################################\n",
            "Using testset to find threshold:\n",
            "threshold value:  9.3222e-05\n",
            "f1:  0.05419234794743575\n",
            "recall:  0.8100374398288465\n",
            "precision:  0.028033923299284575\n",
            "Accuracy:  0.24376654030469924\n",
            "##################################\n",
            "Currently Running Epoch - 6\n",
            "\u001b[1m492/492\u001b[0m \u001b[32m━━━━━━━━━━━━━━━━━━━━\u001b[0m\u001b[37m\u001b[0m \u001b[1m21s\u001b[0m 43ms/step - binary_accuracy: 0.9997 - loss: 0.0084 - precision_m: 1.0000 - recall_m: 0.9993\n",
            "\u001b[1m205/205\u001b[0m \u001b[32m━━━━━━━━━━━━━━━━━━━━\u001b[0m\u001b[37m\u001b[0m \u001b[1m3s\u001b[0m 15ms/step\n",
            "\u001b[1m492/492\u001b[0m \u001b[32m━━━━━━━━━━━━━━━━━━━━\u001b[0m\u001b[37m\u001b[0m \u001b[1m8s\u001b[0m 15ms/step\n",
            "Train AUC: 1.0, Test AUC: 0.5182728108119657\n",
            "Using trainset to find threshold:\n",
            "threshold value:  13.985559\n",
            "f1:  0.05530033804281876\n",
            "recall:  0.02843644143341059\n",
            "precision:  1.0\n",
            "Accuracy:  0.9740147342822402\n",
            "##################################\n",
            "Using testset to find threshold:\n",
            "threshold value:  2.569879e-05\n",
            "f1:  0.054199442976675394\n",
            "recall:  0.810126582278481\n",
            "precision:  0.028037613841103735\n",
            "Accuracy:  0.243787997997282\n",
            "##################################\n",
            "Currently Running Epoch - 7\n",
            "\u001b[1m492/492\u001b[0m \u001b[32m━━━━━━━━━━━━━━━━━━━━\u001b[0m\u001b[37m\u001b[0m \u001b[1m21s\u001b[0m 43ms/step - binary_accuracy: 0.9998 - loss: 0.0073 - precision_m: 1.0000 - recall_m: 0.9994\n",
            "\u001b[1m205/205\u001b[0m \u001b[32m━━━━━━━━━━━━━━━━━━━━\u001b[0m\u001b[37m\u001b[0m \u001b[1m3s\u001b[0m 15ms/step\n",
            "\u001b[1m492/492\u001b[0m \u001b[32m━━━━━━━━━━━━━━━━━━━━\u001b[0m\u001b[37m\u001b[0m \u001b[1m8s\u001b[0m 15ms/step\n",
            "Train AUC: 1.0, Test AUC: 0.5307580093420532\n",
            "Using trainset to find threshold:\n",
            "threshold value:  14.42865\n",
            "f1:  0.05530033804281876\n",
            "recall:  0.02843644143341059\n",
            "precision:  1.0\n",
            "Accuracy:  0.9740147342822402\n",
            "##################################\n",
            "Using testset to find threshold:\n",
            "threshold value:  4.1967607e-05\n",
            "f1:  0.05218208737749994\n",
            "recall:  0.9896594758423961\n",
            "precision:  0.026797524451353152\n",
            "Accuracy:  0.03844264835610233\n",
            "##################################\n",
            "Currently Running Epoch - 8\n",
            "\u001b[1m492/492\u001b[0m \u001b[32m━━━━━━━━━━━━━━━━━━━━\u001b[0m\u001b[37m\u001b[0m \u001b[1m21s\u001b[0m 43ms/step - binary_accuracy: 0.9997 - loss: 0.0065 - precision_m: 1.0000 - recall_m: 0.9994\n",
            "\u001b[1m205/205\u001b[0m \u001b[32m━━━━━━━━━━━━━━━━━━━━\u001b[0m\u001b[37m\u001b[0m \u001b[1m3s\u001b[0m 15ms/step\n",
            "\u001b[1m492/492\u001b[0m \u001b[32m━━━━━━━━━━━━━━━━━━━━\u001b[0m\u001b[37m\u001b[0m \u001b[1m8s\u001b[0m 15ms/step\n",
            "Train AUC: 1.0, Test AUC: 0.48984178000458917\n",
            "Using trainset to find threshold:\n",
            "threshold value:  14.593574\n",
            "f1:  0.05530033804281876\n",
            "recall:  0.02843644143341059\n",
            "precision:  1.0\n",
            "Accuracy:  0.9740147342822402\n",
            "##################################\n",
            "Using testset to find threshold:\n",
            "threshold value:  4.583117e-05\n",
            "f1:  0.049955886877172284\n",
            "recall:  0.8757354252094848\n",
            "precision:  0.025711287160844726\n",
            "Accuracy:  0.10912667191188041\n",
            "##################################\n",
            "Currently Running Epoch - 9\n",
            "\u001b[1m492/492\u001b[0m \u001b[32m━━━━━━━━━━━━━━━━━━━━\u001b[0m\u001b[37m\u001b[0m \u001b[1m21s\u001b[0m 43ms/step - binary_accuracy: 0.9998 - loss: 0.0059 - precision_m: 1.0000 - recall_m: 0.9995\n",
            "\u001b[1m205/205\u001b[0m \u001b[32m━━━━━━━━━━━━━━━━━━━━\u001b[0m\u001b[37m\u001b[0m \u001b[1m3s\u001b[0m 15ms/step\n",
            "\u001b[1m492/492\u001b[0m \u001b[32m━━━━━━━━━━━━━━━━━━━━\u001b[0m\u001b[37m\u001b[0m \u001b[1m8s\u001b[0m 15ms/step\n",
            "Train AUC: 1.0, Test AUC: 0.5003335322189523\n",
            "Using trainset to find threshold:\n",
            "threshold value:  14.812384\n",
            "f1:  0.05530033804281876\n",
            "recall:  0.02843644143341059\n",
            "precision:  1.0\n",
            "Accuracy:  0.9740147342822402\n",
            "##################################\n",
            "Using testset to find threshold:\n",
            "threshold value:  1.9826712e-05\n",
            "f1:  0.05418203613527319\n",
            "recall:  0.8098591549295775\n",
            "precision:  0.028028617882165655\n",
            "Accuracy:  0.24378084543308776\n",
            "##################################\n",
            "Currently Running Epoch - 10\n",
            "\u001b[1m492/492\u001b[0m \u001b[32m━━━━━━━━━━━━━━━━━━━━\u001b[0m\u001b[37m\u001b[0m \u001b[1m21s\u001b[0m 43ms/step - binary_accuracy: 0.9998 - loss: 0.0047 - precision_m: 1.0000 - recall_m: 0.9996\n",
            "\u001b[1m205/205\u001b[0m \u001b[32m━━━━━━━━━━━━━━━━━━━━\u001b[0m\u001b[37m\u001b[0m \u001b[1m3s\u001b[0m 15ms/step\n",
            "\u001b[1m492/492\u001b[0m \u001b[32m━━━━━━━━━━━━━━━━━━━━\u001b[0m\u001b[37m\u001b[0m \u001b[1m7s\u001b[0m 15ms/step\n",
            "Train AUC: 1.0, Test AUC: 0.5185214072081799\n",
            "Using trainset to find threshold:\n",
            "threshold value:  14.795575\n",
            "f1:  0.05530033804281876\n",
            "recall:  0.02843644143341059\n",
            "precision:  1.0\n",
            "Accuracy:  0.9740147342822402\n",
            "##################################\n",
            "Using testset to find threshold:\n",
            "threshold value:  2.9026078e-06\n",
            "f1:  0.054205245187935173\n",
            "recall:  0.8102157247281155\n",
            "precision:  0.028040612457078333\n",
            "Accuracy:  0.2437903821853468\n",
            "##################################\n",
            "Currently Running Epoch - 11\n",
            "\u001b[1m492/492\u001b[0m \u001b[32m━━━━━━━━━━━━━━━━━━━━\u001b[0m\u001b[37m\u001b[0m \u001b[1m21s\u001b[0m 43ms/step - binary_accuracy: 0.9999 - loss: 0.0037 - precision_m: 1.0000 - recall_m: 0.9996\n",
            "\u001b[1m205/205\u001b[0m \u001b[32m━━━━━━━━━━━━━━━━━━━━\u001b[0m\u001b[37m\u001b[0m \u001b[1m3s\u001b[0m 15ms/step\n",
            "\u001b[1m492/492\u001b[0m \u001b[32m━━━━━━━━━━━━━━━━━━━━\u001b[0m\u001b[37m\u001b[0m \u001b[1m8s\u001b[0m 15ms/step\n",
            "Train AUC: 1.0, Test AUC: 0.5288198096300983\n",
            "Using trainset to find threshold:\n",
            "threshold value:  15.329214\n",
            "f1:  0.05530033804281876\n",
            "recall:  0.02843644143341059\n",
            "precision:  1.0\n",
            "Accuracy:  0.9740147342822402\n",
            "##################################\n",
            "Using testset to find threshold:\n",
            "threshold value:  6.376069e-06\n",
            "f1:  0.05419234794743575\n",
            "recall:  0.8100374398288465\n",
            "precision:  0.028033923299284575\n",
            "Accuracy:  0.24376654030469924\n",
            "##################################\n",
            "Currently Running Epoch - 12\n",
            "\u001b[1m492/492\u001b[0m \u001b[32m━━━━━━━━━━━━━━━━━━━━\u001b[0m\u001b[37m\u001b[0m \u001b[1m21s\u001b[0m 43ms/step - binary_accuracy: 0.9999 - loss: 0.0036 - precision_m: 1.0000 - recall_m: 0.9998\n",
            "\u001b[1m205/205\u001b[0m \u001b[32m━━━━━━━━━━━━━━━━━━━━\u001b[0m\u001b[37m\u001b[0m \u001b[1m3s\u001b[0m 15ms/step\n",
            "\u001b[1m492/492\u001b[0m \u001b[32m━━━━━━━━━━━━━━━━━━━━\u001b[0m\u001b[37m\u001b[0m \u001b[1m7s\u001b[0m 15ms/step\n",
            "Train AUC: 1.0, Test AUC: 0.5005507425293613\n",
            "Using trainset to find threshold:\n",
            "threshold value:  15.383813\n",
            "f1:  0.05530033804281876\n",
            "recall:  0.02843644143341059\n",
            "precision:  1.0\n",
            "Accuracy:  0.9740147342822402\n",
            "##################################\n",
            "Using testset to find threshold:\n",
            "threshold value:  1.1703693e-05\n",
            "f1:  0.054205245187935173\n",
            "recall:  0.8102157247281155\n",
            "precision:  0.028040612457078333\n",
            "Accuracy:  0.2437903821853468\n",
            "##################################\n",
            "Currently Running Epoch - 13\n",
            "\u001b[1m492/492\u001b[0m \u001b[32m━━━━━━━━━━━━━━━━━━━━\u001b[0m\u001b[37m\u001b[0m \u001b[1m21s\u001b[0m 43ms/step - binary_accuracy: 1.0000 - loss: 0.0035 - precision_m: 1.0000 - recall_m: 0.9999\n",
            "\u001b[1m205/205\u001b[0m \u001b[32m━━━━━━━━━━━━━━━━━━━━\u001b[0m\u001b[37m\u001b[0m \u001b[1m3s\u001b[0m 16ms/step\n",
            "\u001b[1m492/492\u001b[0m \u001b[32m━━━━━━━━━━━━━━━━━━━━\u001b[0m\u001b[37m\u001b[0m \u001b[1m8s\u001b[0m 15ms/step\n",
            "Train AUC: 1.0, Test AUC: 0.5054067740447465\n",
            "Using trainset to find threshold:\n",
            "threshold value:  16.805185\n",
            "f1:  0.05530033804281876\n",
            "recall:  0.02843644143341059\n",
            "precision:  1.0\n",
            "Accuracy:  0.9740147342822402\n",
            "##################################\n",
            "Using testset to find threshold:\n",
            "threshold value:  4.122045e-05\n",
            "f1:  0.05415173219940719\n",
            "recall:  0.8094134426814049\n",
            "precision:  0.02801293284300417\n",
            "Accuracy:  0.24374985098824595\n",
            "##################################\n",
            "Currently Running Epoch - 14\n",
            "\u001b[1m492/492\u001b[0m \u001b[32m━━━━━━━━━━━━━━━━━━━━\u001b[0m\u001b[37m\u001b[0m \u001b[1m21s\u001b[0m 43ms/step - binary_accuracy: 1.0000 - loss: 0.0050 - precision_m: 1.0000 - recall_m: 1.0000\n",
            "\u001b[1m205/205\u001b[0m \u001b[32m━━━━━━━━━━━━━━━━━━━━\u001b[0m\u001b[37m\u001b[0m \u001b[1m3s\u001b[0m 15ms/step\n",
            "\u001b[1m492/492\u001b[0m \u001b[32m━━━━━━━━━━━━━━━━━━━━\u001b[0m\u001b[37m\u001b[0m \u001b[1m8s\u001b[0m 16ms/step\n",
            "Train AUC: 1.0, Test AUC: 0.4767592105381562\n",
            "Using trainset to find threshold:\n",
            "threshold value:  18.726896\n",
            "f1:  0.05530033804281876\n",
            "recall:  0.02843644143341059\n",
            "precision:  1.0\n",
            "Accuracy:  0.9740147342822402\n",
            "##################################\n",
            "Using testset to find threshold:\n",
            "threshold value:  2.7196284e-05\n",
            "f1:  0.05208466370212124\n",
            "recall:  0.9997325726510965\n",
            "precision:  0.026738860397637728\n",
            "Accuracy:  0.026738669146222253\n",
            "##################################\n",
            "Currently Running Epoch - 15\n",
            "\u001b[1m492/492\u001b[0m \u001b[32m━━━━━━━━━━━━━━━━━━━━\u001b[0m\u001b[37m\u001b[0m \u001b[1m21s\u001b[0m 43ms/step - binary_accuracy: 1.0000 - loss: 0.0043 - precision_m: 1.0000 - recall_m: 0.9999\n",
            "\u001b[1m205/205\u001b[0m \u001b[32m━━━━━━━━━━━━━━━━━━━━\u001b[0m\u001b[37m\u001b[0m \u001b[1m3s\u001b[0m 15ms/step\n",
            "\u001b[1m492/492\u001b[0m \u001b[32m━━━━━━━━━━━━━━━━━━━━\u001b[0m\u001b[37m\u001b[0m \u001b[1m8s\u001b[0m 15ms/step\n",
            "Train AUC: 1.0, Test AUC: 0.5372062869707441\n",
            "Using trainset to find threshold:\n",
            "threshold value:  19.745167\n",
            "f1:  0.05530033804281876\n",
            "recall:  0.02843644143341059\n",
            "precision:  1.0\n",
            "Accuracy:  0.9740147342822402\n",
            "##################################\n",
            "Using testset to find threshold:\n",
            "threshold value:  3.3589815e-06\n",
            "f1:  0.05433887300741315\n",
            "recall:  0.7997860581208771\n",
            "precision:  0.0281248628552441\n",
            "Accuracy:  0.2554657511384498\n",
            "##################################\n",
            "Currently Running Epoch - 16\n",
            "\u001b[1m492/492\u001b[0m \u001b[32m━━━━━━━━━━━━━━━━━━━━\u001b[0m\u001b[37m\u001b[0m \u001b[1m21s\u001b[0m 43ms/step - binary_accuracy: 1.0000 - loss: 0.0030 - precision_m: 1.0000 - recall_m: 1.0000\n",
            "\u001b[1m205/205\u001b[0m \u001b[32m━━━━━━━━━━━━━━━━━━━━\u001b[0m\u001b[37m\u001b[0m \u001b[1m3s\u001b[0m 15ms/step\n",
            "\u001b[1m492/492\u001b[0m \u001b[32m━━━━━━━━━━━━━━━━━━━━\u001b[0m\u001b[37m\u001b[0m \u001b[1m7s\u001b[0m 15ms/step\n",
            "Train AUC: 1.0, Test AUC: 0.5359469427429345\n",
            "Using trainset to find threshold:\n",
            "threshold value:  20.62954\n",
            "f1:  0.05563740358783257\n",
            "recall:  0.028614726332679623\n",
            "precision:  1.0\n",
            "Accuracy:  0.9740195026583697\n",
            "##################################\n",
            "Using testset to find threshold:\n",
            "threshold value:  7.915165e-06\n",
            "f1:  0.052066570530906256\n",
            "recall:  0.9993760028525583\n",
            "precision:  0.026729578492357357\n",
            "Accuracy:  0.026729132393963236\n",
            "##################################\n",
            "Currently Running Epoch - 17\n",
            "\u001b[1m492/492\u001b[0m \u001b[32m━━━━━━━━━━━━━━━━━━━━\u001b[0m\u001b[37m\u001b[0m \u001b[1m21s\u001b[0m 43ms/step - binary_accuracy: 1.0000 - loss: 0.0028 - precision_m: 1.0000 - recall_m: 1.0000\n",
            "\u001b[1m205/205\u001b[0m \u001b[32m━━━━━━━━━━━━━━━━━━━━\u001b[0m\u001b[37m\u001b[0m \u001b[1m3s\u001b[0m 15ms/step\n",
            "\u001b[1m492/492\u001b[0m \u001b[32m━━━━━━━━━━━━━━━━━━━━\u001b[0m\u001b[37m\u001b[0m \u001b[1m8s\u001b[0m 15ms/step\n",
            "Train AUC: 1.0, Test AUC: 0.5653828017285779\n",
            "Using trainset to find threshold:\n",
            "threshold value:  19.512081\n",
            "f1:  0.05580589254766031\n",
            "recall:  0.028703868782314138\n",
            "precision:  1.0\n",
            "Accuracy:  0.9740218868464344\n",
            "##################################\n",
            "Using testset to find threshold:\n",
            "threshold value:  1.0703949e-05\n",
            "f1:  0.05419234794743575\n",
            "recall:  0.8100374398288465\n",
            "precision:  0.028033923299284575\n",
            "Accuracy:  0.24376654030469924\n",
            "##################################\n",
            "Currently Running Epoch - 18\n",
            "\u001b[1m492/492\u001b[0m \u001b[32m━━━━━━━━━━━━━━━━━━━━\u001b[0m\u001b[37m\u001b[0m \u001b[1m21s\u001b[0m 43ms/step - binary_accuracy: 1.0000 - loss: 0.0037 - precision_m: 1.0000 - recall_m: 1.0000\n",
            "\u001b[1m205/205\u001b[0m \u001b[32m━━━━━━━━━━━━━━━━━━━━\u001b[0m\u001b[37m\u001b[0m \u001b[1m3s\u001b[0m 15ms/step\n",
            "\u001b[1m492/492\u001b[0m \u001b[32m━━━━━━━━━━━━━━━━━━━━\u001b[0m\u001b[37m\u001b[0m \u001b[1m8s\u001b[0m 15ms/step\n",
            "Train AUC: 1.0, Test AUC: 0.5475428382696712\n",
            "Using trainset to find threshold:\n",
            "threshold value:  18.732496\n",
            "f1:  0.05580589254766031\n",
            "recall:  0.028703868782314138\n",
            "precision:  1.0\n",
            "Accuracy:  0.9740218868464344\n",
            "##################################\n",
            "Using testset to find threshold:\n",
            "threshold value:  4.229253e-06\n",
            "f1:  0.05209371016168695\n",
            "recall:  0.9999108575503655\n",
            "precision:  0.026743501283888332\n",
            "Accuracy:  0.026743437522351764\n",
            "##################################\n",
            "Currently Running Epoch - 19\n",
            "\u001b[1m492/492\u001b[0m \u001b[32m━━━━━━━━━━━━━━━━━━━━\u001b[0m\u001b[37m\u001b[0m \u001b[1m21s\u001b[0m 43ms/step - binary_accuracy: 1.0000 - loss: 0.0034 - precision_m: 1.0000 - recall_m: 1.0000\n",
            "\u001b[1m205/205\u001b[0m \u001b[32m━━━━━━━━━━━━━━━━━━━━\u001b[0m\u001b[37m\u001b[0m \u001b[1m3s\u001b[0m 15ms/step\n",
            "\u001b[1m492/492\u001b[0m \u001b[32m━━━━━━━━━━━━━━━━━━━━\u001b[0m\u001b[37m\u001b[0m \u001b[1m8s\u001b[0m 15ms/step\n",
            "Train AUC: 1.0, Test AUC: 0.5372172870702401\n",
            "Using trainset to find threshold:\n",
            "threshold value:  19.394836\n",
            "f1:  0.05580589254766031\n",
            "recall:  0.028703868782314138\n",
            "precision:  1.0\n",
            "Accuracy:  0.9740218868464344\n",
            "##################################\n",
            "Using testset to find threshold:\n",
            "threshold value:  5.471417e-06\n",
            "f1:  0.05209371016168695\n",
            "recall:  0.9999108575503655\n",
            "precision:  0.026743501283888332\n",
            "Accuracy:  0.026743437522351764\n",
            "##################################\n",
            "Currently Running Epoch - 20\n",
            "\u001b[1m492/492\u001b[0m \u001b[32m━━━━━━━━━━━━━━━━━━━━\u001b[0m\u001b[37m\u001b[0m \u001b[1m21s\u001b[0m 43ms/step - binary_accuracy: 1.0000 - loss: 0.0026 - precision_m: 1.0000 - recall_m: 1.0000\n",
            "\u001b[1m205/205\u001b[0m \u001b[32m━━━━━━━━━━━━━━━━━━━━\u001b[0m\u001b[37m\u001b[0m \u001b[1m3s\u001b[0m 15ms/step\n",
            "\u001b[1m492/492\u001b[0m \u001b[32m━━━━━━━━━━━━━━━━━━━━\u001b[0m\u001b[37m\u001b[0m \u001b[1m8s\u001b[0m 15ms/step\n",
            "Train AUC: 1.0, Test AUC: 0.519185850734204\n",
            "Using trainset to find threshold:\n",
            "threshold value:  20.315334\n",
            "f1:  0.05580589254766031\n",
            "recall:  0.028703868782314138\n",
            "precision:  1.0\n",
            "Accuracy:  0.9740218868464344\n",
            "##################################\n",
            "Using testset to find threshold:\n",
            "threshold value:  4.483237e-06\n",
            "f1:  0.05419234794743575\n",
            "recall:  0.8100374398288465\n",
            "precision:  0.028033923299284575\n",
            "Accuracy:  0.24376654030469924\n",
            "##################################\n"
          ]
        }
      ],
      "source": [
        "from sklearn.metrics import f1_score\n",
        "from sklearn.metrics import confusion_matrix\n",
        "from sklearn.metrics import recall_score\n",
        "from sklearn.metrics import precision_score\n",
        "from sklearn.metrics import accuracy_score\n",
        "from sklearn.metrics import roc_curve\n",
        "from sklearn.metrics import roc_auc_score\n",
        "\n",
        "# We have no idea how original author got the thresholds, we use average of auc score\n",
        "def evaluation_threshold(threshold, y_test, distances):\n",
        "\n",
        "  tr = [threshold]\n",
        "\n",
        "  for t in tr:\n",
        "    res=[]\n",
        "    for d in distances:\n",
        "      if d > t:\n",
        "        res.append(1)\n",
        "      else:\n",
        "        res.append(0)\n",
        "\n",
        "    f1score = f1_score(y_test.astype(np.int32), res)\n",
        "    recall = recall_score(y_test.astype(np.int32), res)\n",
        "    precision = precision_score(y_test.astype(np.int32), res)\n",
        "    accuracy = accuracy_score(y_test.astype(np.int32), res)\n",
        "    print('threshold value: ', t)\n",
        "    print('f1: ', f1score)\n",
        "    print('recall: ',  recall)\n",
        "    print('precision: ', precision)\n",
        "    print('Accuracy: ', accuracy)\n",
        "    print('##################################')\n",
        "    return t, f1score, recall, precision, accuracy\n",
        "\n",
        "max_accuracy = 0\n",
        "max_recall = 0\n",
        "max_precision = 0\n",
        "max_f1score = 0\n",
        "\n",
        "max_accuracy_test = 0\n",
        "max_recall_test = 0\n",
        "max_precision_test = 0\n",
        "max_f1score_test = 0\n",
        "\n",
        "with mirrored_strategy.scope():\n",
        "    for i in range(20):\n",
        "        print(f\"Currently Running Epoch - {i+1}\")\n",
        "        model.fit(x_train, y_train, batch_size=2048, epochs=1)\n",
        "\n",
        "        # Evaluate performance\n",
        "        test_distances = model.predict(x_test, batch_size=2048)\n",
        "        train_distances = model.predict(x_train, batch_size=2048)\n",
        "\n",
        "        test_auc = roc_auc_score(y_test.astype(np.int32), test_distances)\n",
        "        train_auc = roc_auc_score(y_train.astype(np.int32), train_distances)\n",
        "\n",
        "        fpr_test, tpr_test, thresholds_test = roc_curve(y_test.astype(np.int32), test_distances, pos_label=1)\n",
        "        fpr_train, tpr_train, thresholds_train = roc_curve(y_train.astype(np.int32), train_distances, pos_label=1)\n",
        "\n",
        "        print(f\"Train AUC: {train_auc}, Test AUC: {test_auc}\")\n",
        "\n",
        "        if train_auc == 1: # prevent calculation go wrong, not impacting results\n",
        "          train_auc = 0.99\n",
        "        if test_auc == 1:\n",
        "          test_auc = 0.99\n",
        "\n",
        "        print('Using trainset to find threshold:') # this should be legit\n",
        "        t, f1score, recall, precision, accuracy = evaluation_threshold(np.average(thresholds_train[tpr_train>train_auc]), y_test, test_distances)\n",
        "        print('Using testset to find threshold:') # this is what the authors used, which leaks info\n",
        "        t_test, f1score_test, recall_test, precision_test, accuracy_test = evaluation_threshold(np.average(thresholds_test[tpr_test>test_auc]), y_test, test_distances)\n",
        "\n",
        "        if max_accuracy <= accuracy:\n",
        "          max_accuracy = accuracy\n",
        "          max_recall = recall\n",
        "          max_precision = precision\n",
        "          max_f1score = f1score\n",
        "\n",
        "        if max_accuracy_test <= accuracy_test:\n",
        "          max_accuracy_test = accuracy_test\n",
        "          max_recall_test = recall\n",
        "          max_precision_test = precision_test\n",
        "          max_f1score_test = f1score_test\n"
      ]
    },
    {
      "cell_type": "code",
      "execution_count": 52,
      "metadata": {
        "colab": {
          "base_uri": "https://localhost:8080/"
        },
        "id": "y0sJzUS9oLQe",
        "outputId": "914d8ca4-9132-4784-b6f7-bc72102daf53"
      },
      "outputs": [
        {
          "output_type": "stream",
          "name": "stdout",
          "text": [
            "*******\n",
            "author's best:\n",
            "0.4578022554419093 0.026620948176953325 0.02843644143341059 0.05074883542317132\n"
          ]
        }
      ],
      "source": [
        "print(\"*******\\nauthor's best:\")\n",
        "print(max_accuracy_test, max_precision_test, max_recall_test, max_f1score_test)"
      ]
    },
    {
      "cell_type": "code",
      "execution_count": 53,
      "metadata": {
        "colab": {
          "base_uri": "https://localhost:8080/"
        },
        "id": "6Fmc_HYVoiSm",
        "outputId": "cc490178-a0a1-4d8d-fb13-a49007238002"
      },
      "outputs": [
        {
          "output_type": "stream",
          "name": "stdout",
          "text": [
            "*******\n",
            "train's best:\n",
            "0.9740266552225639 1.0 0.02888215368158317 0.05614278287991682\n"
          ]
        }
      ],
      "source": [
        "print(\"*******\\ntrain's best:\")\n",
        "print(max_accuracy, max_precision, max_recall, max_f1score)"
      ]
    },
    {
      "cell_type": "markdown",
      "source": [
        "# Visualization"
      ],
      "metadata": {
        "id": "xPNtFq4ITc9m"
      }
    },
    {
      "cell_type": "code",
      "source": [
        "#Confusion Matrix Visualization\n",
        "import matplotlib.pyplot as plt\n",
        "from sklearn.metrics import confusion_matrix, ConfusionMatrixDisplay\n",
        "\n",
        "def plot_confusion_matrix(y_true, y_pred, title=\"Confusion Matrix\"):\n",
        "    cm = confusion_matrix(y_true, y_pred)\n",
        "    disp = ConfusionMatrixDisplay(confusion_matrix=cm)\n",
        "    disp.plot(cmap=\"Blues\")\n",
        "    plt.title(title)\n",
        "    plt.show()\n",
        "\n",
        "# Example Usage\n",
        "threshold = np.average(thresholds_test[tpr_test > test_auc])  # Replace with a valid condition\n",
        "predicted_classes = [1 if dist > threshold else 0 for dist in test_distances]  # Adjust threshold as needed\n",
        "plot_confusion_matrix(y_test, predicted_classes)\n"
      ],
      "metadata": {
        "colab": {
          "base_uri": "https://localhost:8080/",
          "height": 472
        },
        "id": "uh7YogUuTbAH",
        "outputId": "f67f2943-bb76-4216-e66c-acf7778cebfb"
      },
      "execution_count": 54,
      "outputs": [
        {
          "output_type": "display_data",
          "data": {
            "text/plain": [
              "<Figure size 640x480 with 2 Axes>"
            ],
            "image/png": "[encoded data removed]"
          },
          "metadata": {}
        }
      ]
    },
    {
      "cell_type": "code",
      "source": [
        "#Plotting ROC Curve\n",
        "def plot_roc_curve(fpr, tpr, auc_score, title=\"ROC Curve\"):\n",
        "    plt.plot(fpr, tpr, color='blue', label=f'AUC = {auc_score:.2f}')\n",
        "    plt.plot([0, 1], [0, 1], 'k--')  # Diagonal line\n",
        "    plt.xlabel('False Positive Rate')\n",
        "    plt.ylabel('True Positive Rate')\n",
        "    plt.title(title)\n",
        "    plt.legend()\n",
        "    plt.show()\n",
        "\n",
        "# Example Usage\n",
        "plot_roc_curve(fpr_test, tpr_test, test_auc, title=\"Test ROC Curve\")\n"
      ],
      "metadata": {
        "colab": {
          "base_uri": "https://localhost:8080/",
          "height": 472
        },
        "id": "PGhDkpMxT6DI",
        "outputId": "58505295-35d8-48ff-8711-16d8ac16ef06"
      },
      "execution_count": 55,
      "outputs": [
        {
          "output_type": "display_data",
          "data": {
            "text/plain": [
              "<Figure size 640x480 with 1 Axes>"
            ],
            "image/png": "[encoded data removed]"
          },
          "metadata": {}
        }
      ]
    },
    {
      "cell_type": "code",
      "source": [
        "#Metrics vs Threshold Plot\n",
        "def plot_metrics_vs_threshold(thresholds, precisions, recalls, f1s):\n",
        "    plt.plot(thresholds, precisions, label=\"Precision\")\n",
        "    plt.plot(thresholds, recalls, label=\"Recall\")\n",
        "    plt.plot(thresholds, f1s, label=\"F1 Score\")\n",
        "    plt.xlabel('Threshold')\n",
        "    plt.ylabel('Metrics')\n",
        "    plt.title('Metrics vs Threshold')\n",
        "    plt.legend()\n",
        "    plt.show()\n",
        "\n",
        "# Example Usage\n",
        "thresholds = thresholds_test\n",
        "precisions = [precision_score(y_test, [1 if dist > t else 0 for dist in test_distances]) for t in thresholds]\n",
        "recalls = [recall_score(y_test, [1 if dist > t else 0 for dist in test_distances]) for t in thresholds]\n",
        "f1s = [f1_score(y_test, [1 if dist > t else 0 for dist in test_distances]) for t in thresholds]\n",
        "plot_metrics_vs_threshold(thresholds, precisions, recalls, f1s)\n"
      ],
      "metadata": {
        "colab": {
          "base_uri": "https://localhost:8080/",
          "height": 561
        },
        "id": "97T2wM-bUcMl",
        "outputId": "07bf83e2-e845-4467-acd1-070b3fa8c95e"
      },
      "execution_count": 56,
      "outputs": [
        {
          "output_type": "stream",
          "name": "stderr",
          "text": [
            "/usr/local/lib/python3.11/dist-packages/sklearn/metrics/_classification.py:1565: UndefinedMetricWarning: Precision is ill-defined and being set to 0.0 due to no predicted samples. Use `zero_division` parameter to control this behavior.\n",
            "  _warn_prf(average, modifier, f\"{metric.capitalize()} is\", len(result))\n",
            "/usr/local/lib/python3.11/dist-packages/sklearn/metrics/_classification.py:1565: UndefinedMetricWarning: Precision is ill-defined and being set to 0.0 due to no predicted samples. Use `zero_division` parameter to control this behavior.\n",
            "  _warn_prf(average, modifier, f\"{metric.capitalize()} is\", len(result))\n"
          ]
        },
        {
          "output_type": "display_data",
          "data": {
            "text/plain": [
              "<Figure size 640x480 with 1 Axes>"
            ],
            "image/png": "[encoded data removed]"
          },
          "metadata": {}
        }
      ]
    }
  ],
  "metadata": {
    "accelerator": "GPU",
    "colab": {
      "gpuClass": "premium",
      "gpuType": "T4",
      "machine_shape": "hm",
      "provenance": [],
      "collapsed_sections": [
        "PTrvJUVgaxWl"
      ]
    },
    "kernelspec": {
      "display_name": "Python 3",
      "name": "python3"
    },
    "language_info": {
      "codemirror_mode": {
        "name": "ipython",
        "version": 3
      },
      "file_extension": ".py",
      "mimetype": "text/x-python",
      "name": "python",
      "nbconvert_exporter": "python",
      "pygments_lexer": "ipython3",
      "version": "3.6.7"
    }
  },
  "nbformat": 4,
  "nbformat_minor": 0
}